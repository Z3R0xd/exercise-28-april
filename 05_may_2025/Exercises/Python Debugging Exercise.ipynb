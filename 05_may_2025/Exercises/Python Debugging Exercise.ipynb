{
 "cells": [
  {
   "cell_type": "markdown",
   "metadata": {
    "id": "Q9BdXBrV3qY-"
   },
   "source": [
    "# Debugging Exercise"
   ]
  },
  {
   "cell_type": "markdown",
   "metadata": {
    "id": "lvTP2ZAt3qZB"
   },
   "source": [
    "## 1. Sum of Numbers\n",
    "Given a function that calculates the sum of numbers from 1 to `n`. Fix the following code to produce correct output!\n",
    "\n",
    "Example:\n",
    "```\n",
    "n = 5\n",
    "output = 15\n",
    "```"
   ]
  },
  {
   "cell_type": "code",
   "execution_count": 30,
   "metadata": {
    "id": "24WM-dGs3qZC"
   },
   "outputs": [
    {
     "name": "stdout",
     "output_type": "stream",
     "text": [
      "15\n"
     ]
    }
   ],
   "source": [
    "def sum_of_numbers(n):\n",
    "    total = 0\n",
    "    for i in range(n):\n",
    "        i += 1\n",
    "        total += i\n",
    "    return total\n",
    "\n",
    "# usage\n",
    "result = sum_of_numbers(5)\n",
    "print(result)"
   ]
  },
  {
   "cell_type": "markdown",
   "metadata": {
    "id": "A-_kAdiB3qZD"
   },
   "source": [
    "## 2. Total Price\n",
    "This code will calculates the total price of 5 items based on the user input. Fix the following code to produce correct output!\n",
    "\n",
    "Example:\n",
    "```\n",
    "item 1 = 10000\n",
    "item 2 = 15000\n",
    "item 3 = 20000\n",
    "item 4 = 1000\n",
    "item 5 = 5000\n",
    "output = 51000\n",
    "```"
   ]
  },
  {
   "cell_type": "code",
   "execution_count": 31,
   "metadata": {
    "id": "4edeIjQG3qZD"
   },
   "outputs": [
    {
     "ename": "ValueError",
     "evalue": "invalid literal for int() with base 10: ''",
     "output_type": "error",
     "traceback": [
      "\u001b[31m---------------------------------------------------------------------------\u001b[39m",
      "\u001b[31mValueError\u001b[39m                                Traceback (most recent call last)",
      "\u001b[36mCell\u001b[39m\u001b[36m \u001b[39m\u001b[32mIn[31]\u001b[39m\u001b[32m, line 5\u001b[39m\n\u001b[32m      3\u001b[39m \u001b[38;5;28;01mfor\u001b[39;00m i \u001b[38;5;129;01min\u001b[39;00m \u001b[38;5;28mrange\u001b[39m(\u001b[32m5\u001b[39m):\n\u001b[32m      4\u001b[39m     i += \u001b[32m1\u001b[39m\n\u001b[32m----> \u001b[39m\u001b[32m5\u001b[39m     harga = \u001b[38;5;28;43mint\u001b[39;49m\u001b[43m(\u001b[49m\u001b[38;5;28;43minput\u001b[39;49m\u001b[43m(\u001b[49m\u001b[33;43mf\u001b[39;49m\u001b[33;43m\"\u001b[39;49m\u001b[33;43mMasukkan harga item ke-\u001b[39;49m\u001b[38;5;132;43;01m{\u001b[39;49;00m\u001b[43mi\u001b[49m\u001b[38;5;132;43;01m}\u001b[39;49;00m\u001b[33;43m : \u001b[39;49m\u001b[33;43m\"\u001b[39;49m\u001b[43m)\u001b[49m\u001b[43m)\u001b[49m\n\u001b[32m      6\u001b[39m     total_harga += harga\n\u001b[32m      8\u001b[39m \u001b[38;5;28mprint\u001b[39m(\u001b[33mf\u001b[39m\u001b[33m\"\u001b[39m\u001b[33mTotal harga belanja Anda: Rp \u001b[39m\u001b[38;5;132;01m{\u001b[39;00mtotal_harga\u001b[38;5;132;01m}\u001b[39;00m\u001b[33m\"\u001b[39m)\n",
      "\u001b[31mValueError\u001b[39m: invalid literal for int() with base 10: ''"
     ]
    }
   ],
   "source": [
    "total_harga = 0\n",
    "\n",
    "for i in range(5):\n",
    "    i += 1\n",
    "    harga = int(input(f\"Masukkan harga item ke-{i} : \"))\n",
    "    total_harga += harga\n",
    "\n",
    "print(f\"Total harga belanja Anda: Rp {total_harga}\")"
   ]
  },
  {
   "cell_type": "markdown",
   "metadata": {
    "id": "C7esCKWM3qZE"
   },
   "source": [
    "## 3. Rock, Paper, Scissor\n",
    "Fix this Rock, Paper, Scissor app to produce the correct output.\n",
    "\n",
    "Example\n",
    "```\n",
    "User = 1 (\"Rock\")\n",
    "AI = Paper\n",
    "output = AI Wins!\n",
    "```\n",
    "\n",
    "Bonus:\n",
    "- add validation for invalid input/number\n",
    "    \n",
    "    Example:\n",
    "    ```\n",
    "    User = \"Rock\"\n",
    "    output = \"Invalid number, try again!\"\n",
    "\n",
    "    OR\n",
    "\n",
    "    User = 1234567\n",
    "    output = \"Invalid number, try again!\"\n",
    "    ```"
   ]
  },
  {
   "cell_type": "code",
   "execution_count": null,
   "metadata": {
    "id": "rTQGffJb3qZE"
   },
   "outputs": [
    {
     "name": "stdout",
     "output_type": "stream",
     "text": [
      "\n",
      "===================\n",
      "Choose your weapon:\n",
      "1. Rock\n",
      "2. Paper\n",
      "3. Scissor\n",
      "99. Exit\n",
      "input numbers from 1 to 3, or 99:\n"
     ]
    },
    {
     "ename": "ValueError",
     "evalue": "invalid literal for int() with base 10: 'Rock'",
     "output_type": "error",
     "traceback": [
      "\u001b[31m---------------------------------------------------------------------------\u001b[39m",
      "\u001b[31mValueError\u001b[39m                                Traceback (most recent call last)",
      "\u001b[36mCell\u001b[39m\u001b[36m \u001b[39m\u001b[32mIn[19]\u001b[39m\u001b[32m, line 18\u001b[39m\n\u001b[32m     14\u001b[39m aiSelect = random.choice(weapons)\n\u001b[32m     16\u001b[39m \u001b[38;5;28mprint\u001b[39m(\u001b[33m\"\u001b[39m\u001b[33minput numbers from 1 to 3, or 99:\u001b[39m\u001b[33m\"\u001b[39m)\n\u001b[32m---> \u001b[39m\u001b[32m18\u001b[39m user = \u001b[38;5;28;43mint\u001b[39;49m\u001b[43m(\u001b[49m\u001b[38;5;28;43minput\u001b[39;49m\u001b[43m(\u001b[49m\u001b[43m)\u001b[49m\u001b[43m)\u001b[49m    \n\u001b[32m     20\u001b[39m \u001b[38;5;28;01mif\u001b[39;00m user \u001b[38;5;129;01mnot\u001b[39;00m \u001b[38;5;129;01min\u001b[39;00m [\u001b[32m1\u001b[39m,\u001b[32m2\u001b[39m,\u001b[32m3\u001b[39m,\u001b[32m99\u001b[39m]:\n\u001b[32m     21\u001b[39m     \u001b[38;5;28mprint\u001b[39m(\u001b[33m\"\u001b[39m\u001b[33mInvalid Number, try again!\u001b[39m\u001b[33m\"\u001b[39m)\n",
      "\u001b[31mValueError\u001b[39m: invalid literal for int() with base 10: 'Rock'"
     ]
    }
   ],
   "source": [
    "import random\n",
    "\n",
    "while (True):\n",
    "    print()\n",
    "\n",
    "    print(\"===================\")\n",
    "    print(\"Choose your weapon:\")\n",
    "    print(\"1. Rock\")\n",
    "    print(\"2. Paper\")\n",
    "    print(\"3. Scissor\")\n",
    "    print(\"99. Exit\")\n",
    "\n",
    "    weapons = [\"Rock\", \"Paper\", \"Scissor\"]\n",
    "    aiSelect = random.choice(weapons)\n",
    "\n",
    "    print(\"input numbers from 1 to 3, or 99:\")\n",
    "    \n",
    "    try:\n",
    "        user = int(input())   \n",
    "    except ValueError:\n",
    "        print(\"Invalid number, try again!\")\n",
    "        continue \n",
    "\n",
    "    if user not in [1,2,3,99]:\n",
    "        print(\"Invalid Number, try again!\")\n",
    "        continue\n",
    "\n",
    "    if user == 99:\n",
    "        print(\"GGWP!\")\n",
    "        break\n",
    "\n",
    "    user -= 1\n",
    "    userSelect = weapons[user]\n",
    "\n",
    "    print(\"User: \", userSelect, \" VS \", \"AI:\", aiSelect)\n",
    "\n",
    "    # Logic\n",
    "    if userSelect == aiSelect:\n",
    "        print(\"Draw!\")\n",
    "    elif userSelect == \"Rock\":\n",
    "        if aiSelect == \"Scissor\":\n",
    "            print(\"User Wins!\")\n",
    "        else:\n",
    "            print(\"AI Wins!\")\n",
    "    elif userSelect == \"Paper\":\n",
    "        if aiSelect == \"Scissor\":\n",
    "            print(\"AI Wins!\")\n",
    "        else:\n",
    "            print(\"User Wins!\")\n",
    "    else:\n",
    "        if aiSelect == \"Rock\":\n",
    "            print(\"AI Wins!\")\n",
    "        else:\n",
    "            print(\"User Wins!\")"
   ]
  },
  {
   "cell_type": "markdown",
   "metadata": {
    "id": "bX56slJm3qZF"
   },
   "source": [
    "## 4. OOP\n",
    "Identify and debug the OOP code below\n",
    "\n",
    "Hint:\n",
    "- `Car` and `Motorbike` are child of `Vehicle`.\n",
    "\n",
    "Example output\n",
    "- `vehicle.drive()` -> `Driving (color) vehicle at max speed of (max_speed)`\n",
    "- `car.drive()` -> `Driving (color) car with (number_of_wheels) wheels at max speed of (max_speed)`\n",
    "- `bike.drive()` -> `Riding (color) bicycle with (number_of_wheels) wheels at max speed of (max_speed)`"
   ]
  },
  {
   "cell_type": "code",
   "execution_count": null,
   "metadata": {
    "id": "ln17kta_3qZG"
   },
   "outputs": [
    {
     "name": "stdout",
     "output_type": "stream",
     "text": [
      "Driving red car with 4 wheels at max speed of 200\n",
      "Riding blue bicycle with 2 wheels at max speed of 30\n"
     ]
    }
   ],
   "source": [
    "class Vehicle:\n",
    "    def __init__(self, color, max_speed):\n",
    "        self.color = color\n",
    "        self.max_speed = max_speed\n",
    "\n",
    "    def drive(self):\n",
    "        print(f\"Driving {self.color} vehicle at max speed of {self.max_speed}\")\n",
    "\n",
    "class Car(Vehicle):\n",
    "    def __init__(self, color, max_speed, num_wheels=4):\n",
    "        super().__init__(color, max_speed)\n",
    "        self.num_wheels = num_wheels\n",
    "\n",
    "    def drive(self):\n",
    "        print(f\"Driving {self.color} car with {self.num_wheels} wheels at max speed of {self.max_speed}\")\n",
    "\n",
    "class Motorbike(Vehicle):\n",
    "    def __init__(self, color, max_speed, num_wheels=2):\n",
    "        super().__init__(color, max_speed)\n",
    "        self.num_wheels = num_wheels\n",
    "\n",
    "    def drive(self):\n",
    "        print(f\"Riding {self.color} bicycle with {self.num_wheels} wheels at max speed of {self.max_speed}\")\n",
    "\n",
    "# Create instances\n",
    "my_car = Car(\"red\", 200)\n",
    "my_bike = Motorbike(\"blue\", 30)\n",
    "\n",
    "# Drive the vehicles\n",
    "my_car.drive()\n",
    "my_bike.drive()"
   ]
  },
  {
   "cell_type": "markdown",
   "metadata": {
    "id": "KGQV_cS1FSvp"
   },
   "source": [
    "## 5. Word Frequency Counter\n",
    "Fix the code below to calculate the frequency of words in a sentence.\n",
    "\n",
    "Example:\n",
    "```py\n",
    "sentence = \"the quick brown fox jumps over the lazy dog the fox is quick\"\n",
    "output = {'the': 3, 'quick': 2, 'brown': 1, 'fox': 2, 'jumps': 1, 'over': 1, 'lazy': 1, 'dog': 1, 'is': 1}\n",
    "```"
   ]
  },
  {
   "cell_type": "code",
   "execution_count": null,
   "metadata": {
    "id": "F5i-7I5q9i6Q"
   },
   "outputs": [
    {
     "name": "stdout",
     "output_type": "stream",
     "text": [
      "Word frequencies: {'the': 3, 'quick': 2, 'brown': 1, 'fox': 2, 'jumps': 1, 'over': 1, 'lazy': 1, 'dog': 1, 'is': 1}\n"
     ]
    }
   ],
   "source": [
    "# create function\n",
    "def word_frequency(sentence):\n",
    "    words = sentence.split()\n",
    "    frequencies = {}\n",
    "    for word in words:\n",
    "        if word not in frequencies:\n",
    "            frequencies[word] = 1\n",
    "        else:\n",
    "            frequencies[word] += 1\n",
    "    return frequencies\n",
    "\n",
    "# calling function\n",
    "sentence = \"the quick brown fox jumps over the lazy dog the fox is quick\"\n",
    "print(\"Word frequencies:\", word_frequency(sentence))\n"
   ]
  }
 ],
 "metadata": {
  "colab": {
   "provenance": []
  },
  "kernelspec": {
   "display_name": "base",
   "language": "python",
   "name": "python3"
  },
  "language_info": {
   "codemirror_mode": {
    "name": "ipython",
    "version": 3
   },
   "file_extension": ".py",
   "mimetype": "text/x-python",
   "name": "python",
   "nbconvert_exporter": "python",
   "pygments_lexer": "ipython3",
   "version": "3.12.9"
  }
 },
 "nbformat": 4,
 "nbformat_minor": 0
}
