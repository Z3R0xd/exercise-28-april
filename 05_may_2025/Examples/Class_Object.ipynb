{
 "cells": [
  {
   "cell_type": "code",
   "execution_count": null,
   "id": "d84e350e",
   "metadata": {},
   "outputs": [],
   "source": [
    "# Define pokemon class\n",
    "\n",
    "class Pokemon:\n",
    "    \n",
    "    # Define attribute yang harus dimiliki oleh setiap instance dari class Pokemon\n",
    "    def __init__(self, nama, hp, attack, defence, exp=0):\n",
    "        self.nama = nama\n",
    "        self.hp = hp\n",
    "        self.attack = attack\n",
    "        self.defence = defence\n",
    "        \n",
    "    def battle(self, musuh):\n",
    "        while True :\n",
    "            musuh.hp -= (self.attack / musuh.defense)\n",
    "            if musuh.hp <= 0:\n",
    "                musuh.hp = 0\n",
    "                print(f\"{musuh.nama} fainted\") #format allows variables to be inserted inside a txt string.\n",
    "                break\n",
    "            else:\n",
    "                self.hp -= (musuh.attack / self.defense)\n",
    "            if self.hp <= 0:\n",
    "                self.hp = 0\n",
    "                print(f\"{self.nama} fainted\")\n",
    "                break\n",
    "                "
   ]
  },
  {
   "cell_type": "code",
   "execution_count": 12,
   "id": "9f2d92f3",
   "metadata": {},
   "outputs": [
    {
     "data": {
      "text/plain": [
       "{'nama': 'pikachu', 'hp': 150, 'attack': 50, 'defence': 30}"
      ]
     },
     "execution_count": 12,
     "metadata": {},
     "output_type": "execute_result"
    }
   ],
   "source": [
    "# Create object from pokemon class\n",
    "\n",
    "pikachu = Pokemon(nama=\"pikachu\", hp=100, attack=50, defence=30)\n",
    "pikachu.__dict__\n",
    "\n",
    "\n",
    "# buat attribute\n",
    "pikachu.hp = 150\n",
    "pikachu.__dict__"
   ]
  },
  {
   "cell_type": "code",
   "execution_count": null,
   "id": "6359b92e",
   "metadata": {},
   "outputs": [
    {
     "data": {
      "text/plain": [
       "__main__.Pokemon"
      ]
     },
     "execution_count": 15,
     "metadata": {},
     "output_type": "execute_result"
    }
   ],
   "source": [
    "# Create object from pokemon class\n",
    "\n",
    "type(pikachu)"
   ]
  },
  {
   "cell_type": "code",
   "execution_count": null,
   "id": "ba3bbbb0",
   "metadata": {},
   "outputs": [
    {
     "data": {
      "text/plain": [
       "{'nama': 'Pikachu', 'hp': 100}"
      ]
     },
     "execution_count": 8,
     "metadata": {},
     "output_type": "execute_result"
    }
   ],
   "source": [
    "# test method battle\n",
    "pikachu.battle()"
   ]
  }
 ],
 "metadata": {
  "kernelspec": {
   "display_name": "base",
   "language": "python",
   "name": "python3"
  },
  "language_info": {
   "codemirror_mode": {
    "name": "ipython",
    "version": 3
   },
   "file_extension": ".py",
   "mimetype": "text/x-python",
   "name": "python",
   "nbconvert_exporter": "python",
   "pygments_lexer": "ipython3",
   "version": "3.12.9"
  }
 },
 "nbformat": 4,
 "nbformat_minor": 5
}
