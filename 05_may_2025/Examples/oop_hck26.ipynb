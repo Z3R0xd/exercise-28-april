{
 "cells": [
  {
   "cell_type": "code",
   "execution_count": 1,
   "metadata": {},
   "outputs": [],
   "source": [
    "# untuk bikin class\n",
    "import random\n",
    "\n",
    "class Kucing:\n",
    "    \n",
    "    # buat attribute\n",
    "    def __init__(self, nama, warna, pemilik = 'belum ada'):\n",
    "        self.nama = nama\n",
    "        self.warna = warna\n",
    "        self.pemilik = pemilik\n",
    "        self.kemenangan = 0\n",
    "\n",
    "    # buat method\n",
    "    def __str__(self):\n",
    "        return f\"{self.nama} adalah objek dari class Kucing\"\n",
    "    \n",
    "    def suara(self):\n",
    "        print('Meong')\n",
    "\n",
    "    def ganti_owner(self, pemilik_baru):\n",
    "        self.pemilik = pemilik_baru\n",
    "\n",
    "    def berantem(self, lawan):\n",
    "        print(f'{self.nama} berantem dengan {lawan.nama}')\n",
    "        \n",
    "        if random.randint(0, 1) == 0:\n",
    "            print(f'{self.nama} menang')\n",
    "            self.kemenangan += 1\n",
    "        else:\n",
    "            print(f'{lawan.nama} menang')\n",
    "            lawan.kemenangan += 1"
   ]
  },
  {
   "cell_type": "code",
   "execution_count": 2,
   "metadata": {},
   "outputs": [
    {
     "name": "stdout",
     "output_type": "stream",
     "text": [
      "{'nama': 'Tom', 'warna': 'oren', 'pemilik': 'Jerry', 'kemenangan': 0}\n"
     ]
    }
   ],
   "source": [
    "# untuk buat objek\n",
    "\n",
    "kucing_1 = Kucing(nama='Tom', warna='oren')\n",
    "# print(kucing_1.__dict__)\n",
    "\n",
    "\n",
    "# assign attribut manual\n",
    "kucing_1.pemilik = 'Jerry'\n",
    "print(kucing_1.__dict__)"
   ]
  },
  {
   "cell_type": "code",
   "execution_count": 3,
   "metadata": {},
   "outputs": [
    {
     "name": "stdout",
     "output_type": "stream",
     "text": [
      "Tom adalah objek dari class Kucing\n"
     ]
    }
   ],
   "source": [
    "print(kucing_1)"
   ]
  },
  {
   "cell_type": "code",
   "execution_count": 4,
   "metadata": {},
   "outputs": [
    {
     "name": "stdout",
     "output_type": "stream",
     "text": [
      "{'nama': 'Bobby', 'warna': 'putih', 'pemilik': 'Disamarkan', 'kemenangan': 0}\n"
     ]
    }
   ],
   "source": [
    "# untuk buat objek\n",
    "\n",
    "kucing_2 = Kucing(nama='Bobby', warna='putih', pemilik='Disamarkan')\n",
    "print(kucing_2.__dict__)"
   ]
  },
  {
   "cell_type": "code",
   "execution_count": 5,
   "metadata": {},
   "outputs": [
    {
     "name": "stdout",
     "output_type": "stream",
     "text": [
      "Meong\n",
      "Jerry\n",
      "Kevin\n",
      "{'nama': 'Tom', 'warna': 'oren', 'pemilik': 'Kevin', 'kemenangan': 0}\n",
      "Tom berantem dengan Bobby\n",
      "Tom menang\n",
      "1\n"
     ]
    }
   ],
   "source": [
    "# panggil method\n",
    "kucing_1.suara()\n",
    "\n",
    "# cek owner\n",
    "print(kucing_1.pemilik)\n",
    "\n",
    "# panggil method untuk ganti owner\n",
    "kucing_1.ganti_owner('Kevin')\n",
    "\n",
    "# cek owner baru\n",
    "print(kucing_1.pemilik)\n",
    "print(kucing_1.__dict__)\n",
    "\n",
    "# tom vs bobby\n",
    "kucing_1.berantem(kucing_2)\n",
    "print(kucing_1.kemenangan)"
   ]
  },
  {
   "cell_type": "markdown",
   "metadata": {},
   "source": [
    "# Inheritance\n",
    "\n",
    "a\n",
    "\n",
    "###### a"
   ]
  },
  {
   "cell_type": "code",
   "execution_count": 6,
   "metadata": {},
   "outputs": [],
   "source": [
    "# Kelas Hewan\n",
    "\n",
    "class Hewan:\n",
    "    \n",
    "    def __init__(self, nama, warna, pemilik = 'belum ada'):\n",
    "        self.nama = nama\n",
    "        self.warna = warna\n",
    "        self.pemilik = pemilik\n",
    "        self.kemenangan = 0\n",
    "\n",
    "    def __str__(self):\n",
    "        return f\"{self.nama} adalah objek dari class Hewan\"\n",
    "    \n",
    "\n",
    "    def ganti_owner(self, pemilik_baru):\n",
    "        self.pemilik = pemilik_baru\n"
   ]
  },
  {
   "cell_type": "code",
   "execution_count": 7,
   "metadata": {},
   "outputs": [],
   "source": [
    "# untuk bikin class\n",
    "import random\n",
    "\n",
    "class Kucing(Hewan):\n",
    "    \n",
    "    # buat attribute\n",
    "    def __init__(self, nama, warna, pemilik = 'belum ada'):\n",
    "        Hewan.__init__(self, nama, warna, pemilik)\n",
    "        self.kemenangan = 0\n",
    "\n",
    "    # buat method\n",
    "    def __str__(self):\n",
    "        return f\"{self.nama} adalah objek dari class Kucing\"\n",
    "    \n",
    "    def suara(self):\n",
    "        print('Meong')\n",
    "\n",
    "    def berantem(self, lawan):\n",
    "        print(f'{self.nama} berantem dengan {lawan.nama}')\n",
    "        \n",
    "        if random.randint(0, 1) == 0:\n",
    "            print(f'{self.nama} menang')\n",
    "            self.kemenangan += 1\n",
    "        else:\n",
    "            print(f'{lawan.nama} menang')\n",
    "            lawan.kemenangan += 1"
   ]
  },
  {
   "cell_type": "code",
   "execution_count": 8,
   "metadata": {},
   "outputs": [
    {
     "name": "stdout",
     "output_type": "stream",
     "text": [
      "{'nama': 'Bobby', 'warna': 'putih', 'pemilik': 'Disamarkan', 'kemenangan': 0}\n",
      "{'nama': 'Bobby', 'warna': 'putih', 'pemilik': 'Kevin', 'kemenangan': 0}\n"
     ]
    }
   ],
   "source": [
    "# untuk buat objek\n",
    "\n",
    "kucing_2 = Kucing(nama='Bobby', warna='putih', pemilik='Disamarkan')\n",
    "print(kucing_2.__dict__)\n",
    "kucing_2.ganti_owner('Kevin')\n",
    "print(kucing_2.__dict__)"
   ]
  },
  {
   "cell_type": "code",
   "execution_count": 9,
   "metadata": {},
   "outputs": [],
   "source": [
    "# Kelas anjing\n",
    "class Anjing(Hewan):\n",
    "    \n",
    "    # buat attribute\n",
    "    def __init__(self, nama, warna, pemilik = 'belum ada'):\n",
    "        Hewan.__init__(self, nama, warna, pemilik)\n",
    "\n",
    "    # buat method\n",
    "    def __str__(self):\n",
    "        return f\"{self.nama} adalah objek dari class Anjing\"\n",
    "    \n",
    "    def suara(self):\n",
    "        print('Guk guk')"
   ]
  },
  {
   "cell_type": "code",
   "execution_count": 10,
   "metadata": {},
   "outputs": [
    {
     "data": {
      "text/plain": [
       "'__main__'"
      ]
     },
     "execution_count": 10,
     "metadata": {},
     "output_type": "execute_result"
    }
   ],
   "source": [
    "__name__"
   ]
  },
  {
   "cell_type": "markdown",
   "metadata": {},
   "source": [
    "# Case 1\n",
    "\n",
    "Write a Python class BankAccount with attributes like account_number, balance, date_of_opening and customer_name,and methods like deposit, withdraw, and check_balance.18\n"
   ]
  },
  {
   "cell_type": "code",
   "execution_count": 11,
   "metadata": {},
   "outputs": [],
   "source": [
    "class BankAccount:\n",
    "\n",
    "    def __init__(self, account_num, balance, opening_date, cust_name):\n",
    "        self.account_number = account_num\n",
    "        self.balance = balance\n",
    "        self.date_of_opening = opening_date\n",
    "        self.customer_name = cust_name\n",
    "\n",
    "    def deposit(self, amount):\n",
    "        '''\n",
    "        Anjing\n",
    "        '''\n",
    "        self.balance += amount\n",
    "\n",
    "    def withdraw(self, amount):\n",
    "        if amount > self.balance:\n",
    "            print(\"Insufficient balance\")\n",
    "        else:\n",
    "            self.balance -= amount\n",
    "\n",
    "    def check_balance(self):\n",
    "        return self.balance"
   ]
  },
  {
   "cell_type": "code",
   "execution_count": 12,
   "metadata": {},
   "outputs": [],
   "source": [
    "# docstring penjelasan function\n",
    "def abcd(param1: int, param2: str) -> bool:\n",
    "    \"\"\"Example function with PEP 484 type annotations.\n",
    "\n",
    "    Args:\n",
    "        param1: The first parameter.\n",
    "        param2: The second parameter.\n",
    "\n",
    "    Returns:\n",
    "        The return value. True for success, False otherwise.\n",
    "\n",
    "    \"\"\"\n",
    "    return True"
   ]
  },
  {
   "cell_type": "code",
   "execution_count": 22,
   "metadata": {},
   "outputs": [],
   "source": [
    "import random\n",
    "\n",
    "class Hewan:\n",
    "    \"\"\"Kelas yang merepresentasikan hewan dengan atribut nama, warna, dan pemilik.\n",
    "\n",
    "    Attributes:\n",
    "        nama (str): Nama hewan.\n",
    "        warna (str): Warna hewan.\n",
    "        pemilik (str): Nama pemilik hewan. Defaultnya adalah 'belum ada'.\n",
    "        kemenangan (int): Jumlah kemenangan yang dimiliki hewan. Defaultnya adalah 0.\n",
    "    \"\"\"\n",
    "    \n",
    "    def __init__(self, nama: str, warna: str, pemilik: str = 'belum ada') -> None:\n",
    "        \"\"\"Inisialisasi objek Hewan dengan atribut yang diberikan.\n",
    "\n",
    "        Args:\n",
    "            nama (str): Nama hewan.\n",
    "            warna (str): Warna hewan.\n",
    "            pemilik (str, optional): Nama pemilik hewan. Defaultnya 'belum ada'.\n",
    "        \"\"\"\n",
    "        self.nama = nama\n",
    "        self.warna = warna\n",
    "        self.pemilik = pemilik\n",
    "        self.kemenangan = 0\n",
    "\n",
    "    def __str__(self) -> str:\n",
    "        \"\"\"Mengembalikan representasi string dari objek Hewan.\n",
    "\n",
    "        Returns:\n",
    "            str: String yang mendeskripsikan objek Hewan.\n",
    "        \"\"\"\n",
    "        return f\"{self.nama} adalah objek dari class Hewan\"\n",
    "    \n",
    "    def ganti_owner(self, pemilik_baru: str) -> None:\n",
    "        \"\"\"Mengganti pemilik hewan dengan pemilik yang baru.\n",
    "\n",
    "        Args:\n",
    "            pemilik_baru (str): Nama pemilik baru hewan.\n",
    "        \"\"\"\n",
    "        self.pemilik = pemilik_baru\n",
    "\n",
    "    def berantem(self, lawan: 'Hewan') -> None:\n",
    "        \"\"\"Melakukan pertarungan antara dua hewan dan menentukan pemenangnya secara acak.\n",
    "\n",
    "        Args:\n",
    "            lawan (Hewan): Objek hewan lawan dalam pertarungan.\n",
    "        \"\"\"\n",
    "        print(f'{self.nama} berantem dengan {lawan.nama}')\n",
    "        \n",
    "        if random.randint(0, 1) == 0:\n",
    "            print(f'{self.nama} menang')\n",
    "            self.kemenangan += 1\n",
    "        else:\n",
    "            print(f'{lawan.nama} menang')\n",
    "            lawan.kemenangan += 1\n"
   ]
  },
  {
   "cell_type": "code",
   "execution_count": null,
   "metadata": {},
   "outputs": [
    {
     "ename": "NameError",
     "evalue": "name 'self' is not defined",
     "output_type": "error",
     "traceback": [
      "\u001b[0;31m---------------------------------------------------------------------------\u001b[0m",
      "\u001b[0;31mNameError\u001b[0m                                 Traceback (most recent call last)",
      "Cell \u001b[0;32mIn[2], line 2\u001b[0m\n\u001b[1;32m      1\u001b[0m \u001b[38;5;66;03m# membuat class\u001b[39;00m\n\u001b[0;32m----> 2\u001b[0m \u001b[38;5;28;01mclass\u001b[39;00m \u001b[38;5;21;01mPokemon\u001b[39;00m:\n\u001b[1;32m      3\u001b[0m \n\u001b[1;32m      4\u001b[0m     \u001b[38;5;66;03m# class attribute\u001b[39;00m\n\u001b[1;32m      5\u001b[0m     list_pokemon \u001b[38;5;241m=\u001b[39m []\n\u001b[1;32m      6\u001b[0m     list_element \u001b[38;5;241m=\u001b[39m [\u001b[38;5;124m'\u001b[39m\u001b[38;5;124mwater\u001b[39m\u001b[38;5;124m'\u001b[39m, \u001b[38;5;124m'\u001b[39m\u001b[38;5;124mfire\u001b[39m\u001b[38;5;124m'\u001b[39m, \u001b[38;5;124m'\u001b[39m\u001b[38;5;124mgrass\u001b[39m\u001b[38;5;124m'\u001b[39m, \u001b[38;5;124m'\u001b[39m\u001b[38;5;124melectric\u001b[39m\u001b[38;5;124m'\u001b[39m]\n",
      "Cell \u001b[0;32mIn[2], line 19\u001b[0m, in \u001b[0;36mPokemon\u001b[0;34m()\u001b[0m\n\u001b[1;32m     16\u001b[0m     \u001b[38;5;28mself\u001b[39m\u001b[38;5;241m.\u001b[39mlist_pokemon\u001b[38;5;241m.\u001b[39mappend(\u001b[38;5;28mself\u001b[39m)\n\u001b[1;32m     18\u001b[0m \u001b[38;5;66;03m# methods\u001b[39;00m\n\u001b[0;32m---> 19\u001b[0m \u001b[38;5;28;01mdef\u001b[39;00m \u001b[38;5;21mattacking\u001b[39m(\u001b[38;5;28mself\u001b[39m, musuh:\u001b[38;5;28;43mself\u001b[39;49m):\n\u001b[1;32m     20\u001b[0m     musuh\u001b[38;5;241m.\u001b[39mhp \u001b[38;5;241m-\u001b[39m\u001b[38;5;241m=\u001b[39m \u001b[38;5;28mself\u001b[39m\u001b[38;5;241m.\u001b[39matk\n\u001b[1;32m     21\u001b[0m     \u001b[38;5;28mprint\u001b[39m(\u001b[38;5;124mf\u001b[39m\u001b[38;5;124m'\u001b[39m\u001b[38;5;124msisa hp dari \u001b[39m\u001b[38;5;132;01m{\u001b[39;00mmusuh\u001b[38;5;241m.\u001b[39mname\u001b[38;5;132;01m}\u001b[39;00m\u001b[38;5;124m: \u001b[39m\u001b[38;5;132;01m{\u001b[39;00mmusuh\u001b[38;5;241m.\u001b[39mhp\u001b[38;5;132;01m}\u001b[39;00m\u001b[38;5;124m'\u001b[39m)\n",
      "\u001b[0;31mNameError\u001b[0m: name 'self' is not defined"
     ]
    }
   ],
   "source": [
    "# membuat class\n",
    "class Pokemon:\n",
    "\n",
    "    # class attribute\n",
    "    list_pokemon = []\n",
    "    list_element = ['water', 'fire', 'grass', 'electric']\n",
    "\n",
    "    # constructor __init__ untuk buat attribute\n",
    "    def __init__ (self, hp:int, atk:int, tipe:str, name:str):\n",
    "        self.hp = hp\n",
    "        self.atk = atk\n",
    "        self.tipe = tipe\n",
    "        self.name = name\n",
    "    \n",
    "        # tambah ke list pokemon\n",
    "        self.list_pokemon.append(self)\n",
    "\n",
    "    # methods\n",
    "    def attacking(self, musuh:):\n",
    "        musuh.hp -= self.atk\n",
    "        print(f'sisa hp dari {musuh.name}: {musuh.hp}')"
   ]
  }
 ],
 "metadata": {
  "kernelspec": {
   "display_name": "data_science",
   "language": "python",
   "name": "python3"
  },
  "language_info": {
   "codemirror_mode": {
    "name": "ipython",
    "version": 3
   },
   "file_extension": ".py",
   "mimetype": "text/x-python",
   "name": "python",
   "nbconvert_exporter": "python",
   "pygments_lexer": "ipython3",
   "version": "3.9.18"
  }
 },
 "nbformat": 4,
 "nbformat_minor": 2
}
