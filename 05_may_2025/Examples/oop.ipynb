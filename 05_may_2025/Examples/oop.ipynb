{
 "cells": [
  {
   "cell_type": "markdown",
   "id": "df7b24d5",
   "metadata": {},
   "source": [
    "# Class and Objects"
   ]
  },
  {
   "cell_type": "code",
   "execution_count": null,
   "id": "be9ed03b",
   "metadata": {},
   "outputs": [],
   "source": [
    "# Define pokemon class\n",
    "\n",
    "class Pokemon:\n",
    "    \n",
    "    # define attribute yang harus dimiliki oleh setiap instance dari class Pokemon\n",
    "    def __init__(self, nama:str, hp:int, attack:int, defense:int, cry, exp = 0):\n",
    "        self.nama = nama\n",
    "        self.hp = hp\n",
    "        self.attack = attack\n",
    "        self.defense = defense\n",
    "        self.exp = exp\n",
    "        self.cry = cry\n",
    "\n",
    "    def __str__(self):\n",
    "        return f\"object dari class Pokemon yang bernama {self.nama}\"\n",
    "\n",
    "    # define method \n",
    "    def battle(self, musuh:\"Pokemon\"):\n",
    "        while True:\n",
    "            musuh.hp -= (self.attack / musuh.defense)\n",
    "            print(f\"{self.nama}, attaced {musuh.nama}\")\n",
    "            if musuh.hp <= 0:\n",
    "                musuh.hp = 0\n",
    "                print(f\"{musuh.nama} fainted\")\n",
    "                break\n",
    "            else:\n",
    "                self.hp -= (musuh.attack / self.defense)\n",
    "                print(f\"{musuh.nama}, attaced {self.nama}\")\n",
    "                if self.hp <= 0:\n",
    "                    self.hp = 0\n",
    "                    print(f\"{self.nama} fainted\")\n",
    "                    break\n",
    "\n",
    "    def bersuara(self):\n",
    "        print(self.cry)"
   ]
  },
  {
   "cell_type": "code",
   "execution_count": 45,
   "id": "7cc704cf",
   "metadata": {},
   "outputs": [
    {
     "data": {
      "text/plain": [
       "{'nama': 'Pikachu',\n",
       " 'hp': 150,\n",
       " 'attack': 50,\n",
       " 'defense': 30,\n",
       " 'exp': 0,\n",
       " 'cry': 'pika pika'}"
      ]
     },
     "execution_count": 45,
     "metadata": {},
     "output_type": "execute_result"
    }
   ],
   "source": [
    "# Create object from pokemon class\n",
    "\n",
    "pikachu = Pokemon(nama= 'Pikachu', hp = 100, attack = 50, defense = 30, cry = 'pika pika')\n",
    "pikachu.__dict__\n",
    "\n",
    "# buat attribute\n",
    "# pikachu.nama = 'Pikachu'\n",
    "pikachu.hp = 150\n",
    "pikachu.__dict__"
   ]
  },
  {
   "cell_type": "code",
   "execution_count": null,
   "id": "75b41984",
   "metadata": {},
   "outputs": [],
   "source": []
  },
  {
   "cell_type": "code",
   "execution_count": 46,
   "id": "d8bd9a15",
   "metadata": {},
   "outputs": [
    {
     "name": "stdout",
     "output_type": "stream",
     "text": [
      "object dari class Pokemon yang bernama Pikachu\n"
     ]
    }
   ],
   "source": [
    "print(pikachu)"
   ]
  },
  {
   "cell_type": "code",
   "execution_count": 47,
   "id": "0ea2ab3c",
   "metadata": {},
   "outputs": [
    {
     "data": {
      "text/plain": [
       "{'nama': 'Charmander',\n",
       " 'hp': 90,\n",
       " 'attack': 70,\n",
       " 'defense': 30,\n",
       " 'exp': 0,\n",
       " 'cry': 'brrr'}"
      ]
     },
     "execution_count": 47,
     "metadata": {},
     "output_type": "execute_result"
    }
   ],
   "source": [
    "# pokemon 2 charmander\n",
    "\n",
    "char = Pokemon('Charmander', 90, 70, 30, 'brrr')\n",
    "char.__dict__"
   ]
  },
  {
   "cell_type": "code",
   "execution_count": 39,
   "id": "6e24e8e9",
   "metadata": {},
   "outputs": [
    {
     "name": "stdout",
     "output_type": "stream",
     "text": [
      "<__main__.Pokemon object at 0x103ec86d0>\n"
     ]
    }
   ],
   "source": [
    "print(char)"
   ]
  },
  {
   "cell_type": "code",
   "execution_count": null,
   "id": "535fb731",
   "metadata": {},
   "outputs": [],
   "source": [
    "pikachu.battle()"
   ]
  },
  {
   "cell_type": "code",
   "execution_count": 35,
   "id": "f7b535f5",
   "metadata": {},
   "outputs": [
    {
     "name": "stdout",
     "output_type": "stream",
     "text": [
      "Pikachu, attaced Charmander\n",
      "Charmander, attaced Pikachu\n",
      "Pikachu, attaced Charmander\n",
      "Charmander, attaced Pikachu\n",
      "Pikachu, attaced Charmander\n",
      "Charmander, attaced Pikachu\n",
      "Pikachu, attaced Charmander\n",
      "Charmander, attaced Pikachu\n",
      "Pikachu, attaced Charmander\n",
      "Charmander, attaced Pikachu\n",
      "Pikachu, attaced Charmander\n",
      "Charmander, attaced Pikachu\n",
      "Pikachu, attaced Charmander\n",
      "Charmander, attaced Pikachu\n",
      "Pikachu, attaced Charmander\n",
      "Charmander, attaced Pikachu\n",
      "Pikachu, attaced Charmander\n",
      "Charmander, attaced Pikachu\n",
      "Pikachu, attaced Charmander\n",
      "Charmander, attaced Pikachu\n",
      "Pikachu, attaced Charmander\n",
      "Charmander, attaced Pikachu\n",
      "Pikachu, attaced Charmander\n",
      "Charmander, attaced Pikachu\n",
      "Pikachu, attaced Charmander\n",
      "Charmander, attaced Pikachu\n",
      "Pikachu, attaced Charmander\n",
      "Charmander, attaced Pikachu\n",
      "Pikachu, attaced Charmander\n",
      "Charmander, attaced Pikachu\n",
      "Pikachu, attaced Charmander\n",
      "Charmander, attaced Pikachu\n",
      "Pikachu, attaced Charmander\n",
      "Charmander, attaced Pikachu\n",
      "Pikachu, attaced Charmander\n",
      "Charmander, attaced Pikachu\n",
      "Pikachu, attaced Charmander\n",
      "Charmander, attaced Pikachu\n",
      "Pikachu, attaced Charmander\n",
      "Charmander, attaced Pikachu\n",
      "Pikachu, attaced Charmander\n",
      "Charmander, attaced Pikachu\n",
      "Pikachu, attaced Charmander\n",
      "Charmander, attaced Pikachu\n",
      "Pikachu, attaced Charmander\n",
      "Charmander, attaced Pikachu\n",
      "Pikachu, attaced Charmander\n",
      "Charmander, attaced Pikachu\n",
      "Pikachu, attaced Charmander\n",
      "Charmander, attaced Pikachu\n",
      "Pikachu, attaced Charmander\n",
      "Charmander, attaced Pikachu\n",
      "Pikachu, attaced Charmander\n",
      "Charmander, attaced Pikachu\n",
      "Pikachu, attaced Charmander\n",
      "Charmander, attaced Pikachu\n",
      "Pikachu, attaced Charmander\n",
      "Charmander, attaced Pikachu\n",
      "Pikachu, attaced Charmander\n",
      "Charmander, attaced Pikachu\n",
      "Pikachu, attaced Charmander\n",
      "Charmander, attaced Pikachu\n",
      "Pikachu, attaced Charmander\n",
      "Charmander, attaced Pikachu\n",
      "Pikachu, attaced Charmander\n",
      "Charmander, attaced Pikachu\n",
      "Pikachu, attaced Charmander\n",
      "Charmander, attaced Pikachu\n",
      "Pikachu, attaced Charmander\n",
      "Charmander, attaced Pikachu\n",
      "Pikachu, attaced Charmander\n",
      "Charmander, attaced Pikachu\n",
      "Pikachu, attaced Charmander\n",
      "Charmander, attaced Pikachu\n",
      "Pikachu, attaced Charmander\n",
      "Charmander, attaced Pikachu\n",
      "Pikachu, attaced Charmander\n",
      "Charmander, attaced Pikachu\n",
      "Pikachu, attaced Charmander\n",
      "Charmander, attaced Pikachu\n",
      "Pikachu, attaced Charmander\n",
      "Charmander, attaced Pikachu\n",
      "Pikachu, attaced Charmander\n",
      "Charmander, attaced Pikachu\n",
      "Pikachu, attaced Charmander\n",
      "Charmander, attaced Pikachu\n",
      "Pikachu, attaced Charmander\n",
      "Charmander, attaced Pikachu\n",
      "Pikachu, attaced Charmander\n",
      "Charmander, attaced Pikachu\n",
      "Pikachu, attaced Charmander\n",
      "Charmander, attaced Pikachu\n",
      "Pikachu, attaced Charmander\n",
      "Charmander, attaced Pikachu\n",
      "Pikachu, attaced Charmander\n",
      "Charmander, attaced Pikachu\n",
      "Pikachu, attaced Charmander\n",
      "Charmander, attaced Pikachu\n",
      "Pikachu, attaced Charmander\n",
      "Charmander, attaced Pikachu\n",
      "Pikachu, attaced Charmander\n",
      "Charmander, attaced Pikachu\n",
      "Pikachu, attaced Charmander\n",
      "Charmander, attaced Pikachu\n",
      "Pikachu, attaced Charmander\n",
      "Charmander, attaced Pikachu\n",
      "Pikachu, attaced Charmander\n",
      "Charmander fainted\n"
     ]
    }
   ],
   "source": [
    "# test method battle\n",
    "pikachu.battle(char)"
   ]
  },
  {
   "cell_type": "code",
   "execution_count": 36,
   "id": "f41e1fab",
   "metadata": {},
   "outputs": [
    {
     "name": "stdout",
     "output_type": "stream",
     "text": [
      "brrr\n"
     ]
    }
   ],
   "source": [
    "char.bersuara()"
   ]
  }
 ],
 "metadata": {
  "kernelspec": {
   "display_name": "data_science",
   "language": "python",
   "name": "python3"
  },
  "language_info": {
   "codemirror_mode": {
    "name": "ipython",
    "version": 3
   },
   "file_extension": ".py",
   "mimetype": "text/x-python",
   "name": "python",
   "nbconvert_exporter": "python",
   "pygments_lexer": "ipython3",
   "version": "3.9.18"
  }
 },
 "nbformat": 4,
 "nbformat_minor": 5
}
