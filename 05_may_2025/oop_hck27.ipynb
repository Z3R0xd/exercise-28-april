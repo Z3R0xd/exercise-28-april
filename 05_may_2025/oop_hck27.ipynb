{
 "cells": [
  {
   "cell_type": "code",
   "execution_count": 6,
   "metadata": {},
   "outputs": [],
   "source": [
    "# membuat class\n",
    "class Pokemon:\n",
    "\n",
    "    # class attribute\n",
    "    list_pokemon = []\n",
    "    list_element = ['water', 'fire', 'grass', 'electric']\n",
    "\n",
    "    # constructor __init__ untuk buat attribute\n",
    "    def __init__ (self, hp:int, atk:int, tipe:str, name:str):\n",
    "        self.hp = hp\n",
    "        self.atk = atk\n",
    "        self.tipe = tipe\n",
    "        self.name = name\n",
    "    \n",
    "        # tambah ke list pokemon\n",
    "        Pokemon.list_pokemon.append(self)\n",
    "\n",
    "    # methods\n",
    "    def attacking(self, musuh:'Pokemon'):\n",
    "        musuh.hp -= self.atk\n",
    "        if musuh.hp <= 0:\n",
    "            musuh.hp = 0\n",
    "        print(f'sisa hp dari {musuh.name}: {musuh.hp}')\n",
    "\n",
    "    def is_defeated(self):\n",
    "        return self.hp == 0\n",
    "\n"
   ]
  },
  {
   "cell_type": "code",
   "execution_count": 2,
   "metadata": {},
   "outputs": [],
   "source": [
    "# pembuatan object\n",
    "pikachu = Pokemon(50, 20, 'electric', 'Pikachu')\n",
    "charmander = Pokemon(30, 30 , 'fire', 'Charmander')"
   ]
  },
  {
   "cell_type": "code",
   "execution_count": 3,
   "metadata": {},
   "outputs": [
    {
     "name": "stdout",
     "output_type": "stream",
     "text": [
      "sisa hp dari Charmander: 10\n"
     ]
    }
   ],
   "source": [
    "# pemanggilan method\n",
    "pikachu.attacking(charmander)"
   ]
  },
  {
   "cell_type": "code",
   "execution_count": 4,
   "metadata": {},
   "outputs": [],
   "source": [
    "def battle(pokemon_1:Pokemon, pokemon_2:Pokemon):\n",
    "    while not (pokemon_1.is_defeated() and pokemon_2.is_defeated()):\n",
    "        pokemon_1.attacking(pokemon_2)\n",
    "        if pokemon_2.is_defeated():\n",
    "            print(f'{pokemon_1.name} menang')\n",
    "            break\n",
    "\n",
    "        pokemon_2.attacking(pokemon_1)\n",
    "        if pokemon_1.is_defeated():\n",
    "            print(f'{pokemon_2.name} menang')\n",
    "            break"
   ]
  },
  {
   "cell_type": "code",
   "execution_count": 5,
   "metadata": {},
   "outputs": [
    {
     "name": "stdout",
     "output_type": "stream",
     "text": [
      "sisa hp dari Pikachu: 20\n",
      "sisa hp dari Charmander: 0\n",
      "Pikachu menang\n"
     ]
    }
   ],
   "source": [
    "battle(charmander, pikachu)"
   ]
  },
  {
   "cell_type": "markdown",
   "metadata": {},
   "source": [
    "## Real-Life Case 1\n",
    "\n",
    "Write a Python class BankAccount with attributes like account_number, balance, date_of_opening and customer_name,and methods like deposit, withdraw, and check_balance\n"
   ]
  },
  {
   "cell_type": "code",
   "execution_count": 8,
   "metadata": {},
   "outputs": [],
   "source": [
    "class BankAccount:\n",
    "\n",
    "    def __init__(self, account_number, balance, date_of_opening, customer_name):\n",
    "        self.account_number = account_number\n",
    "        self.balance = balance\n",
    "        self.date_of_opening = date_of_opening\n",
    "        self.customer_name = customer_name\n",
    "\n",
    "    def deposit(self, amount):\n",
    "        self.balance += amount\n",
    "        print(f'deposited {amount} to account')\n",
    "\n",
    "    def withdraw (self, amount):\n",
    "        if amount > self.balance:\n",
    "            print('saldo kurang')\n",
    "        else:\n",
    "            self.balance -= amount\n",
    "\n",
    "    def check_balance(self):\n",
    "        print(f'balance dari account {self.account_number} tersisa {self.balance}')"
   ]
  },
  {
   "cell_type": "code",
   "execution_count": 9,
   "metadata": {},
   "outputs": [
    {
     "name": "stdout",
     "output_type": "stream",
     "text": [
      "balance dari account 123 tersisa 5000\n"
     ]
    }
   ],
   "source": [
    "account1 = BankAccount(123, 5000, '12/12/2025', 'Bebas')\n",
    "\n",
    "account1.check_balance()"
   ]
  },
  {
   "cell_type": "code",
   "execution_count": 13,
   "metadata": {},
   "outputs": [
    {
     "ename": "AttributeError",
     "evalue": "'BankAccount' object has no attribute 'nama'",
     "output_type": "error",
     "traceback": [
      "\u001b[0;31m---------------------------------------------------------------------------\u001b[0m",
      "\u001b[0;31mAttributeError\u001b[0m                            Traceback (most recent call last)",
      "Cell \u001b[0;32mIn[13], line 1\u001b[0m\n\u001b[0;32m----> 1\u001b[0m \u001b[43maccount1\u001b[49m\u001b[38;5;241;43m.\u001b[39;49m\u001b[43mnama\u001b[49m\n",
      "\u001b[0;31mAttributeError\u001b[0m: 'BankAccount' object has no attribute 'nama'"
     ]
    }
   ],
   "source": [
    "account1.nama"
   ]
  },
  {
   "cell_type": "code",
   "execution_count": 14,
   "metadata": {},
   "outputs": [
    {
     "ename": "ZeroDivisionError",
     "evalue": "division by zero",
     "output_type": "error",
     "traceback": [
      "\u001b[0;31m---------------------------------------------------------------------------\u001b[0m",
      "\u001b[0;31mZeroDivisionError\u001b[0m                         Traceback (most recent call last)",
      "Cell \u001b[0;32mIn[14], line 1\u001b[0m\n\u001b[0;32m----> 1\u001b[0m \u001b[38;5;241;43m1\u001b[39;49m\u001b[38;5;241;43m/\u001b[39;49m\u001b[38;5;241;43m0\u001b[39;49m\n",
      "\u001b[0;31mZeroDivisionError\u001b[0m: division by zero"
     ]
    }
   ],
   "source": [
    "1/0"
   ]
  },
  {
   "cell_type": "code",
   "execution_count": 15,
   "metadata": {},
   "outputs": [
    {
     "ename": "NameError",
     "evalue": "name 'a' is not defined",
     "output_type": "error",
     "traceback": [
      "\u001b[0;31m---------------------------------------------------------------------------\u001b[0m",
      "\u001b[0;31mNameError\u001b[0m                                 Traceback (most recent call last)",
      "Cell \u001b[0;32mIn[15], line 1\u001b[0m\n\u001b[0;32m----> 1\u001b[0m \u001b[43ma\u001b[49m\n",
      "\u001b[0;31mNameError\u001b[0m: name 'a' is not defined"
     ]
    }
   ],
   "source": [
    "a"
   ]
  },
  {
   "cell_type": "code",
   "execution_count": 10,
   "metadata": {},
   "outputs": [
    {
     "name": "stdout",
     "output_type": "stream",
     "text": [
      "deposited 2000 to account\n",
      "balance dari account 123 tersisa 7000\n"
     ]
    }
   ],
   "source": [
    "account1.deposit(2000)\n",
    "account1.check_balance()"
   ]
  },
  {
   "cell_type": "code",
   "execution_count": 12,
   "metadata": {},
   "outputs": [
    {
     "name": "stdout",
     "output_type": "stream",
     "text": [
      "balance dari account 123 tersisa 0\n"
     ]
    }
   ],
   "source": [
    "account1.withdraw(7000)\n",
    "account1.check_balance()"
   ]
  }
 ],
 "metadata": {
  "kernelspec": {
   "display_name": "data_science",
   "language": "python",
   "name": "python3"
  },
  "language_info": {
   "codemirror_mode": {
    "name": "ipython",
    "version": 3
   },
   "file_extension": ".py",
   "mimetype": "text/x-python",
   "name": "python",
   "nbconvert_exporter": "python",
   "pygments_lexer": "ipython3",
   "version": "3.9.18"
  }
 },
 "nbformat": 4,
 "nbformat_minor": 2
}
