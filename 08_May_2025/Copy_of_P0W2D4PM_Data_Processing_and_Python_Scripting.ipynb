{
  "cells": [
    {
      "cell_type": "markdown",
      "metadata": {
        "id": "qWqHr6Js9HCf"
      },
      "source": [
        "### SETUP"
      ]
    },
    {
      "cell_type": "code",
      "execution_count": 1,
      "metadata": {
        "id": "FyGsuhNd8-rT"
      },
      "outputs": [
        {
          "name": "stderr",
          "output_type": "stream",
          "text": [
            "/Users/hacktiv8/anaconda3/envs/data_science/lib/python3.9/site-packages/pandas/core/arrays/masked.py:60: UserWarning: Pandas requires version '1.3.6' or newer of 'bottleneck' (version '1.3.5' currently installed).\n",
            "  from pandas.core import (\n"
          ]
        }
      ],
      "source": [
        "import pandas as pd\n",
        "import numpy as np"
      ]
    },
    {
      "cell_type": "markdown",
      "metadata": {
        "id": "G8SFFi2o9Kwq"
      },
      "source": [
        "# Missing Values"
      ]
    },
    {
      "cell_type": "markdown",
      "metadata": {
        "id": "7GZHkgWXXdta"
      },
      "source": [
        "## Pandas Missing Values\n",
        "\n",
        "In pandas, missing values are represented by `NaN` for numeric data and `None` for non-numeric data (i.e., objects, strings). These are considered as the standard missing value representations. Let's explore how pandas handles standard and non-standard missing values:"
      ]
    },
    {
      "cell_type": "markdown",
      "metadata": {
        "id": "Pq_-cFWYXevD"
      },
      "source": [
        "### Standard Missing Values"
      ]
    },
    {
      "cell_type": "markdown",
      "metadata": {
        "id": "YieX7uktYMG8"
      },
      "source": [
        "#### **NaN**\n",
        "\n",
        "In pandas, the `NaN` (Not a Number) value is the default representation for missing numeric data. It is a special floating-point value used to indicate missing or undefined data. Pandas automatically handles operations involving `NaN`, propagating it through calculations without raising errors. For example:"
      ]
    },
    {
      "cell_type": "code",
      "execution_count": 2,
      "metadata": {
        "colab": {
          "base_uri": "https://localhost:8080/",
          "height": 204
        },
        "id": "glRJHy5fX5Cn",
        "outputId": "8e011e59-0d0a-499f-824c-81bd96242b47"
      },
      "outputs": [
        {
          "data": {
            "text/html": [
              "<div>\n",
              "<style scoped>\n",
              "    .dataframe tbody tr th:only-of-type {\n",
              "        vertical-align: middle;\n",
              "    }\n",
              "\n",
              "    .dataframe tbody tr th {\n",
              "        vertical-align: top;\n",
              "    }\n",
              "\n",
              "    .dataframe thead th {\n",
              "        text-align: right;\n",
              "    }\n",
              "</style>\n",
              "<table border=\"1\" class=\"dataframe\">\n",
              "  <thead>\n",
              "    <tr style=\"text-align: right;\">\n",
              "      <th></th>\n",
              "      <th>A</th>\n",
              "      <th>B</th>\n",
              "    </tr>\n",
              "  </thead>\n",
              "  <tbody>\n",
              "    <tr>\n",
              "      <th>0</th>\n",
              "      <td>1.0</td>\n",
              "      <td>10.0</td>\n",
              "    </tr>\n",
              "    <tr>\n",
              "      <th>1</th>\n",
              "      <td>2.0</td>\n",
              "      <td>20.0</td>\n",
              "    </tr>\n",
              "    <tr>\n",
              "      <th>2</th>\n",
              "      <td>NaN</td>\n",
              "      <td>30.0</td>\n",
              "    </tr>\n",
              "    <tr>\n",
              "      <th>3</th>\n",
              "      <td>4.0</td>\n",
              "      <td>NaN</td>\n",
              "    </tr>\n",
              "    <tr>\n",
              "      <th>4</th>\n",
              "      <td>5.0</td>\n",
              "      <td>50.0</td>\n",
              "    </tr>\n",
              "  </tbody>\n",
              "</table>\n",
              "</div>"
            ],
            "text/plain": [
              "     A     B\n",
              "0  1.0  10.0\n",
              "1  2.0  20.0\n",
              "2  NaN  30.0\n",
              "3  4.0   NaN\n",
              "4  5.0  50.0"
            ]
          },
          "execution_count": 2,
          "metadata": {},
          "output_type": "execute_result"
        }
      ],
      "source": [
        "data = {'A': [1, 2, np.nan, 4, 5],\n",
        "        'B': [10, 20, 30, np.nan, 50]}\n",
        "df = pd.DataFrame(data)\n",
        "\n",
        "df"
      ]
    },
    {
      "cell_type": "code",
      "execution_count": 3,
      "metadata": {
        "colab": {
          "base_uri": "https://localhost:8080/"
        },
        "id": "KEXCHOL6ZE4r",
        "outputId": "c502c7f0-b1f3-4b7d-839c-edc8035bfbf6"
      },
      "outputs": [
        {
          "name": "stdout",
          "output_type": "stream",
          "text": [
            "A     3.0\n",
            "B    27.5\n",
            "dtype: float64\n"
          ]
        }
      ],
      "source": [
        "print(df.mean())"
      ]
    },
    {
      "cell_type": "markdown",
      "metadata": {
        "id": "NBlnfRqWX-e0"
      },
      "source": [
        "In the above example, the `NaN` values are propagated through the mean calculation, and the result is 3.0 for column 'A' and 27.5 for column 'B'."
      ]
    },
    {
      "cell_type": "markdown",
      "metadata": {
        "id": "dTS4MwmLYWgi"
      },
      "source": [
        "#### **None**\n",
        "\n",
        "In pandas, for non-numeric data, the `None` value is used to represent missing values. It is a Python object representing the absence of a value. Pandas automatically converts Python `None` to `NaN` when working with non-numeric data. For example:"
      ]
    },
    {
      "cell_type": "code",
      "execution_count": 4,
      "metadata": {
        "colab": {
          "base_uri": "https://localhost:8080/",
          "height": 173
        },
        "id": "IElNv43l9PI9",
        "outputId": "55bc9753-2dc0-4bac-bd9a-52ae2c7c0ab9"
      },
      "outputs": [
        {
          "data": {
            "text/html": [
              "<div>\n",
              "<style scoped>\n",
              "    .dataframe tbody tr th:only-of-type {\n",
              "        vertical-align: middle;\n",
              "    }\n",
              "\n",
              "    .dataframe tbody tr th {\n",
              "        vertical-align: top;\n",
              "    }\n",
              "\n",
              "    .dataframe thead th {\n",
              "        text-align: right;\n",
              "    }\n",
              "</style>\n",
              "<table border=\"1\" class=\"dataframe\">\n",
              "  <thead>\n",
              "    <tr style=\"text-align: right;\">\n",
              "      <th></th>\n",
              "      <th>Name</th>\n",
              "      <th>Age</th>\n",
              "    </tr>\n",
              "  </thead>\n",
              "  <tbody>\n",
              "    <tr>\n",
              "      <th>0</th>\n",
              "      <td>Alice</td>\n",
              "      <td>25.0</td>\n",
              "    </tr>\n",
              "    <tr>\n",
              "      <th>1</th>\n",
              "      <td>Bob</td>\n",
              "      <td>NaN</td>\n",
              "    </tr>\n",
              "    <tr>\n",
              "      <th>2</th>\n",
              "      <td>None</td>\n",
              "      <td>30.0</td>\n",
              "    </tr>\n",
              "    <tr>\n",
              "      <th>3</th>\n",
              "      <td>Eve</td>\n",
              "      <td>35.0</td>\n",
              "    </tr>\n",
              "  </tbody>\n",
              "</table>\n",
              "</div>"
            ],
            "text/plain": [
              "    Name   Age\n",
              "0  Alice  25.0\n",
              "1    Bob   NaN\n",
              "2   None  30.0\n",
              "3    Eve  35.0"
            ]
          },
          "execution_count": 4,
          "metadata": {},
          "output_type": "execute_result"
        }
      ],
      "source": [
        "data = {'Name': ['Alice', 'Bob', None, 'Eve'],\n",
        "        'Age': [25, None, 30, 35]}\n",
        "df = pd.DataFrame(data)\n",
        "\n",
        "df"
      ]
    },
    {
      "cell_type": "markdown",
      "metadata": {
        "id": "ns6LcBInYgNZ"
      },
      "source": [
        "In this example, 'None' is automatically converted to `NaN` in the 'Age' column."
      ]
    },
    {
      "cell_type": "markdown",
      "metadata": {
        "id": "bK9A-JR6YkTm"
      },
      "source": [
        "### Non-Standard Missing Values\n",
        "\n",
        "Non-standard missing values refer to specific representations used by data sources to indicate missing data. These values are not automatically converted to `NaN` or `None` by pandas, so you need to handle them explicitly during data exploration and preprocessing.\n",
        "\n",
        "For example, some datasets might use \"N/A,\" \"NA,\" \"UNKNOWN,\" or other special values to indicate missing data. When loading such data into pandas, you need to specify those non-standard missing values as `na_values` during data import:"
      ]
    },
    {
      "cell_type": "code",
      "execution_count": 5,
      "metadata": {
        "colab": {
          "base_uri": "https://localhost:8080/",
          "height": 204
        },
        "id": "qqxUpCRjZX5J",
        "outputId": "0ea5049f-a6be-4f0c-ebb5-7b07a4ba48cc"
      },
      "outputs": [
        {
          "data": {
            "text/html": [
              "<div>\n",
              "<style scoped>\n",
              "    .dataframe tbody tr th:only-of-type {\n",
              "        vertical-align: middle;\n",
              "    }\n",
              "\n",
              "    .dataframe tbody tr th {\n",
              "        vertical-align: top;\n",
              "    }\n",
              "\n",
              "    .dataframe thead th {\n",
              "        text-align: right;\n",
              "    }\n",
              "</style>\n",
              "<table border=\"1\" class=\"dataframe\">\n",
              "  <thead>\n",
              "    <tr style=\"text-align: right;\">\n",
              "      <th></th>\n",
              "      <th>Column1</th>\n",
              "      <th>Column2</th>\n",
              "    </tr>\n",
              "  </thead>\n",
              "  <tbody>\n",
              "    <tr>\n",
              "      <th>0</th>\n",
              "      <td>1</td>\n",
              "      <td>10</td>\n",
              "    </tr>\n",
              "    <tr>\n",
              "      <th>1</th>\n",
              "      <td>2</td>\n",
              "      <td>NA</td>\n",
              "    </tr>\n",
              "    <tr>\n",
              "      <th>2</th>\n",
              "      <td>N/A</td>\n",
              "      <td>30</td>\n",
              "    </tr>\n",
              "    <tr>\n",
              "      <th>3</th>\n",
              "      <td>4</td>\n",
              "      <td>40</td>\n",
              "    </tr>\n",
              "    <tr>\n",
              "      <th>4</th>\n",
              "      <td>5</td>\n",
              "      <td>50</td>\n",
              "    </tr>\n",
              "  </tbody>\n",
              "</table>\n",
              "</div>"
            ],
            "text/plain": [
              "  Column1 Column2\n",
              "0       1      10\n",
              "1       2      NA\n",
              "2     N/A      30\n",
              "3       4      40\n",
              "4       5      50"
            ]
          },
          "execution_count": 5,
          "metadata": {},
          "output_type": "execute_result"
        }
      ],
      "source": [
        "data = pd.DataFrame({'Column1': [1, 2, 'N/A', 4, 5],\n",
        "        'Column2': [10, 'NA', 30, 40, 50]})\n",
        "data"
      ]
    },
    {
      "cell_type": "code",
      "execution_count": 6,
      "metadata": {
        "id": "4_NZTt-eZc3J"
      },
      "outputs": [],
      "source": [
        "data.to_csv('data.csv')"
      ]
    },
    {
      "cell_type": "code",
      "execution_count": 7,
      "metadata": {
        "colab": {
          "base_uri": "https://localhost:8080/",
          "height": 204
        },
        "id": "cNW0yGJtYsu7",
        "outputId": "22a49445-2171-4082-a8e7-e84ec5100658"
      },
      "outputs": [
        {
          "data": {
            "text/html": [
              "<div>\n",
              "<style scoped>\n",
              "    .dataframe tbody tr th:only-of-type {\n",
              "        vertical-align: middle;\n",
              "    }\n",
              "\n",
              "    .dataframe tbody tr th {\n",
              "        vertical-align: top;\n",
              "    }\n",
              "\n",
              "    .dataframe thead th {\n",
              "        text-align: right;\n",
              "    }\n",
              "</style>\n",
              "<table border=\"1\" class=\"dataframe\">\n",
              "  <thead>\n",
              "    <tr style=\"text-align: right;\">\n",
              "      <th></th>\n",
              "      <th>Unnamed: 0</th>\n",
              "      <th>Column1</th>\n",
              "      <th>Column2</th>\n",
              "    </tr>\n",
              "  </thead>\n",
              "  <tbody>\n",
              "    <tr>\n",
              "      <th>0</th>\n",
              "      <td>0</td>\n",
              "      <td>1.0</td>\n",
              "      <td>10.0</td>\n",
              "    </tr>\n",
              "    <tr>\n",
              "      <th>1</th>\n",
              "      <td>1</td>\n",
              "      <td>2.0</td>\n",
              "      <td>NaN</td>\n",
              "    </tr>\n",
              "    <tr>\n",
              "      <th>2</th>\n",
              "      <td>2</td>\n",
              "      <td>NaN</td>\n",
              "      <td>30.0</td>\n",
              "    </tr>\n",
              "    <tr>\n",
              "      <th>3</th>\n",
              "      <td>3</td>\n",
              "      <td>4.0</td>\n",
              "      <td>40.0</td>\n",
              "    </tr>\n",
              "    <tr>\n",
              "      <th>4</th>\n",
              "      <td>4</td>\n",
              "      <td>5.0</td>\n",
              "      <td>50.0</td>\n",
              "    </tr>\n",
              "  </tbody>\n",
              "</table>\n",
              "</div>"
            ],
            "text/plain": [
              "   Unnamed: 0  Column1  Column2\n",
              "0           0      1.0     10.0\n",
              "1           1      2.0      NaN\n",
              "2           2      NaN     30.0\n",
              "3           3      4.0     40.0\n",
              "4           4      5.0     50.0"
            ]
          },
          "execution_count": 7,
          "metadata": {},
          "output_type": "execute_result"
        }
      ],
      "source": [
        "df = pd.read_csv('data.csv', na_values=['N/A', 'NA'])\n",
        "df"
      ]
    },
    {
      "cell_type": "markdown",
      "metadata": {
        "id": "IP2Fi03GY4Fg"
      },
      "source": [
        "In this example, \"N/A\" and \"NA\" are treated as missing values and converted to `NaN` during data import."
      ]
    },
    {
      "cell_type": "markdown",
      "metadata": {
        "id": "RFKkPyF1ZqlQ"
      },
      "source": [
        "## How to Check Missing Values in Pandas\n",
        "\n",
        "You can use the `isnull()` method to check for missing values in pandas. The `isnull()` method returns a DataFrame of the same shape as the original, where each cell contains a boolean value indicating whether the corresponding value is missing (**True**) or not missing (**False**)."
      ]
    },
    {
      "cell_type": "code",
      "execution_count": 8,
      "metadata": {
        "colab": {
          "base_uri": "https://localhost:8080/",
          "height": 204
        },
        "id": "j4uM0X6DZ3Ja",
        "outputId": "dab20506-1d19-48f5-b64e-546451a992d0"
      },
      "outputs": [
        {
          "data": {
            "text/html": [
              "<div>\n",
              "<style scoped>\n",
              "    .dataframe tbody tr th:only-of-type {\n",
              "        vertical-align: middle;\n",
              "    }\n",
              "\n",
              "    .dataframe tbody tr th {\n",
              "        vertical-align: top;\n",
              "    }\n",
              "\n",
              "    .dataframe thead th {\n",
              "        text-align: right;\n",
              "    }\n",
              "</style>\n",
              "<table border=\"1\" class=\"dataframe\">\n",
              "  <thead>\n",
              "    <tr style=\"text-align: right;\">\n",
              "      <th></th>\n",
              "      <th>Order_ID</th>\n",
              "      <th>Customer_Name</th>\n",
              "      <th>Product</th>\n",
              "      <th>Quantity</th>\n",
              "      <th>Price</th>\n",
              "    </tr>\n",
              "  </thead>\n",
              "  <tbody>\n",
              "    <tr>\n",
              "      <th>0</th>\n",
              "      <td>101</td>\n",
              "      <td>Alice</td>\n",
              "      <td>Laptop</td>\n",
              "      <td>1.0</td>\n",
              "      <td>1000.0</td>\n",
              "    </tr>\n",
              "    <tr>\n",
              "      <th>1</th>\n",
              "      <td>102</td>\n",
              "      <td>Bob</td>\n",
              "      <td>Keyboard</td>\n",
              "      <td>2.0</td>\n",
              "      <td>500.0</td>\n",
              "    </tr>\n",
              "    <tr>\n",
              "      <th>2</th>\n",
              "      <td>103</td>\n",
              "      <td>Charlie</td>\n",
              "      <td>Monitor</td>\n",
              "      <td>NaN</td>\n",
              "      <td>NaN</td>\n",
              "    </tr>\n",
              "    <tr>\n",
              "      <th>3</th>\n",
              "      <td>104</td>\n",
              "      <td>None</td>\n",
              "      <td>Mouse</td>\n",
              "      <td>4.0</td>\n",
              "      <td>200.0</td>\n",
              "    </tr>\n",
              "    <tr>\n",
              "      <th>4</th>\n",
              "      <td>105</td>\n",
              "      <td>Eve</td>\n",
              "      <td>None</td>\n",
              "      <td>5.0</td>\n",
              "      <td>300.0</td>\n",
              "    </tr>\n",
              "  </tbody>\n",
              "</table>\n",
              "</div>"
            ],
            "text/plain": [
              "   Order_ID Customer_Name   Product  Quantity   Price\n",
              "0       101         Alice    Laptop       1.0  1000.0\n",
              "1       102           Bob  Keyboard       2.0   500.0\n",
              "2       103       Charlie   Monitor       NaN     NaN\n",
              "3       104          None     Mouse       4.0   200.0\n",
              "4       105           Eve      None       5.0   300.0"
            ]
          },
          "execution_count": 8,
          "metadata": {},
          "output_type": "execute_result"
        }
      ],
      "source": [
        "df = pd.DataFrame({\n",
        "                  'Order_ID': [101, 102, 103, 104, 105],\n",
        "                  'Customer_Name': ['Alice', 'Bob', 'Charlie', None, 'Eve'],\n",
        "                  'Product': ['Laptop', 'Keyboard', 'Monitor', 'Mouse', None],\n",
        "                  'Quantity': [1, 2, np.nan, 4, 5],\n",
        "                  'Price': [1000, 500, np.nan, 200, 300]\n",
        "              })\n",
        "df"
      ]
    },
    {
      "cell_type": "code",
      "execution_count": 9,
      "metadata": {
        "colab": {
          "base_uri": "https://localhost:8080/",
          "height": 204
        },
        "id": "XzDkcBA8Z8JV",
        "outputId": "af1fed02-136d-4b3c-b935-55e334f0032d"
      },
      "outputs": [
        {
          "data": {
            "text/html": [
              "<div>\n",
              "<style scoped>\n",
              "    .dataframe tbody tr th:only-of-type {\n",
              "        vertical-align: middle;\n",
              "    }\n",
              "\n",
              "    .dataframe tbody tr th {\n",
              "        vertical-align: top;\n",
              "    }\n",
              "\n",
              "    .dataframe thead th {\n",
              "        text-align: right;\n",
              "    }\n",
              "</style>\n",
              "<table border=\"1\" class=\"dataframe\">\n",
              "  <thead>\n",
              "    <tr style=\"text-align: right;\">\n",
              "      <th></th>\n",
              "      <th>Order_ID</th>\n",
              "      <th>Customer_Name</th>\n",
              "      <th>Product</th>\n",
              "      <th>Quantity</th>\n",
              "      <th>Price</th>\n",
              "    </tr>\n",
              "  </thead>\n",
              "  <tbody>\n",
              "    <tr>\n",
              "      <th>0</th>\n",
              "      <td>False</td>\n",
              "      <td>False</td>\n",
              "      <td>False</td>\n",
              "      <td>False</td>\n",
              "      <td>False</td>\n",
              "    </tr>\n",
              "    <tr>\n",
              "      <th>1</th>\n",
              "      <td>False</td>\n",
              "      <td>False</td>\n",
              "      <td>False</td>\n",
              "      <td>False</td>\n",
              "      <td>False</td>\n",
              "    </tr>\n",
              "    <tr>\n",
              "      <th>2</th>\n",
              "      <td>False</td>\n",
              "      <td>False</td>\n",
              "      <td>False</td>\n",
              "      <td>True</td>\n",
              "      <td>True</td>\n",
              "    </tr>\n",
              "    <tr>\n",
              "      <th>3</th>\n",
              "      <td>False</td>\n",
              "      <td>True</td>\n",
              "      <td>False</td>\n",
              "      <td>False</td>\n",
              "      <td>False</td>\n",
              "    </tr>\n",
              "    <tr>\n",
              "      <th>4</th>\n",
              "      <td>False</td>\n",
              "      <td>False</td>\n",
              "      <td>True</td>\n",
              "      <td>False</td>\n",
              "      <td>False</td>\n",
              "    </tr>\n",
              "  </tbody>\n",
              "</table>\n",
              "</div>"
            ],
            "text/plain": [
              "   Order_ID  Customer_Name  Product  Quantity  Price\n",
              "0     False          False    False     False  False\n",
              "1     False          False    False     False  False\n",
              "2     False          False    False      True   True\n",
              "3     False           True    False     False  False\n",
              "4     False          False     True     False  False"
            ]
          },
          "execution_count": 9,
          "metadata": {},
          "output_type": "execute_result"
        }
      ],
      "source": [
        "df.isnull()"
      ]
    },
    {
      "cell_type": "markdown",
      "metadata": {
        "id": "Ecb-wggGaYZV"
      },
      "source": [
        "### Exploring Missing Values\n",
        "\n",
        "You can use the `info()` method to get a concise summary of the DataFrame, including the count of non-null values in each column. By comparing the count of non-null values with the total number of rows, you can easily identify columns with missing values."
      ]
    },
    {
      "cell_type": "code",
      "execution_count": 10,
      "metadata": {
        "colab": {
          "base_uri": "https://localhost:8080/"
        },
        "id": "E4xC5zEBac3w",
        "outputId": "b5296c56-6acb-41f7-bda5-2cde3d7fbaf6"
      },
      "outputs": [
        {
          "name": "stdout",
          "output_type": "stream",
          "text": [
            "<class 'pandas.core.frame.DataFrame'>\n",
            "RangeIndex: 5 entries, 0 to 4\n",
            "Data columns (total 5 columns):\n",
            " #   Column         Non-Null Count  Dtype  \n",
            "---  ------         --------------  -----  \n",
            " 0   Order_ID       5 non-null      int64  \n",
            " 1   Customer_Name  4 non-null      object \n",
            " 2   Product        4 non-null      object \n",
            " 3   Quantity       4 non-null      float64\n",
            " 4   Price          4 non-null      float64\n",
            "dtypes: float64(2), int64(1), object(2)\n",
            "memory usage: 328.0+ bytes\n"
          ]
        }
      ],
      "source": [
        "df.info()"
      ]
    },
    {
      "cell_type": "markdown",
      "metadata": {
        "id": "_-5EI-HYag3N"
      },
      "source": [
        "In the output, the \"Non-Null Count\" column indicates the number of non-null values in each column. Columns with fewer non-null values than the total number of rows have missing values."
      ]
    },
    {
      "cell_type": "markdown",
      "metadata": {
        "id": "MNBWyxz4aj_x"
      },
      "source": [
        "### Counting Missing Values\n",
        "\n",
        "To count the number of missing values in each column, you can use the isnull() method followed by sum()."
      ]
    },
    {
      "cell_type": "code",
      "execution_count": 11,
      "metadata": {
        "colab": {
          "base_uri": "https://localhost:8080/",
          "height": 238
        },
        "id": "PGrWU61jaotU",
        "outputId": "835bb852-132a-4801-b22a-d0cb3a0a933d"
      },
      "outputs": [
        {
          "data": {
            "text/plain": [
              "Order_ID         0\n",
              "Customer_Name    1\n",
              "Product          1\n",
              "Quantity         1\n",
              "Price            1\n",
              "dtype: int64"
            ]
          },
          "execution_count": 11,
          "metadata": {},
          "output_type": "execute_result"
        }
      ],
      "source": [
        "df.isnull().sum()"
      ]
    },
    {
      "cell_type": "code",
      "execution_count": 12,
      "metadata": {
        "colab": {
          "base_uri": "https://localhost:8080/"
        },
        "id": "0IqTU3pwavzQ",
        "outputId": "0b454d82-3073-424d-906b-05420f950f11"
      },
      "outputs": [
        {
          "name": "stdout",
          "output_type": "stream",
          "text": [
            "Total missing values in data: 4\n"
          ]
        }
      ],
      "source": [
        "print('Total missing values in data:',df.isnull().sum().sum())"
      ]
    },
    {
      "cell_type": "markdown",
      "metadata": {
        "id": "ypE8B4oJryQq"
      },
      "source": [
        "## How to Handling Missing Values in Pandas\n",
        "\n",
        "Pandas provides several methods to handle missing values. Some common techniques include:"
      ]
    },
    {
      "cell_type": "markdown",
      "metadata": {
        "id": "iRkciui0r9DD"
      },
      "source": [
        "### Dropping Rows or Columns with Missing Values\n",
        "\n",
        "You can use the `dropna()` method to remove rows or columns with missing values."
      ]
    },
    {
      "cell_type": "code",
      "execution_count": 13,
      "metadata": {
        "id": "bU69NFL9r4c9"
      },
      "outputs": [],
      "source": [
        "# Remove rows with any missing values\n",
        "df_cleaned = df.dropna()\n",
        "\n",
        "# Remove columns with any missing values\n",
        "df_cleaned = df.dropna(axis=1)"
      ]
    },
    {
      "cell_type": "markdown",
      "metadata": {
        "id": "ZVzwyP66sB0L"
      },
      "source": [
        "### Filling Missing Values\n",
        "\n",
        "You can use the `fillna()` method to fill missing values with specific values."
      ]
    },
    {
      "cell_type": "code",
      "execution_count": 14,
      "metadata": {
        "id": "tl9bUisssHr8"
      },
      "outputs": [],
      "source": [
        "# Fill missing values in the 'Quantity' and 'Price' columns with the mean\n",
        "df_filled = df.fillna({'Quantity': df['Quantity'].mean(), 'Price': df['Price'].mean()})"
      ]
    },
    {
      "cell_type": "markdown",
      "metadata": {
        "id": "0TscnMWFsLOg"
      },
      "source": [
        "### Interpolation\n",
        "\n",
        "You can use interpolation methods, such as linear or polynomial, to fill missing values based on existing data."
      ]
    },
    {
      "cell_type": "code",
      "execution_count": 15,
      "metadata": {
        "colab": {
          "base_uri": "https://localhost:8080/",
          "height": 258
        },
        "id": "cEp0QJ_TsQUU",
        "outputId": "6cbb28f4-5e54-4f94-9492-9f50ddf4a107"
      },
      "outputs": [
        {
          "name": "stderr",
          "output_type": "stream",
          "text": [
            "/var/folders/80/9nz19ndj3130jx_8t5hgzwv80000gn/T/ipykernel_11954/980070153.py:2: FutureWarning: DataFrame.interpolate with object dtype is deprecated and will raise in a future version. Call obj.infer_objects(copy=False) before interpolating instead.\n",
            "  df_interpolated = df.interpolate()\n"
          ]
        },
        {
          "data": {
            "text/html": [
              "<div>\n",
              "<style scoped>\n",
              "    .dataframe tbody tr th:only-of-type {\n",
              "        vertical-align: middle;\n",
              "    }\n",
              "\n",
              "    .dataframe tbody tr th {\n",
              "        vertical-align: top;\n",
              "    }\n",
              "\n",
              "    .dataframe thead th {\n",
              "        text-align: right;\n",
              "    }\n",
              "</style>\n",
              "<table border=\"1\" class=\"dataframe\">\n",
              "  <thead>\n",
              "    <tr style=\"text-align: right;\">\n",
              "      <th></th>\n",
              "      <th>Order_ID</th>\n",
              "      <th>Customer_Name</th>\n",
              "      <th>Product</th>\n",
              "      <th>Quantity</th>\n",
              "      <th>Price</th>\n",
              "    </tr>\n",
              "  </thead>\n",
              "  <tbody>\n",
              "    <tr>\n",
              "      <th>0</th>\n",
              "      <td>101</td>\n",
              "      <td>Alice</td>\n",
              "      <td>Laptop</td>\n",
              "      <td>1.0</td>\n",
              "      <td>1000.0</td>\n",
              "    </tr>\n",
              "    <tr>\n",
              "      <th>1</th>\n",
              "      <td>102</td>\n",
              "      <td>Bob</td>\n",
              "      <td>Keyboard</td>\n",
              "      <td>2.0</td>\n",
              "      <td>500.0</td>\n",
              "    </tr>\n",
              "    <tr>\n",
              "      <th>2</th>\n",
              "      <td>103</td>\n",
              "      <td>Charlie</td>\n",
              "      <td>Monitor</td>\n",
              "      <td>3.0</td>\n",
              "      <td>350.0</td>\n",
              "    </tr>\n",
              "    <tr>\n",
              "      <th>3</th>\n",
              "      <td>104</td>\n",
              "      <td>None</td>\n",
              "      <td>Mouse</td>\n",
              "      <td>4.0</td>\n",
              "      <td>200.0</td>\n",
              "    </tr>\n",
              "    <tr>\n",
              "      <th>4</th>\n",
              "      <td>105</td>\n",
              "      <td>Eve</td>\n",
              "      <td>None</td>\n",
              "      <td>5.0</td>\n",
              "      <td>300.0</td>\n",
              "    </tr>\n",
              "  </tbody>\n",
              "</table>\n",
              "</div>"
            ],
            "text/plain": [
              "   Order_ID Customer_Name   Product  Quantity   Price\n",
              "0       101         Alice    Laptop       1.0  1000.0\n",
              "1       102           Bob  Keyboard       2.0   500.0\n",
              "2       103       Charlie   Monitor       3.0   350.0\n",
              "3       104          None     Mouse       4.0   200.0\n",
              "4       105           Eve      None       5.0   300.0"
            ]
          },
          "execution_count": 15,
          "metadata": {},
          "output_type": "execute_result"
        }
      ],
      "source": [
        "# Use linear interpolation to fill missing values\n",
        "df_interpolated = df.interpolate()\n",
        "df_interpolated"
      ]
    },
    {
      "cell_type": "code",
      "execution_count": 16,
      "metadata": {
        "colab": {
          "base_uri": "https://localhost:8080/",
          "height": 204
        },
        "id": "ZTJLQ4pzsivx",
        "outputId": "b1340306-609b-48c4-8b6c-ffa3f8191978"
      },
      "outputs": [
        {
          "data": {
            "text/html": [
              "<div>\n",
              "<style scoped>\n",
              "    .dataframe tbody tr th:only-of-type {\n",
              "        vertical-align: middle;\n",
              "    }\n",
              "\n",
              "    .dataframe tbody tr th {\n",
              "        vertical-align: top;\n",
              "    }\n",
              "\n",
              "    .dataframe thead th {\n",
              "        text-align: right;\n",
              "    }\n",
              "</style>\n",
              "<table border=\"1\" class=\"dataframe\">\n",
              "  <thead>\n",
              "    <tr style=\"text-align: right;\">\n",
              "      <th></th>\n",
              "      <th>Order_ID</th>\n",
              "      <th>Customer_Name</th>\n",
              "      <th>Product</th>\n",
              "      <th>Quantity</th>\n",
              "      <th>Price</th>\n",
              "    </tr>\n",
              "  </thead>\n",
              "  <tbody>\n",
              "    <tr>\n",
              "      <th>0</th>\n",
              "      <td>101</td>\n",
              "      <td>Alice</td>\n",
              "      <td>Laptop</td>\n",
              "      <td>1.0</td>\n",
              "      <td>1000.0</td>\n",
              "    </tr>\n",
              "    <tr>\n",
              "      <th>1</th>\n",
              "      <td>102</td>\n",
              "      <td>Bob</td>\n",
              "      <td>Keyboard</td>\n",
              "      <td>2.0</td>\n",
              "      <td>500.0</td>\n",
              "    </tr>\n",
              "    <tr>\n",
              "      <th>2</th>\n",
              "      <td>103</td>\n",
              "      <td>Charlie</td>\n",
              "      <td>Monitor</td>\n",
              "      <td>NaN</td>\n",
              "      <td>NaN</td>\n",
              "    </tr>\n",
              "    <tr>\n",
              "      <th>3</th>\n",
              "      <td>104</td>\n",
              "      <td>None</td>\n",
              "      <td>Mouse</td>\n",
              "      <td>4.0</td>\n",
              "      <td>200.0</td>\n",
              "    </tr>\n",
              "    <tr>\n",
              "      <th>4</th>\n",
              "      <td>105</td>\n",
              "      <td>Eve</td>\n",
              "      <td>None</td>\n",
              "      <td>5.0</td>\n",
              "      <td>300.0</td>\n",
              "    </tr>\n",
              "  </tbody>\n",
              "</table>\n",
              "</div>"
            ],
            "text/plain": [
              "   Order_ID Customer_Name   Product  Quantity   Price\n",
              "0       101         Alice    Laptop       1.0  1000.0\n",
              "1       102           Bob  Keyboard       2.0   500.0\n",
              "2       103       Charlie   Monitor       NaN     NaN\n",
              "3       104          None     Mouse       4.0   200.0\n",
              "4       105           Eve      None       5.0   300.0"
            ]
          },
          "execution_count": 16,
          "metadata": {},
          "output_type": "execute_result"
        }
      ],
      "source": [
        "df #NaN in Quantity and Price imputed by 3.0 and 350.0"
      ]
    },
    {
      "cell_type": "markdown",
      "metadata": {
        "id": "yMi94OK3sWJW"
      },
      "source": [
        "### Replace Missing Values with Specific Values\n",
        "\n",
        "You can use the replace() method to replace specific missing values with custom values."
      ]
    },
    {
      "cell_type": "code",
      "execution_count": 17,
      "metadata": {
        "colab": {
          "base_uri": "https://localhost:8080/",
          "height": 204
        },
        "id": "xvCozAqDsZt2",
        "outputId": "21e70cdf-7057-46f7-e9ad-ab9eb9e7a6a9"
      },
      "outputs": [
        {
          "data": {
            "text/html": [
              "<div>\n",
              "<style scoped>\n",
              "    .dataframe tbody tr th:only-of-type {\n",
              "        vertical-align: middle;\n",
              "    }\n",
              "\n",
              "    .dataframe tbody tr th {\n",
              "        vertical-align: top;\n",
              "    }\n",
              "\n",
              "    .dataframe thead th {\n",
              "        text-align: right;\n",
              "    }\n",
              "</style>\n",
              "<table border=\"1\" class=\"dataframe\">\n",
              "  <thead>\n",
              "    <tr style=\"text-align: right;\">\n",
              "      <th></th>\n",
              "      <th>Order_ID</th>\n",
              "      <th>Customer_Name</th>\n",
              "      <th>Product</th>\n",
              "      <th>Quantity</th>\n",
              "      <th>Price</th>\n",
              "    </tr>\n",
              "  </thead>\n",
              "  <tbody>\n",
              "    <tr>\n",
              "      <th>0</th>\n",
              "      <td>101</td>\n",
              "      <td>Alice</td>\n",
              "      <td>Laptop</td>\n",
              "      <td>1.0</td>\n",
              "      <td>1000.0</td>\n",
              "    </tr>\n",
              "    <tr>\n",
              "      <th>1</th>\n",
              "      <td>102</td>\n",
              "      <td>Bob</td>\n",
              "      <td>Keyboard</td>\n",
              "      <td>2.0</td>\n",
              "      <td>500.0</td>\n",
              "    </tr>\n",
              "    <tr>\n",
              "      <th>2</th>\n",
              "      <td>103</td>\n",
              "      <td>Charlie</td>\n",
              "      <td>Monitor</td>\n",
              "      <td>NaN</td>\n",
              "      <td>NaN</td>\n",
              "    </tr>\n",
              "    <tr>\n",
              "      <th>3</th>\n",
              "      <td>104</td>\n",
              "      <td>Unknown</td>\n",
              "      <td>Mouse</td>\n",
              "      <td>4.0</td>\n",
              "      <td>200.0</td>\n",
              "    </tr>\n",
              "    <tr>\n",
              "      <th>4</th>\n",
              "      <td>105</td>\n",
              "      <td>Eve</td>\n",
              "      <td>Unknown</td>\n",
              "      <td>5.0</td>\n",
              "      <td>300.0</td>\n",
              "    </tr>\n",
              "  </tbody>\n",
              "</table>\n",
              "</div>"
            ],
            "text/plain": [
              "   Order_ID Customer_Name   Product  Quantity   Price\n",
              "0       101         Alice    Laptop       1.0  1000.0\n",
              "1       102           Bob  Keyboard       2.0   500.0\n",
              "2       103       Charlie   Monitor       NaN     NaN\n",
              "3       104       Unknown     Mouse       4.0   200.0\n",
              "4       105           Eve   Unknown       5.0   300.0"
            ]
          },
          "execution_count": 17,
          "metadata": {},
          "output_type": "execute_result"
        }
      ],
      "source": [
        "# Replace 'None' with 'Unknown' in column Product, row-4\n",
        "df_replaced = df.replace(to_replace=[None], value='Unknown')\n",
        "df_replaced\n"
      ]
    },
    {
      "cell_type": "markdown",
      "metadata": {
        "id": "gep6bIPf9PQA"
      },
      "source": [
        "# Data Duplicate\n",
        "\n",
        "Let's generate a sample DataFrame with duplicate rows in an e-commerce dataset:"
      ]
    },
    {
      "cell_type": "code",
      "execution_count": 18,
      "metadata": {
        "colab": {
          "base_uri": "https://localhost:8080/",
          "height": 204
        },
        "id": "omYTp_DR9STx",
        "outputId": "65bc61cd-725c-4fb2-a699-c059e8b98df3"
      },
      "outputs": [
        {
          "data": {
            "text/html": [
              "<div>\n",
              "<style scoped>\n",
              "    .dataframe tbody tr th:only-of-type {\n",
              "        vertical-align: middle;\n",
              "    }\n",
              "\n",
              "    .dataframe tbody tr th {\n",
              "        vertical-align: top;\n",
              "    }\n",
              "\n",
              "    .dataframe thead th {\n",
              "        text-align: right;\n",
              "    }\n",
              "</style>\n",
              "<table border=\"1\" class=\"dataframe\">\n",
              "  <thead>\n",
              "    <tr style=\"text-align: right;\">\n",
              "      <th></th>\n",
              "      <th>Order_ID</th>\n",
              "      <th>Customer_Name</th>\n",
              "      <th>Product</th>\n",
              "      <th>Quantity</th>\n",
              "      <th>Price</th>\n",
              "    </tr>\n",
              "  </thead>\n",
              "  <tbody>\n",
              "    <tr>\n",
              "      <th>0</th>\n",
              "      <td>101</td>\n",
              "      <td>Alice</td>\n",
              "      <td>Laptop</td>\n",
              "      <td>1</td>\n",
              "      <td>1000</td>\n",
              "    </tr>\n",
              "    <tr>\n",
              "      <th>1</th>\n",
              "      <td>102</td>\n",
              "      <td>Bob</td>\n",
              "      <td>Keyboard</td>\n",
              "      <td>2</td>\n",
              "      <td>500</td>\n",
              "    </tr>\n",
              "    <tr>\n",
              "      <th>2</th>\n",
              "      <td>103</td>\n",
              "      <td>Charlie</td>\n",
              "      <td>Monitor</td>\n",
              "      <td>1</td>\n",
              "      <td>300</td>\n",
              "    </tr>\n",
              "    <tr>\n",
              "      <th>3</th>\n",
              "      <td>103</td>\n",
              "      <td>Charlie</td>\n",
              "      <td>Monitor</td>\n",
              "      <td>1</td>\n",
              "      <td>300</td>\n",
              "    </tr>\n",
              "    <tr>\n",
              "      <th>4</th>\n",
              "      <td>104</td>\n",
              "      <td>Eve</td>\n",
              "      <td>Mouse</td>\n",
              "      <td>1</td>\n",
              "      <td>200</td>\n",
              "    </tr>\n",
              "  </tbody>\n",
              "</table>\n",
              "</div>"
            ],
            "text/plain": [
              "   Order_ID Customer_Name   Product  Quantity  Price\n",
              "0       101         Alice    Laptop         1   1000\n",
              "1       102           Bob  Keyboard         2    500\n",
              "2       103       Charlie   Monitor         1    300\n",
              "3       103       Charlie   Monitor         1    300\n",
              "4       104           Eve     Mouse         1    200"
            ]
          },
          "execution_count": 18,
          "metadata": {},
          "output_type": "execute_result"
        }
      ],
      "source": [
        "# Sample data with duplicate rows\n",
        "data = {\n",
        "    'Order_ID': [101, 102, 103, 103, 104],\n",
        "    'Customer_Name': ['Alice', 'Bob', 'Charlie', 'Charlie', 'Eve'],\n",
        "    'Product': ['Laptop', 'Keyboard', 'Monitor', 'Monitor', 'Mouse'],\n",
        "    'Quantity': [1, 2, 1, 1, 1],\n",
        "    'Price': [1000, 500, 300, 300, 200]\n",
        "}\n",
        "\n",
        "df = pd.DataFrame(data)\n",
        "df\n"
      ]
    },
    {
      "cell_type": "markdown",
      "metadata": {
        "id": "uLoEihu3tFLt"
      },
      "source": [
        "In this example DataFrame, we have duplicate rows for Order_ID 103, as the customer \"Charlie\" ordered the same product \"Monitor\" twice."
      ]
    },
    {
      "cell_type": "markdown",
      "metadata": {
        "id": "XXjYQAxUtG9K"
      },
      "source": [
        "## Check Data Duplicate in Pandas\n",
        "To check for duplicate rows in a DataFrame, you can use the `duplicated()` method, which returns a boolean Series indicating whether each row is a duplicate (True) or not (False)."
      ]
    },
    {
      "cell_type": "code",
      "execution_count": 19,
      "metadata": {
        "colab": {
          "base_uri": "https://localhost:8080/",
          "height": 238
        },
        "id": "E36WIVdptGYx",
        "outputId": "2b1caf76-80a9-4371-8083-898640151bb5"
      },
      "outputs": [
        {
          "data": {
            "text/plain": [
              "0    False\n",
              "1    False\n",
              "2    False\n",
              "3     True\n",
              "4    False\n",
              "dtype: bool"
            ]
          },
          "execution_count": 19,
          "metadata": {},
          "output_type": "execute_result"
        }
      ],
      "source": [
        "duplicates = df.duplicated()\n",
        "duplicates"
      ]
    },
    {
      "cell_type": "markdown",
      "metadata": {
        "id": "tOmegQHutmTc"
      },
      "source": [
        "## Remove Data Duplicate\n",
        "To remove duplicate rows from a DataFrame, you can use the `drop_duplicates()` method. By default, it keeps the first occurrence of each duplicate row and removes the subsequent duplicates."
      ]
    },
    {
      "cell_type": "code",
      "execution_count": 20,
      "metadata": {
        "colab": {
          "base_uri": "https://localhost:8080/",
          "height": 173
        },
        "id": "fiVPn5WOtqkn",
        "outputId": "fc8c9ed1-01eb-41be-83b5-5cfd05fa4989"
      },
      "outputs": [
        {
          "data": {
            "text/html": [
              "<div>\n",
              "<style scoped>\n",
              "    .dataframe tbody tr th:only-of-type {\n",
              "        vertical-align: middle;\n",
              "    }\n",
              "\n",
              "    .dataframe tbody tr th {\n",
              "        vertical-align: top;\n",
              "    }\n",
              "\n",
              "    .dataframe thead th {\n",
              "        text-align: right;\n",
              "    }\n",
              "</style>\n",
              "<table border=\"1\" class=\"dataframe\">\n",
              "  <thead>\n",
              "    <tr style=\"text-align: right;\">\n",
              "      <th></th>\n",
              "      <th>Order_ID</th>\n",
              "      <th>Customer_Name</th>\n",
              "      <th>Product</th>\n",
              "      <th>Quantity</th>\n",
              "      <th>Price</th>\n",
              "    </tr>\n",
              "  </thead>\n",
              "  <tbody>\n",
              "    <tr>\n",
              "      <th>0</th>\n",
              "      <td>101</td>\n",
              "      <td>Alice</td>\n",
              "      <td>Laptop</td>\n",
              "      <td>1</td>\n",
              "      <td>1000</td>\n",
              "    </tr>\n",
              "    <tr>\n",
              "      <th>1</th>\n",
              "      <td>102</td>\n",
              "      <td>Bob</td>\n",
              "      <td>Keyboard</td>\n",
              "      <td>2</td>\n",
              "      <td>500</td>\n",
              "    </tr>\n",
              "    <tr>\n",
              "      <th>2</th>\n",
              "      <td>103</td>\n",
              "      <td>Charlie</td>\n",
              "      <td>Monitor</td>\n",
              "      <td>1</td>\n",
              "      <td>300</td>\n",
              "    </tr>\n",
              "    <tr>\n",
              "      <th>4</th>\n",
              "      <td>104</td>\n",
              "      <td>Eve</td>\n",
              "      <td>Mouse</td>\n",
              "      <td>1</td>\n",
              "      <td>200</td>\n",
              "    </tr>\n",
              "  </tbody>\n",
              "</table>\n",
              "</div>"
            ],
            "text/plain": [
              "   Order_ID Customer_Name   Product  Quantity  Price\n",
              "0       101         Alice    Laptop         1   1000\n",
              "1       102           Bob  Keyboard         2    500\n",
              "2       103       Charlie   Monitor         1    300\n",
              "4       104           Eve     Mouse         1    200"
            ]
          },
          "execution_count": 20,
          "metadata": {},
          "output_type": "execute_result"
        }
      ],
      "source": [
        "df_cleaned = df.drop_duplicates()\n",
        "df_cleaned"
      ]
    },
    {
      "cell_type": "markdown",
      "metadata": {
        "id": "gY4y38tBtu5h"
      },
      "source": [
        "The duplicate row with 'Order_ID' 102 and 'Customer_Name' 'Bob' is removed, and only the first occurrence is kept.\n",
        "\n",
        "You can customize the behavior using the keep parameter:\n",
        "- **keep='first'**: (default) Keeps the first occurrence of each duplicate row and removes the subsequent duplicates.\n",
        "- **keep='last'**: Keeps the last occurrence of each duplicate row and removes the preceding duplicates.\n",
        "- **keep=False**: Removes all occurrences of duplicate rows.\n",
        "\n"
      ]
    },
    {
      "cell_type": "code",
      "execution_count": 21,
      "metadata": {
        "colab": {
          "base_uri": "https://localhost:8080/",
          "height": 173
        },
        "id": "G0kpOQFCuP1v",
        "outputId": "463803e7-9920-465e-d049-c12631c104c8"
      },
      "outputs": [
        {
          "data": {
            "text/html": [
              "<div>\n",
              "<style scoped>\n",
              "    .dataframe tbody tr th:only-of-type {\n",
              "        vertical-align: middle;\n",
              "    }\n",
              "\n",
              "    .dataframe tbody tr th {\n",
              "        vertical-align: top;\n",
              "    }\n",
              "\n",
              "    .dataframe thead th {\n",
              "        text-align: right;\n",
              "    }\n",
              "</style>\n",
              "<table border=\"1\" class=\"dataframe\">\n",
              "  <thead>\n",
              "    <tr style=\"text-align: right;\">\n",
              "      <th></th>\n",
              "      <th>Order_ID</th>\n",
              "      <th>Customer_Name</th>\n",
              "      <th>Product</th>\n",
              "      <th>Quantity</th>\n",
              "      <th>Price</th>\n",
              "    </tr>\n",
              "  </thead>\n",
              "  <tbody>\n",
              "    <tr>\n",
              "      <th>0</th>\n",
              "      <td>101</td>\n",
              "      <td>Alice</td>\n",
              "      <td>Laptop</td>\n",
              "      <td>1</td>\n",
              "      <td>1000</td>\n",
              "    </tr>\n",
              "    <tr>\n",
              "      <th>1</th>\n",
              "      <td>102</td>\n",
              "      <td>Bob</td>\n",
              "      <td>Keyboard</td>\n",
              "      <td>2</td>\n",
              "      <td>500</td>\n",
              "    </tr>\n",
              "    <tr>\n",
              "      <th>3</th>\n",
              "      <td>103</td>\n",
              "      <td>Charlie</td>\n",
              "      <td>Monitor</td>\n",
              "      <td>1</td>\n",
              "      <td>300</td>\n",
              "    </tr>\n",
              "    <tr>\n",
              "      <th>4</th>\n",
              "      <td>104</td>\n",
              "      <td>Eve</td>\n",
              "      <td>Mouse</td>\n",
              "      <td>1</td>\n",
              "      <td>200</td>\n",
              "    </tr>\n",
              "  </tbody>\n",
              "</table>\n",
              "</div>"
            ],
            "text/plain": [
              "   Order_ID Customer_Name   Product  Quantity  Price\n",
              "0       101         Alice    Laptop         1   1000\n",
              "1       102           Bob  Keyboard         2    500\n",
              "3       103       Charlie   Monitor         1    300\n",
              "4       104           Eve     Mouse         1    200"
            ]
          },
          "execution_count": 21,
          "metadata": {},
          "output_type": "execute_result"
        }
      ],
      "source": [
        "df_cleaned_last = df.drop_duplicates(keep='last')\n",
        "df_cleaned_last"
      ]
    },
    {
      "cell_type": "markdown",
      "metadata": {
        "id": "fufHgWiBuTQN"
      },
      "source": [
        "The duplicate row with 'Order_ID' 102 and 'Customer_Name' 'Bob' is removed, but the last occurrence is kept."
      ]
    },
    {
      "cell_type": "markdown",
      "metadata": {
        "id": "m-KYgDmauX5G"
      },
      "source": [
        "## Subset for Duplicates\n",
        "You can check for duplicates based on a subset of columns using the subset parameter. This allows you to identify duplicates based on specific columns rather than the entire row."
      ]
    },
    {
      "cell_type": "code",
      "execution_count": 22,
      "metadata": {
        "colab": {
          "base_uri": "https://localhost:8080/",
          "height": 238
        },
        "id": "jYQovMDCudVz",
        "outputId": "f41afc7e-0335-45d5-952a-aabd8eada12a"
      },
      "outputs": [
        {
          "data": {
            "text/plain": [
              "0    False\n",
              "1    False\n",
              "2    False\n",
              "3     True\n",
              "4    False\n",
              "dtype: bool"
            ]
          },
          "execution_count": 22,
          "metadata": {},
          "output_type": "execute_result"
        }
      ],
      "source": [
        "duplicates_subset = df.duplicated(subset=['Order_ID', 'Customer_Name'])\n",
        "\n",
        "duplicates_subset"
      ]
    },
    {
      "cell_type": "markdown",
      "metadata": {
        "id": "GKDvWRlkuf4R"
      },
      "source": [
        "In this example, the last row (index 4) is a duplicate based on the 'Order_ID' and 'Customer_Name' columns."
      ]
    },
    {
      "cell_type": "markdown",
      "metadata": {
        "id": "cbFoopInugRx"
      },
      "source": [
        "## Handling Duplicates Based on Key Columns:\n",
        "To remove duplicates based on a subset of columns, you can use the `drop_duplicates()` method with the `subset` parameter."
      ]
    },
    {
      "cell_type": "code",
      "execution_count": 23,
      "metadata": {
        "colab": {
          "base_uri": "https://localhost:8080/",
          "height": 173
        },
        "id": "F2noPJfGunk-",
        "outputId": "fdb67940-e134-49cd-e727-2a339597e074"
      },
      "outputs": [
        {
          "data": {
            "text/html": [
              "<div>\n",
              "<style scoped>\n",
              "    .dataframe tbody tr th:only-of-type {\n",
              "        vertical-align: middle;\n",
              "    }\n",
              "\n",
              "    .dataframe tbody tr th {\n",
              "        vertical-align: top;\n",
              "    }\n",
              "\n",
              "    .dataframe thead th {\n",
              "        text-align: right;\n",
              "    }\n",
              "</style>\n",
              "<table border=\"1\" class=\"dataframe\">\n",
              "  <thead>\n",
              "    <tr style=\"text-align: right;\">\n",
              "      <th></th>\n",
              "      <th>Order_ID</th>\n",
              "      <th>Customer_Name</th>\n",
              "      <th>Product</th>\n",
              "      <th>Quantity</th>\n",
              "      <th>Price</th>\n",
              "    </tr>\n",
              "  </thead>\n",
              "  <tbody>\n",
              "    <tr>\n",
              "      <th>0</th>\n",
              "      <td>101</td>\n",
              "      <td>Alice</td>\n",
              "      <td>Laptop</td>\n",
              "      <td>1</td>\n",
              "      <td>1000</td>\n",
              "    </tr>\n",
              "    <tr>\n",
              "      <th>1</th>\n",
              "      <td>102</td>\n",
              "      <td>Bob</td>\n",
              "      <td>Keyboard</td>\n",
              "      <td>2</td>\n",
              "      <td>500</td>\n",
              "    </tr>\n",
              "    <tr>\n",
              "      <th>3</th>\n",
              "      <td>103</td>\n",
              "      <td>Charlie</td>\n",
              "      <td>Monitor</td>\n",
              "      <td>1</td>\n",
              "      <td>300</td>\n",
              "    </tr>\n",
              "    <tr>\n",
              "      <th>4</th>\n",
              "      <td>104</td>\n",
              "      <td>Eve</td>\n",
              "      <td>Mouse</td>\n",
              "      <td>1</td>\n",
              "      <td>200</td>\n",
              "    </tr>\n",
              "  </tbody>\n",
              "</table>\n",
              "</div>"
            ],
            "text/plain": [
              "   Order_ID Customer_Name   Product  Quantity  Price\n",
              "0       101         Alice    Laptop         1   1000\n",
              "1       102           Bob  Keyboard         2    500\n",
              "3       103       Charlie   Monitor         1    300\n",
              "4       104           Eve     Mouse         1    200"
            ]
          },
          "execution_count": 23,
          "metadata": {},
          "output_type": "execute_result"
        }
      ],
      "source": [
        "# Remove duplicates based on the 'Order_ID' and 'Customer_Name' columns, keeping the last occurrence\n",
        "df_cleaned_subset = df.drop_duplicates(subset=['Order_ID', 'Customer_Name'], keep='last')\n",
        "\n",
        "df_cleaned_subset"
      ]
    },
    {
      "cell_type": "markdown",
      "metadata": {
        "id": "aCTYCxFlusJb"
      },
      "source": [
        "In this example, the duplicate row with 'Order_ID' 102 and 'Customer_Name' 'Bob' is removed, and only the last occurrence is kept."
      ]
    },
    {
      "cell_type": "markdown",
      "metadata": {
        "id": "eF60fLEk9Say"
      },
      "source": [
        "# Incosistent Data Handling"
      ]
    },
    {
      "cell_type": "markdown",
      "metadata": {
        "id": "-iz1GNSuuvbl"
      },
      "source": [
        "## Data Type Conversion\n",
        "\n",
        "Data type conversion in pandas using the `astype()` method allows you to explicitly change the data type of one or more columns in a DataFrame. This operation is crucial because sometimes the imported data may not have the correct data types, or you might want to convert data for better analysis and processing. You can use `astype()` to convert columns to numeric, datetime, string, or any other appropriate data type."
      ]
    },
    {
      "cell_type": "code",
      "execution_count": 24,
      "metadata": {
        "colab": {
          "base_uri": "https://localhost:8080/",
          "height": 204
        },
        "id": "O5c4d6Ed9VTc",
        "outputId": "26e40388-6907-469a-b4ec-09d181c399e3"
      },
      "outputs": [
        {
          "data": {
            "text/html": [
              "<div>\n",
              "<style scoped>\n",
              "    .dataframe tbody tr th:only-of-type {\n",
              "        vertical-align: middle;\n",
              "    }\n",
              "\n",
              "    .dataframe tbody tr th {\n",
              "        vertical-align: top;\n",
              "    }\n",
              "\n",
              "    .dataframe thead th {\n",
              "        text-align: right;\n",
              "    }\n",
              "</style>\n",
              "<table border=\"1\" class=\"dataframe\">\n",
              "  <thead>\n",
              "    <tr style=\"text-align: right;\">\n",
              "      <th></th>\n",
              "      <th>Order_ID</th>\n",
              "      <th>Date</th>\n",
              "      <th>Customer_ID</th>\n",
              "      <th>Product</th>\n",
              "      <th>Quantity</th>\n",
              "      <th>Price</th>\n",
              "    </tr>\n",
              "  </thead>\n",
              "  <tbody>\n",
              "    <tr>\n",
              "      <th>0</th>\n",
              "      <td>101</td>\n",
              "      <td>2023-07-15</td>\n",
              "      <td>C001</td>\n",
              "      <td>Laptop</td>\n",
              "      <td>1</td>\n",
              "      <td>1000.50</td>\n",
              "    </tr>\n",
              "    <tr>\n",
              "      <th>1</th>\n",
              "      <td>102</td>\n",
              "      <td>2023-07-16</td>\n",
              "      <td>C002</td>\n",
              "      <td>Keyboard</td>\n",
              "      <td>2</td>\n",
              "      <td>250.25</td>\n",
              "    </tr>\n",
              "    <tr>\n",
              "      <th>2</th>\n",
              "      <td>103</td>\n",
              "      <td>2023-07-17</td>\n",
              "      <td>C003</td>\n",
              "      <td>Monitor</td>\n",
              "      <td>3</td>\n",
              "      <td>350.75</td>\n",
              "    </tr>\n",
              "    <tr>\n",
              "      <th>3</th>\n",
              "      <td>104</td>\n",
              "      <td>2023-07-18</td>\n",
              "      <td>C004</td>\n",
              "      <td>Mouse</td>\n",
              "      <td>4</td>\n",
              "      <td>75.20</td>\n",
              "    </tr>\n",
              "    <tr>\n",
              "      <th>4</th>\n",
              "      <td>105</td>\n",
              "      <td>2023-07-19</td>\n",
              "      <td>C005</td>\n",
              "      <td>Headphones</td>\n",
              "      <td>5</td>\n",
              "      <td>120.99</td>\n",
              "    </tr>\n",
              "  </tbody>\n",
              "</table>\n",
              "</div>"
            ],
            "text/plain": [
              "   Order_ID        Date Customer_ID     Product Quantity    Price\n",
              "0       101  2023-07-15        C001      Laptop        1  1000.50\n",
              "1       102  2023-07-16        C002    Keyboard        2   250.25\n",
              "2       103  2023-07-17        C003     Monitor        3   350.75\n",
              "3       104  2023-07-18        C004       Mouse        4    75.20\n",
              "4       105  2023-07-19        C005  Headphones        5   120.99"
            ]
          },
          "execution_count": 24,
          "metadata": {},
          "output_type": "execute_result"
        }
      ],
      "source": [
        "# Sample sales transaction data\n",
        "data = {\n",
        "    'Order_ID': [101, 102, 103, 104, 105],\n",
        "    'Date': ['2023-07-15', '2023-07-16', '2023-07-17', '2023-07-18', '2023-07-19'],\n",
        "    'Customer_ID': ['C001', 'C002', 'C003', 'C004', 'C005'],\n",
        "    'Product': ['Laptop', 'Keyboard', 'Monitor', 'Mouse', 'Headphones'],\n",
        "    'Quantity': ['1', '2', '3', '4', '5'],\n",
        "    'Price': ['1000.50', '250.25', '350.75', '75.20', '120.99']\n",
        "}\n",
        "\n",
        "df = pd.DataFrame(data)\n",
        "df"
      ]
    },
    {
      "cell_type": "code",
      "execution_count": 25,
      "metadata": {
        "colab": {
          "base_uri": "https://localhost:8080/"
        },
        "id": "wBfKuxJlv1PT",
        "outputId": "51067608-978c-4ed4-ac57-4dead44357a1"
      },
      "outputs": [
        {
          "name": "stdout",
          "output_type": "stream",
          "text": [
            "<class 'pandas.core.frame.DataFrame'>\n",
            "RangeIndex: 5 entries, 0 to 4\n",
            "Data columns (total 6 columns):\n",
            " #   Column       Non-Null Count  Dtype \n",
            "---  ------       --------------  ----- \n",
            " 0   Order_ID     5 non-null      int64 \n",
            " 1   Date         5 non-null      object\n",
            " 2   Customer_ID  5 non-null      object\n",
            " 3   Product      5 non-null      object\n",
            " 4   Quantity     5 non-null      object\n",
            " 5   Price        5 non-null      object\n",
            "dtypes: int64(1), object(5)\n",
            "memory usage: 368.0+ bytes\n"
          ]
        }
      ],
      "source": [
        "df.info()"
      ]
    },
    {
      "cell_type": "markdown",
      "metadata": {
        "id": "MdXbfrftv4ie"
      },
      "source": [
        "In this example DataFrame, the 'Date', 'Quantity', and 'Price' columns are stored as strings. We need to convert them to appropriate data types."
      ]
    },
    {
      "cell_type": "markdown",
      "metadata": {
        "id": "WQFMt_7Pwtnz"
      },
      "source": [
        "The 'Date' column should be converted to the datetime data type for better time-related operations."
      ]
    },
    {
      "cell_type": "code",
      "execution_count": 26,
      "metadata": {
        "colab": {
          "base_uri": "https://localhost:8080/"
        },
        "id": "znHDpOgxwwTZ",
        "outputId": "722aade0-b112-4fc2-d70e-c746ad93264c"
      },
      "outputs": [
        {
          "name": "stdout",
          "output_type": "stream",
          "text": [
            "Order_ID                int64\n",
            "Date           datetime64[ns]\n",
            "Customer_ID            object\n",
            "Product                object\n",
            "Quantity               object\n",
            "Price                  object\n",
            "dtype: object\n"
          ]
        }
      ],
      "source": [
        "df['Date'] = pd.to_datetime(df['Date'])\n",
        "print(df.dtypes)"
      ]
    },
    {
      "cell_type": "markdown",
      "metadata": {
        "id": "9VQbspppxguQ"
      },
      "source": [
        "'Quantity' represents numeric values, so we should convert it to the integer data type."
      ]
    },
    {
      "cell_type": "code",
      "execution_count": 27,
      "metadata": {
        "colab": {
          "base_uri": "https://localhost:8080/"
        },
        "id": "NP6Km5StxoM3",
        "outputId": "f8914716-c24f-4870-fe31-e79cac6d920e"
      },
      "outputs": [
        {
          "name": "stdout",
          "output_type": "stream",
          "text": [
            "Order_ID                int64\n",
            "Date           datetime64[ns]\n",
            "Customer_ID            object\n",
            "Product                object\n",
            "Quantity                int64\n",
            "Price                  object\n",
            "dtype: object\n"
          ]
        }
      ],
      "source": [
        "df['Quantity'] = df['Quantity'].astype(int)\n",
        "print(df.dtypes)"
      ]
    },
    {
      "cell_type": "markdown",
      "metadata": {
        "id": "IBry80zdxrB5"
      },
      "source": [
        "'Price' represents currency values, so we should convert it to the float data type."
      ]
    },
    {
      "cell_type": "code",
      "execution_count": 28,
      "metadata": {
        "colab": {
          "base_uri": "https://localhost:8080/"
        },
        "id": "CM4DfkRdxsvR",
        "outputId": "99401a8d-050a-4dcd-f41e-95ca0c96a303"
      },
      "outputs": [
        {
          "name": "stdout",
          "output_type": "stream",
          "text": [
            "Order_ID                int64\n",
            "Date           datetime64[ns]\n",
            "Customer_ID            object\n",
            "Product                object\n",
            "Quantity                int64\n",
            "Price                 float64\n",
            "dtype: object\n"
          ]
        }
      ],
      "source": [
        "df['Price'] = df['Price'].astype(float)\n",
        "print(df.dtypes)"
      ]
    },
    {
      "cell_type": "markdown",
      "metadata": {
        "id": "BUl-uMvTy1vE"
      },
      "source": [
        "## String"
      ]
    },
    {
      "cell_type": "code",
      "execution_count": 29,
      "metadata": {
        "colab": {
          "base_uri": "https://localhost:8080/",
          "height": 204
        },
        "id": "K2XKNVjhy7lD",
        "outputId": "db01349b-e620-4abe-bbab-b50e0636642b"
      },
      "outputs": [
        {
          "data": {
            "text/html": [
              "<div>\n",
              "<style scoped>\n",
              "    .dataframe tbody tr th:only-of-type {\n",
              "        vertical-align: middle;\n",
              "    }\n",
              "\n",
              "    .dataframe tbody tr th {\n",
              "        vertical-align: top;\n",
              "    }\n",
              "\n",
              "    .dataframe thead th {\n",
              "        text-align: right;\n",
              "    }\n",
              "</style>\n",
              "<table border=\"1\" class=\"dataframe\">\n",
              "  <thead>\n",
              "    <tr style=\"text-align: right;\">\n",
              "      <th></th>\n",
              "      <th>Transaction_ID</th>\n",
              "      <th>Customer_Name</th>\n",
              "      <th>Product_Description</th>\n",
              "    </tr>\n",
              "  </thead>\n",
              "  <tbody>\n",
              "    <tr>\n",
              "      <th>0</th>\n",
              "      <td>101</td>\n",
              "      <td>John Doe</td>\n",
              "      <td>Laptop Asus Core i5</td>\n",
              "    </tr>\n",
              "    <tr>\n",
              "      <th>1</th>\n",
              "      <td>102</td>\n",
              "      <td>Alice</td>\n",
              "      <td>Keyboard Logitech</td>\n",
              "    </tr>\n",
              "    <tr>\n",
              "      <th>2</th>\n",
              "      <td>103</td>\n",
              "      <td>Bob</td>\n",
              "      <td>Monitor Samsung</td>\n",
              "    </tr>\n",
              "    <tr>\n",
              "      <th>3</th>\n",
              "      <td>104</td>\n",
              "      <td>Charlie</td>\n",
              "      <td>Mouse HP</td>\n",
              "    </tr>\n",
              "    <tr>\n",
              "      <th>4</th>\n",
              "      <td>105</td>\n",
              "      <td>Eve</td>\n",
              "      <td>Headphones Sony</td>\n",
              "    </tr>\n",
              "  </tbody>\n",
              "</table>\n",
              "</div>"
            ],
            "text/plain": [
              "   Transaction_ID Customer_Name  Product_Description\n",
              "0             101    John Doe    Laptop Asus Core i5\n",
              "1             102         Alice    Keyboard Logitech\n",
              "2             103         Bob        Monitor Samsung\n",
              "3             104       Charlie             Mouse HP\n",
              "4             105           Eve      Headphones Sony"
            ]
          },
          "execution_count": 29,
          "metadata": {},
          "output_type": "execute_result"
        }
      ],
      "source": [
        "df = pd.DataFrame({\n",
        "    'Transaction_ID': [101, 102, 103, 104, 105],\n",
        "    'Customer_Name': ['  John Doe  ', 'Alice', '  Bob  ', 'Charlie', 'Eve'],\n",
        "    'Product_Description': ['Laptop Asus Core i5', 'Keyboard Logitech', 'Monitor Samsung', 'Mouse HP', 'Headphones Sony']\n",
        "})\n",
        "\n",
        "df"
      ]
    },
    {
      "cell_type": "markdown",
      "metadata": {
        "id": "CG_mEfE4zErj"
      },
      "source": [
        "**1. Removing Leading/Trailing Whitespaces**:\n",
        "\n",
        "You can remove leading and trailing whitespaces from string columns using the `str.strip()` method:"
      ]
    },
    {
      "cell_type": "code",
      "execution_count": 30,
      "metadata": {
        "colab": {
          "base_uri": "https://localhost:8080/",
          "height": 204
        },
        "id": "dxnbFB0pzEGl",
        "outputId": "eb8a6b8c-9227-41f1-ab95-e97cc6a90cd3"
      },
      "outputs": [
        {
          "data": {
            "text/html": [
              "<div>\n",
              "<style scoped>\n",
              "    .dataframe tbody tr th:only-of-type {\n",
              "        vertical-align: middle;\n",
              "    }\n",
              "\n",
              "    .dataframe tbody tr th {\n",
              "        vertical-align: top;\n",
              "    }\n",
              "\n",
              "    .dataframe thead th {\n",
              "        text-align: right;\n",
              "    }\n",
              "</style>\n",
              "<table border=\"1\" class=\"dataframe\">\n",
              "  <thead>\n",
              "    <tr style=\"text-align: right;\">\n",
              "      <th></th>\n",
              "      <th>Transaction_ID</th>\n",
              "      <th>Customer_Name</th>\n",
              "      <th>Product_Description</th>\n",
              "    </tr>\n",
              "  </thead>\n",
              "  <tbody>\n",
              "    <tr>\n",
              "      <th>0</th>\n",
              "      <td>101</td>\n",
              "      <td>John Doe</td>\n",
              "      <td>Laptop Asus Core i5</td>\n",
              "    </tr>\n",
              "    <tr>\n",
              "      <th>1</th>\n",
              "      <td>102</td>\n",
              "      <td>Alice</td>\n",
              "      <td>Keyboard Logitech</td>\n",
              "    </tr>\n",
              "    <tr>\n",
              "      <th>2</th>\n",
              "      <td>103</td>\n",
              "      <td>Bob</td>\n",
              "      <td>Monitor Samsung</td>\n",
              "    </tr>\n",
              "    <tr>\n",
              "      <th>3</th>\n",
              "      <td>104</td>\n",
              "      <td>Charlie</td>\n",
              "      <td>Mouse HP</td>\n",
              "    </tr>\n",
              "    <tr>\n",
              "      <th>4</th>\n",
              "      <td>105</td>\n",
              "      <td>Eve</td>\n",
              "      <td>Headphones Sony</td>\n",
              "    </tr>\n",
              "  </tbody>\n",
              "</table>\n",
              "</div>"
            ],
            "text/plain": [
              "   Transaction_ID Customer_Name  Product_Description\n",
              "0             101      John Doe  Laptop Asus Core i5\n",
              "1             102         Alice    Keyboard Logitech\n",
              "2             103           Bob      Monitor Samsung\n",
              "3             104       Charlie             Mouse HP\n",
              "4             105           Eve      Headphones Sony"
            ]
          },
          "execution_count": 30,
          "metadata": {},
          "output_type": "execute_result"
        }
      ],
      "source": [
        "# Remove leading/trailing whitespaces from 'Customer_Name' and 'Product_Description'\n",
        "df['Customer_Name'] = df['Customer_Name'].str.strip()\n",
        "df['Product_Description'] = df['Product_Description'].str.strip()\n",
        "df"
      ]
    },
    {
      "cell_type": "markdown",
      "metadata": {
        "id": "4qcZXIlczi2i"
      },
      "source": [
        "**2. Changing Case**:\n",
        "\n",
        "You can change the case of string columns using the `str.lower()` or `str.upper()` methods:"
      ]
    },
    {
      "cell_type": "code",
      "execution_count": 31,
      "metadata": {
        "colab": {
          "base_uri": "https://localhost:8080/",
          "height": 204
        },
        "id": "IY2LouWPzoom",
        "outputId": "a9e7e92d-16ca-4904-bc93-1cd2b4efb2a8"
      },
      "outputs": [
        {
          "data": {
            "text/html": [
              "<div>\n",
              "<style scoped>\n",
              "    .dataframe tbody tr th:only-of-type {\n",
              "        vertical-align: middle;\n",
              "    }\n",
              "\n",
              "    .dataframe tbody tr th {\n",
              "        vertical-align: top;\n",
              "    }\n",
              "\n",
              "    .dataframe thead th {\n",
              "        text-align: right;\n",
              "    }\n",
              "</style>\n",
              "<table border=\"1\" class=\"dataframe\">\n",
              "  <thead>\n",
              "    <tr style=\"text-align: right;\">\n",
              "      <th></th>\n",
              "      <th>Transaction_ID</th>\n",
              "      <th>Customer_Name</th>\n",
              "      <th>Product_Description</th>\n",
              "    </tr>\n",
              "  </thead>\n",
              "  <tbody>\n",
              "    <tr>\n",
              "      <th>0</th>\n",
              "      <td>101</td>\n",
              "      <td>john doe</td>\n",
              "      <td>LAPTOP ASUS CORE I5</td>\n",
              "    </tr>\n",
              "    <tr>\n",
              "      <th>1</th>\n",
              "      <td>102</td>\n",
              "      <td>alice</td>\n",
              "      <td>KEYBOARD LOGITECH</td>\n",
              "    </tr>\n",
              "    <tr>\n",
              "      <th>2</th>\n",
              "      <td>103</td>\n",
              "      <td>bob</td>\n",
              "      <td>MONITOR SAMSUNG</td>\n",
              "    </tr>\n",
              "    <tr>\n",
              "      <th>3</th>\n",
              "      <td>104</td>\n",
              "      <td>charlie</td>\n",
              "      <td>MOUSE HP</td>\n",
              "    </tr>\n",
              "    <tr>\n",
              "      <th>4</th>\n",
              "      <td>105</td>\n",
              "      <td>eve</td>\n",
              "      <td>HEADPHONES SONY</td>\n",
              "    </tr>\n",
              "  </tbody>\n",
              "</table>\n",
              "</div>"
            ],
            "text/plain": [
              "   Transaction_ID Customer_Name  Product_Description\n",
              "0             101      john doe  LAPTOP ASUS CORE I5\n",
              "1             102         alice    KEYBOARD LOGITECH\n",
              "2             103           bob      MONITOR SAMSUNG\n",
              "3             104       charlie             MOUSE HP\n",
              "4             105           eve      HEADPHONES SONY"
            ]
          },
          "execution_count": 31,
          "metadata": {},
          "output_type": "execute_result"
        }
      ],
      "source": [
        "# Convert 'Customer_Name' to lowercase\n",
        "df['Customer_Name'] = df['Customer_Name'].str.lower()\n",
        "\n",
        "# Convert 'Product_Description' to uppercase\n",
        "df['Product_Description'] = df['Product_Description'].str.upper()\n",
        "\n",
        "df"
      ]
    },
    {
      "cell_type": "markdown",
      "metadata": {
        "id": "YDQamY59zzsZ"
      },
      "source": [
        "**3. Removing or Replacing Substrings**:\n",
        "\n",
        "You can remove or replace specific substrings in string columns using the `str.replace()` method:"
      ]
    },
    {
      "cell_type": "code",
      "execution_count": 32,
      "metadata": {
        "colab": {
          "base_uri": "https://localhost:8080/",
          "height": 204
        },
        "id": "Lx8tAuXcz4AN",
        "outputId": "2cb1a090-620c-4be8-9b96-5b98958d5152"
      },
      "outputs": [
        {
          "data": {
            "text/html": [
              "<div>\n",
              "<style scoped>\n",
              "    .dataframe tbody tr th:only-of-type {\n",
              "        vertical-align: middle;\n",
              "    }\n",
              "\n",
              "    .dataframe tbody tr th {\n",
              "        vertical-align: top;\n",
              "    }\n",
              "\n",
              "    .dataframe thead th {\n",
              "        text-align: right;\n",
              "    }\n",
              "</style>\n",
              "<table border=\"1\" class=\"dataframe\">\n",
              "  <thead>\n",
              "    <tr style=\"text-align: right;\">\n",
              "      <th></th>\n",
              "      <th>Transaction_ID</th>\n",
              "      <th>Customer_Name</th>\n",
              "      <th>Product_Description</th>\n",
              "    </tr>\n",
              "  </thead>\n",
              "  <tbody>\n",
              "    <tr>\n",
              "      <th>0</th>\n",
              "      <td>101</td>\n",
              "      <td>john doe</td>\n",
              "      <td>LAPTOP ASUS CORE I5</td>\n",
              "    </tr>\n",
              "    <tr>\n",
              "      <th>1</th>\n",
              "      <td>102</td>\n",
              "      <td>alice</td>\n",
              "      <td>KEYBOARD LOGITECH</td>\n",
              "    </tr>\n",
              "    <tr>\n",
              "      <th>2</th>\n",
              "      <td>103</td>\n",
              "      <td>bob</td>\n",
              "      <td>MONITOR SAMSUNG</td>\n",
              "    </tr>\n",
              "    <tr>\n",
              "      <th>3</th>\n",
              "      <td>104</td>\n",
              "      <td>charlie</td>\n",
              "      <td>MOUSE HP</td>\n",
              "    </tr>\n",
              "    <tr>\n",
              "      <th>4</th>\n",
              "      <td>105</td>\n",
              "      <td>eve</td>\n",
              "      <td>HEADPHONES SONY</td>\n",
              "    </tr>\n",
              "  </tbody>\n",
              "</table>\n",
              "</div>"
            ],
            "text/plain": [
              "   Transaction_ID Customer_Name  Product_Description\n",
              "0             101      john doe  LAPTOP ASUS CORE I5\n",
              "1             102         alice    KEYBOARD LOGITECH\n",
              "2             103           bob      MONITOR SAMSUNG\n",
              "3             104       charlie             MOUSE HP\n",
              "4             105           eve      HEADPHONES SONY"
            ]
          },
          "execution_count": 32,
          "metadata": {},
          "output_type": "execute_result"
        }
      ],
      "source": [
        "# Remove 'Core i5' from 'Product_Description'\n",
        "df['Product_Description'] = df['Product_Description'].str.replace('Core i5', '')\n",
        "\n",
        "# Replace 'Sony' with 'Sony Corporation' in 'Product_Description'\n",
        "df['Product_Description'] = df['Product_Description'].str.replace('Sony', 'Sony Corporation')\n",
        "\n",
        "df"
      ]
    },
    {
      "cell_type": "markdown",
      "metadata": {
        "id": "crzl10z1z8Rp"
      },
      "source": [
        "**4. Splitting and Extracting Substrings**:\n",
        "\n",
        "You can split and extract substrings from string columns using the `str.split()` and indexing:"
      ]
    },
    {
      "cell_type": "code",
      "execution_count": 33,
      "metadata": {
        "colab": {
          "base_uri": "https://localhost:8080/",
          "height": 204
        },
        "id": "OtnTTVqr0AHx",
        "outputId": "4e034fa6-68dd-488f-d6eb-3e66b95e44ee"
      },
      "outputs": [
        {
          "data": {
            "text/html": [
              "<div>\n",
              "<style scoped>\n",
              "    .dataframe tbody tr th:only-of-type {\n",
              "        vertical-align: middle;\n",
              "    }\n",
              "\n",
              "    .dataframe tbody tr th {\n",
              "        vertical-align: top;\n",
              "    }\n",
              "\n",
              "    .dataframe thead th {\n",
              "        text-align: right;\n",
              "    }\n",
              "</style>\n",
              "<table border=\"1\" class=\"dataframe\">\n",
              "  <thead>\n",
              "    <tr style=\"text-align: right;\">\n",
              "      <th></th>\n",
              "      <th>0</th>\n",
              "      <th>1</th>\n",
              "    </tr>\n",
              "  </thead>\n",
              "  <tbody>\n",
              "    <tr>\n",
              "      <th>0</th>\n",
              "      <td>LAPTOP</td>\n",
              "      <td>ASUS CORE I5</td>\n",
              "    </tr>\n",
              "    <tr>\n",
              "      <th>1</th>\n",
              "      <td>KEYBOARD</td>\n",
              "      <td>LOGITECH</td>\n",
              "    </tr>\n",
              "    <tr>\n",
              "      <th>2</th>\n",
              "      <td>MONITOR</td>\n",
              "      <td>SAMSUNG</td>\n",
              "    </tr>\n",
              "    <tr>\n",
              "      <th>3</th>\n",
              "      <td>MOUSE</td>\n",
              "      <td>HP</td>\n",
              "    </tr>\n",
              "    <tr>\n",
              "      <th>4</th>\n",
              "      <td>HEADPHONES</td>\n",
              "      <td>SONY</td>\n",
              "    </tr>\n",
              "  </tbody>\n",
              "</table>\n",
              "</div>"
            ],
            "text/plain": [
              "            0             1\n",
              "0      LAPTOP  ASUS CORE I5\n",
              "1    KEYBOARD      LOGITECH\n",
              "2     MONITOR       SAMSUNG\n",
              "3       MOUSE            HP\n",
              "4  HEADPHONES          SONY"
            ]
          },
          "execution_count": 33,
          "metadata": {},
          "output_type": "execute_result"
        }
      ],
      "source": [
        "# Split 'Product_Description' into two separate columns\n",
        "# df['Product_Description'].str.split(' ', 1, expand=True) deprecated\n",
        "df['Product_Description'].str.split(' ', n=1, expand=True)"
      ]
    },
    {
      "cell_type": "code",
      "execution_count": 34,
      "metadata": {
        "colab": {
          "base_uri": "https://localhost:8080/",
          "height": 204
        },
        "id": "nTSEP50I0IkV",
        "outputId": "496e43a3-898f-429f-ddbf-1434f876e2a5"
      },
      "outputs": [
        {
          "data": {
            "text/html": [
              "<div>\n",
              "<style scoped>\n",
              "    .dataframe tbody tr th:only-of-type {\n",
              "        vertical-align: middle;\n",
              "    }\n",
              "\n",
              "    .dataframe tbody tr th {\n",
              "        vertical-align: top;\n",
              "    }\n",
              "\n",
              "    .dataframe thead th {\n",
              "        text-align: right;\n",
              "    }\n",
              "</style>\n",
              "<table border=\"1\" class=\"dataframe\">\n",
              "  <thead>\n",
              "    <tr style=\"text-align: right;\">\n",
              "      <th></th>\n",
              "      <th>Transaction_ID</th>\n",
              "      <th>Customer_Name</th>\n",
              "      <th>Product_Description</th>\n",
              "      <th>Product_Brand</th>\n",
              "      <th>Product_Model</th>\n",
              "    </tr>\n",
              "  </thead>\n",
              "  <tbody>\n",
              "    <tr>\n",
              "      <th>0</th>\n",
              "      <td>101</td>\n",
              "      <td>john doe</td>\n",
              "      <td>LAPTOP ASUS CORE I5</td>\n",
              "      <td>LAPTOP</td>\n",
              "      <td>ASUS CORE I5</td>\n",
              "    </tr>\n",
              "    <tr>\n",
              "      <th>1</th>\n",
              "      <td>102</td>\n",
              "      <td>alice</td>\n",
              "      <td>KEYBOARD LOGITECH</td>\n",
              "      <td>KEYBOARD</td>\n",
              "      <td>LOGITECH</td>\n",
              "    </tr>\n",
              "    <tr>\n",
              "      <th>2</th>\n",
              "      <td>103</td>\n",
              "      <td>bob</td>\n",
              "      <td>MONITOR SAMSUNG</td>\n",
              "      <td>MONITOR</td>\n",
              "      <td>SAMSUNG</td>\n",
              "    </tr>\n",
              "    <tr>\n",
              "      <th>3</th>\n",
              "      <td>104</td>\n",
              "      <td>charlie</td>\n",
              "      <td>MOUSE HP</td>\n",
              "      <td>MOUSE</td>\n",
              "      <td>HP</td>\n",
              "    </tr>\n",
              "    <tr>\n",
              "      <th>4</th>\n",
              "      <td>105</td>\n",
              "      <td>eve</td>\n",
              "      <td>HEADPHONES SONY</td>\n",
              "      <td>HEADPHONES</td>\n",
              "      <td>SONY</td>\n",
              "    </tr>\n",
              "  </tbody>\n",
              "</table>\n",
              "</div>"
            ],
            "text/plain": [
              "   Transaction_ID Customer_Name  Product_Description Product_Brand  \\\n",
              "0             101      john doe  LAPTOP ASUS CORE I5        LAPTOP   \n",
              "1             102         alice    KEYBOARD LOGITECH      KEYBOARD   \n",
              "2             103           bob      MONITOR SAMSUNG       MONITOR   \n",
              "3             104       charlie             MOUSE HP         MOUSE   \n",
              "4             105           eve      HEADPHONES SONY    HEADPHONES   \n",
              "\n",
              "  Product_Model  \n",
              "0  ASUS CORE I5  \n",
              "1      LOGITECH  \n",
              "2       SAMSUNG  \n",
              "3            HP  \n",
              "4          SONY  "
            ]
          },
          "execution_count": 34,
          "metadata": {},
          "output_type": "execute_result"
        }
      ],
      "source": [
        "df[['Product_Brand', 'Product_Model']] = df['Product_Description'].str.split(' ', n=1, expand=True)\n",
        "df"
      ]
    },
    {
      "cell_type": "markdown",
      "metadata": {
        "id": "GutbD6SzyRWv"
      },
      "source": [
        "## Datetime"
      ]
    },
    {
      "cell_type": "code",
      "execution_count": 35,
      "metadata": {
        "colab": {
          "base_uri": "https://localhost:8080/",
          "height": 204
        },
        "id": "8K6wjdFm0_9E",
        "outputId": "67953ac8-c581-47f3-9634-6f5dda40fedf"
      },
      "outputs": [
        {
          "data": {
            "text/html": [
              "<div>\n",
              "<style scoped>\n",
              "    .dataframe tbody tr th:only-of-type {\n",
              "        vertical-align: middle;\n",
              "    }\n",
              "\n",
              "    .dataframe tbody tr th {\n",
              "        vertical-align: top;\n",
              "    }\n",
              "\n",
              "    .dataframe thead th {\n",
              "        text-align: right;\n",
              "    }\n",
              "</style>\n",
              "<table border=\"1\" class=\"dataframe\">\n",
              "  <thead>\n",
              "    <tr style=\"text-align: right;\">\n",
              "      <th></th>\n",
              "      <th>Order_ID</th>\n",
              "      <th>Date_Time</th>\n",
              "      <th>Customer_ID</th>\n",
              "      <th>Product</th>\n",
              "      <th>Quantity</th>\n",
              "      <th>Price</th>\n",
              "    </tr>\n",
              "  </thead>\n",
              "  <tbody>\n",
              "    <tr>\n",
              "      <th>0</th>\n",
              "      <td>101</td>\n",
              "      <td>2023-07-15 10:30:00</td>\n",
              "      <td>C001</td>\n",
              "      <td>Laptop</td>\n",
              "      <td>1</td>\n",
              "      <td>1000</td>\n",
              "    </tr>\n",
              "    <tr>\n",
              "      <th>1</th>\n",
              "      <td>102</td>\n",
              "      <td>2023-07-16 15:45:00</td>\n",
              "      <td>C002</td>\n",
              "      <td>Keyboard</td>\n",
              "      <td>2</td>\n",
              "      <td>250</td>\n",
              "    </tr>\n",
              "    <tr>\n",
              "      <th>2</th>\n",
              "      <td>103</td>\n",
              "      <td>2023-07-17 12:00:00</td>\n",
              "      <td>C003</td>\n",
              "      <td>Monitor</td>\n",
              "      <td>3</td>\n",
              "      <td>350</td>\n",
              "    </tr>\n",
              "    <tr>\n",
              "      <th>3</th>\n",
              "      <td>104</td>\n",
              "      <td>2023-07-18 09:00:00</td>\n",
              "      <td>C004</td>\n",
              "      <td>Mouse</td>\n",
              "      <td>4</td>\n",
              "      <td>75</td>\n",
              "    </tr>\n",
              "    <tr>\n",
              "      <th>4</th>\n",
              "      <td>105</td>\n",
              "      <td>2023-07-19 16:20:00</td>\n",
              "      <td>C005</td>\n",
              "      <td>Headphones</td>\n",
              "      <td>5</td>\n",
              "      <td>120</td>\n",
              "    </tr>\n",
              "  </tbody>\n",
              "</table>\n",
              "</div>"
            ],
            "text/plain": [
              "   Order_ID           Date_Time Customer_ID     Product  Quantity  Price\n",
              "0       101 2023-07-15 10:30:00        C001      Laptop         1   1000\n",
              "1       102 2023-07-16 15:45:00        C002    Keyboard         2    250\n",
              "2       103 2023-07-17 12:00:00        C003     Monitor         3    350\n",
              "3       104 2023-07-18 09:00:00        C004       Mouse         4     75\n",
              "4       105 2023-07-19 16:20:00        C005  Headphones         5    120"
            ]
          },
          "execution_count": 35,
          "metadata": {},
          "output_type": "execute_result"
        }
      ],
      "source": [
        "data = {\n",
        "    'Order_ID': [101, 102, 103, 104, 105],\n",
        "    'Date_Time': ['2023-07-15 10:30:00', '2023-07-16 15:45:00', '2023-07-17 12:00:00', '2023-07-18 09:00:00', '2023-07-19 16:20:00'],\n",
        "    'Customer_ID': ['C001', 'C002', 'C003', 'C004', 'C005'],\n",
        "    'Product': ['Laptop', 'Keyboard', 'Monitor', 'Mouse', 'Headphones'],\n",
        "    'Quantity': [1, 2, 3, 4, 5],\n",
        "    'Price': [1000, 250, 350, 75, 120]\n",
        "}\n",
        "\n",
        "df = pd.DataFrame(data)\n",
        "df['Date_Time'] = pd.to_datetime(df['Date_Time'])\n",
        "\n",
        "df"
      ]
    },
    {
      "cell_type": "markdown",
      "metadata": {
        "id": "NXKxZT8I1JXO"
      },
      "source": [
        "**1. Extracting Date Components**:\n",
        "\n",
        "You can extract various date components from the 'Date_Time' column, such as year, month, day, hour, minute, and second, using the `dt` accessor."
      ]
    },
    {
      "cell_type": "code",
      "execution_count": 36,
      "metadata": {
        "colab": {
          "base_uri": "https://localhost:8080/",
          "height": 204
        },
        "id": "103Ws3pR1MwW",
        "outputId": "248d7788-69fe-467a-9b36-b55bf9464822"
      },
      "outputs": [
        {
          "data": {
            "text/html": [
              "<div>\n",
              "<style scoped>\n",
              "    .dataframe tbody tr th:only-of-type {\n",
              "        vertical-align: middle;\n",
              "    }\n",
              "\n",
              "    .dataframe tbody tr th {\n",
              "        vertical-align: top;\n",
              "    }\n",
              "\n",
              "    .dataframe thead th {\n",
              "        text-align: right;\n",
              "    }\n",
              "</style>\n",
              "<table border=\"1\" class=\"dataframe\">\n",
              "  <thead>\n",
              "    <tr style=\"text-align: right;\">\n",
              "      <th></th>\n",
              "      <th>Date_Time</th>\n",
              "      <th>Year</th>\n",
              "      <th>Month</th>\n",
              "      <th>Day</th>\n",
              "    </tr>\n",
              "  </thead>\n",
              "  <tbody>\n",
              "    <tr>\n",
              "      <th>0</th>\n",
              "      <td>2023-07-15 10:30:00</td>\n",
              "      <td>2023</td>\n",
              "      <td>7</td>\n",
              "      <td>15</td>\n",
              "    </tr>\n",
              "    <tr>\n",
              "      <th>1</th>\n",
              "      <td>2023-07-16 15:45:00</td>\n",
              "      <td>2023</td>\n",
              "      <td>7</td>\n",
              "      <td>16</td>\n",
              "    </tr>\n",
              "    <tr>\n",
              "      <th>2</th>\n",
              "      <td>2023-07-17 12:00:00</td>\n",
              "      <td>2023</td>\n",
              "      <td>7</td>\n",
              "      <td>17</td>\n",
              "    </tr>\n",
              "    <tr>\n",
              "      <th>3</th>\n",
              "      <td>2023-07-18 09:00:00</td>\n",
              "      <td>2023</td>\n",
              "      <td>7</td>\n",
              "      <td>18</td>\n",
              "    </tr>\n",
              "    <tr>\n",
              "      <th>4</th>\n",
              "      <td>2023-07-19 16:20:00</td>\n",
              "      <td>2023</td>\n",
              "      <td>7</td>\n",
              "      <td>19</td>\n",
              "    </tr>\n",
              "  </tbody>\n",
              "</table>\n",
              "</div>"
            ],
            "text/plain": [
              "            Date_Time  Year  Month  Day\n",
              "0 2023-07-15 10:30:00  2023      7   15\n",
              "1 2023-07-16 15:45:00  2023      7   16\n",
              "2 2023-07-17 12:00:00  2023      7   17\n",
              "3 2023-07-18 09:00:00  2023      7   18\n",
              "4 2023-07-19 16:20:00  2023      7   19"
            ]
          },
          "execution_count": 36,
          "metadata": {},
          "output_type": "execute_result"
        }
      ],
      "source": [
        "# Extract year, month, and day from 'Date_Time'\n",
        "df['Year'] = df['Date_Time'].dt.year\n",
        "df['Month'] = df['Date_Time'].dt.month\n",
        "df['Day'] = df['Date_Time'].dt.day\n",
        "\n",
        "df[['Date_Time', 'Year', 'Month', 'Day']]"
      ]
    },
    {
      "cell_type": "markdown",
      "metadata": {
        "id": "v9oQpLZy1TKf"
      },
      "source": [
        "**2. Formatting Datetime**:\n",
        "\n",
        "You can format the 'Date_Time' column into a specific datetime format using the `dt.strftime()` method."
      ]
    },
    {
      "cell_type": "code",
      "execution_count": 37,
      "metadata": {
        "colab": {
          "base_uri": "https://localhost:8080/",
          "height": 204
        },
        "id": "uP9s_Xrn1VHx",
        "outputId": "81dd8d12-d04d-487e-d70f-0bcf4cd4b8cd"
      },
      "outputs": [
        {
          "data": {
            "text/html": [
              "<div>\n",
              "<style scoped>\n",
              "    .dataframe tbody tr th:only-of-type {\n",
              "        vertical-align: middle;\n",
              "    }\n",
              "\n",
              "    .dataframe tbody tr th {\n",
              "        vertical-align: top;\n",
              "    }\n",
              "\n",
              "    .dataframe thead th {\n",
              "        text-align: right;\n",
              "    }\n",
              "</style>\n",
              "<table border=\"1\" class=\"dataframe\">\n",
              "  <thead>\n",
              "    <tr style=\"text-align: right;\">\n",
              "      <th></th>\n",
              "      <th>Date_Time</th>\n",
              "      <th>Formatted_Date</th>\n",
              "    </tr>\n",
              "  </thead>\n",
              "  <tbody>\n",
              "    <tr>\n",
              "      <th>0</th>\n",
              "      <td>2023-07-15 10:30:00</td>\n",
              "      <td>2023-07-15 10:30</td>\n",
              "    </tr>\n",
              "    <tr>\n",
              "      <th>1</th>\n",
              "      <td>2023-07-16 15:45:00</td>\n",
              "      <td>2023-07-16 15:45</td>\n",
              "    </tr>\n",
              "    <tr>\n",
              "      <th>2</th>\n",
              "      <td>2023-07-17 12:00:00</td>\n",
              "      <td>2023-07-17 12:00</td>\n",
              "    </tr>\n",
              "    <tr>\n",
              "      <th>3</th>\n",
              "      <td>2023-07-18 09:00:00</td>\n",
              "      <td>2023-07-18 09:00</td>\n",
              "    </tr>\n",
              "    <tr>\n",
              "      <th>4</th>\n",
              "      <td>2023-07-19 16:20:00</td>\n",
              "      <td>2023-07-19 16:20</td>\n",
              "    </tr>\n",
              "  </tbody>\n",
              "</table>\n",
              "</div>"
            ],
            "text/plain": [
              "            Date_Time    Formatted_Date\n",
              "0 2023-07-15 10:30:00  2023-07-15 10:30\n",
              "1 2023-07-16 15:45:00  2023-07-16 15:45\n",
              "2 2023-07-17 12:00:00  2023-07-17 12:00\n",
              "3 2023-07-18 09:00:00  2023-07-18 09:00\n",
              "4 2023-07-19 16:20:00  2023-07-19 16:20"
            ]
          },
          "execution_count": 37,
          "metadata": {},
          "output_type": "execute_result"
        }
      ],
      "source": [
        "# Format 'Date_Time' to a specific format (e.g., \"yyyy-mm-dd HH:MM\")\n",
        "df['Formatted_Date'] = df['Date_Time'].dt.strftime('%Y-%m-%d %H:%M')\n",
        "\n",
        "df[['Date_Time', 'Formatted_Date']]"
      ]
    },
    {
      "cell_type": "markdown",
      "metadata": {
        "id": "Rol6jeDx1l7C"
      },
      "source": [
        "**3. Calculating Time Differences**:\n",
        "\n",
        "You can calculate the time differences between two datetime columns, such as the difference between the 'Date_Time' and the current time."
      ]
    },
    {
      "cell_type": "code",
      "execution_count": 38,
      "metadata": {
        "colab": {
          "base_uri": "https://localhost:8080/",
          "height": 204
        },
        "id": "bvW34kcV1o1c",
        "outputId": "9141a22b-e901-4004-aec3-21e37efcd5c5"
      },
      "outputs": [
        {
          "data": {
            "text/html": [
              "<div>\n",
              "<style scoped>\n",
              "    .dataframe tbody tr th:only-of-type {\n",
              "        vertical-align: middle;\n",
              "    }\n",
              "\n",
              "    .dataframe tbody tr th {\n",
              "        vertical-align: top;\n",
              "    }\n",
              "\n",
              "    .dataframe thead th {\n",
              "        text-align: right;\n",
              "    }\n",
              "</style>\n",
              "<table border=\"1\" class=\"dataframe\">\n",
              "  <thead>\n",
              "    <tr style=\"text-align: right;\">\n",
              "      <th></th>\n",
              "      <th>Date_Time</th>\n",
              "      <th>Time_Difference</th>\n",
              "    </tr>\n",
              "  </thead>\n",
              "  <tbody>\n",
              "    <tr>\n",
              "      <th>0</th>\n",
              "      <td>2023-07-15 10:30:00</td>\n",
              "      <td>4 days 23:30:00</td>\n",
              "    </tr>\n",
              "    <tr>\n",
              "      <th>1</th>\n",
              "      <td>2023-07-16 15:45:00</td>\n",
              "      <td>3 days 18:15:00</td>\n",
              "    </tr>\n",
              "    <tr>\n",
              "      <th>2</th>\n",
              "      <td>2023-07-17 12:00:00</td>\n",
              "      <td>2 days 22:00:00</td>\n",
              "    </tr>\n",
              "    <tr>\n",
              "      <th>3</th>\n",
              "      <td>2023-07-18 09:00:00</td>\n",
              "      <td>2 days 01:00:00</td>\n",
              "    </tr>\n",
              "    <tr>\n",
              "      <th>4</th>\n",
              "      <td>2023-07-19 16:20:00</td>\n",
              "      <td>0 days 17:40:00</td>\n",
              "    </tr>\n",
              "  </tbody>\n",
              "</table>\n",
              "</div>"
            ],
            "text/plain": [
              "            Date_Time Time_Difference\n",
              "0 2023-07-15 10:30:00 4 days 23:30:00\n",
              "1 2023-07-16 15:45:00 3 days 18:15:00\n",
              "2 2023-07-17 12:00:00 2 days 22:00:00\n",
              "3 2023-07-18 09:00:00 2 days 01:00:00\n",
              "4 2023-07-19 16:20:00 0 days 17:40:00"
            ]
          },
          "execution_count": 38,
          "metadata": {},
          "output_type": "execute_result"
        }
      ],
      "source": [
        "# Calculate time difference from the current time\n",
        "current_time = pd.to_datetime('2023-07-20 10:00:00')\n",
        "df['Time_Difference'] = current_time - df['Date_Time']\n",
        "\n",
        "df[['Date_Time', 'Time_Difference']]"
      ]
    },
    {
      "cell_type": "markdown",
      "metadata": {
        "id": "M-JXhEx51vJ7"
      },
      "source": [
        "**4. Extracting Time Intervals**:\n",
        "\n",
        "You can extract time intervals, such as hours and minutes, from the 'Date_Time' column."
      ]
    },
    {
      "cell_type": "code",
      "execution_count": 39,
      "metadata": {
        "colab": {
          "base_uri": "https://localhost:8080/",
          "height": 204
        },
        "id": "-sgApcn71yst",
        "outputId": "598feaae-8e91-4aef-a6db-c730c5f67c10"
      },
      "outputs": [
        {
          "data": {
            "text/html": [
              "<div>\n",
              "<style scoped>\n",
              "    .dataframe tbody tr th:only-of-type {\n",
              "        vertical-align: middle;\n",
              "    }\n",
              "\n",
              "    .dataframe tbody tr th {\n",
              "        vertical-align: top;\n",
              "    }\n",
              "\n",
              "    .dataframe thead th {\n",
              "        text-align: right;\n",
              "    }\n",
              "</style>\n",
              "<table border=\"1\" class=\"dataframe\">\n",
              "  <thead>\n",
              "    <tr style=\"text-align: right;\">\n",
              "      <th></th>\n",
              "      <th>Date_Time</th>\n",
              "      <th>Hour</th>\n",
              "      <th>Minute</th>\n",
              "    </tr>\n",
              "  </thead>\n",
              "  <tbody>\n",
              "    <tr>\n",
              "      <th>0</th>\n",
              "      <td>2023-07-15 10:30:00</td>\n",
              "      <td>10</td>\n",
              "      <td>30</td>\n",
              "    </tr>\n",
              "    <tr>\n",
              "      <th>1</th>\n",
              "      <td>2023-07-16 15:45:00</td>\n",
              "      <td>15</td>\n",
              "      <td>45</td>\n",
              "    </tr>\n",
              "    <tr>\n",
              "      <th>2</th>\n",
              "      <td>2023-07-17 12:00:00</td>\n",
              "      <td>12</td>\n",
              "      <td>0</td>\n",
              "    </tr>\n",
              "    <tr>\n",
              "      <th>3</th>\n",
              "      <td>2023-07-18 09:00:00</td>\n",
              "      <td>9</td>\n",
              "      <td>0</td>\n",
              "    </tr>\n",
              "    <tr>\n",
              "      <th>4</th>\n",
              "      <td>2023-07-19 16:20:00</td>\n",
              "      <td>16</td>\n",
              "      <td>20</td>\n",
              "    </tr>\n",
              "  </tbody>\n",
              "</table>\n",
              "</div>"
            ],
            "text/plain": [
              "            Date_Time  Hour  Minute\n",
              "0 2023-07-15 10:30:00    10      30\n",
              "1 2023-07-16 15:45:00    15      45\n",
              "2 2023-07-17 12:00:00    12       0\n",
              "3 2023-07-18 09:00:00     9       0\n",
              "4 2023-07-19 16:20:00    16      20"
            ]
          },
          "execution_count": 39,
          "metadata": {},
          "output_type": "execute_result"
        }
      ],
      "source": [
        "# Extract hours and minutes from 'Date_Time'\n",
        "df['Hour'] = df['Date_Time'].dt.hour\n",
        "df['Minute'] = df['Date_Time'].dt.minute\n",
        "\n",
        "df[['Date_Time', 'Hour', 'Minute']]"
      ]
    },
    {
      "cell_type": "markdown",
      "metadata": {
        "id": "H0otcaAV07H-"
      },
      "source": [
        "\n",
        "\n",
        "\n",
        "**5. Handling Timezones**:\n",
        "\n",
        "Pandas provides support for handling timezones in datetime data. You can convert the timezone of the 'Date_Time' column using the `dt.tz_localize()` method.\n"
      ]
    },
    {
      "cell_type": "code",
      "execution_count": 40,
      "metadata": {
        "colab": {
          "base_uri": "https://localhost:8080/",
          "height": 204
        },
        "id": "xeKplEH42APb",
        "outputId": "38909af4-98ee-4225-8a04-a48c3e5c41c0"
      },
      "outputs": [
        {
          "data": {
            "text/html": [
              "<div>\n",
              "<style scoped>\n",
              "    .dataframe tbody tr th:only-of-type {\n",
              "        vertical-align: middle;\n",
              "    }\n",
              "\n",
              "    .dataframe tbody tr th {\n",
              "        vertical-align: top;\n",
              "    }\n",
              "\n",
              "    .dataframe thead th {\n",
              "        text-align: right;\n",
              "    }\n",
              "</style>\n",
              "<table border=\"1\" class=\"dataframe\">\n",
              "  <thead>\n",
              "    <tr style=\"text-align: right;\">\n",
              "      <th></th>\n",
              "      <th>Date_Time</th>\n",
              "      <th>Date_Time_Jakarta</th>\n",
              "    </tr>\n",
              "  </thead>\n",
              "  <tbody>\n",
              "    <tr>\n",
              "      <th>0</th>\n",
              "      <td>2023-07-15 10:30:00</td>\n",
              "      <td>2023-07-15 17:30:00+07:00</td>\n",
              "    </tr>\n",
              "    <tr>\n",
              "      <th>1</th>\n",
              "      <td>2023-07-16 15:45:00</td>\n",
              "      <td>2023-07-16 22:45:00+07:00</td>\n",
              "    </tr>\n",
              "    <tr>\n",
              "      <th>2</th>\n",
              "      <td>2023-07-17 12:00:00</td>\n",
              "      <td>2023-07-17 19:00:00+07:00</td>\n",
              "    </tr>\n",
              "    <tr>\n",
              "      <th>3</th>\n",
              "      <td>2023-07-18 09:00:00</td>\n",
              "      <td>2023-07-18 16:00:00+07:00</td>\n",
              "    </tr>\n",
              "    <tr>\n",
              "      <th>4</th>\n",
              "      <td>2023-07-19 16:20:00</td>\n",
              "      <td>2023-07-19 23:20:00+07:00</td>\n",
              "    </tr>\n",
              "  </tbody>\n",
              "</table>\n",
              "</div>"
            ],
            "text/plain": [
              "            Date_Time         Date_Time_Jakarta\n",
              "0 2023-07-15 10:30:00 2023-07-15 17:30:00+07:00\n",
              "1 2023-07-16 15:45:00 2023-07-16 22:45:00+07:00\n",
              "2 2023-07-17 12:00:00 2023-07-17 19:00:00+07:00\n",
              "3 2023-07-18 09:00:00 2023-07-18 16:00:00+07:00\n",
              "4 2023-07-19 16:20:00 2023-07-19 23:20:00+07:00"
            ]
          },
          "execution_count": 40,
          "metadata": {},
          "output_type": "execute_result"
        }
      ],
      "source": [
        "# Assuming the original datetime is in UTC and we want to convert it to Jakarta timezone (Asia/Jakarta)\n",
        "df['Date_Time_Jakarta'] = df['Date_Time'].dt.tz_localize('UTC').dt.tz_convert('Asia/Jakarta')\n",
        "\n",
        "df[['Date_Time', 'Date_Time_Jakarta']]"
      ]
    },
    {
      "cell_type": "markdown",
      "metadata": {
        "id": "pGVIh8m4160P"
      },
      "source": [
        "In this example, we converted the 'Date_Time' column from UTC to the Jakarta timezone (Asia/Jakarta)."
      ]
    },
    {
      "cell_type": "markdown",
      "metadata": {
        "id": "yLJnF45p9VeF"
      },
      "source": [
        "# Python Scripting for Data Processing Steps\n",
        "\n",
        "You've already learn how to perform data wrangling in Pandas. Now, we will do data manipulation practice but in different way.\n",
        "\n",
        "Imagine that you can't work using Google Colab or Jupyter Notebook. Instead, you use Python script file in order to make a automated data manipulation/preprocessing pipeline.\n",
        "\n",
        "Our goal in this section is to make an excel file that consist of several sheet from query and grouping\n",
        "\n",
        "Our expectation:\n",
        "\n",
        "```\n",
        "data.xlsx\n",
        " ├── Complete\n",
        " ├── Online Channel\n",
        " ├── Offline Channel\n",
        " └── Countries Summary\n",
        "```\n",
        "\n",
        "First of all, let see the data:"
      ]
    },
    {
      "cell_type": "code",
      "execution_count": 61,
      "metadata": {
        "colab": {
          "base_uri": "https://localhost:8080/",
          "height": 204
        },
        "id": "DVH76PNWKtlY",
        "outputId": "9123c43b-1cd9-4fad-81eb-0fc2276b1bdd"
      },
      "outputs": [
        {
          "data": {
            "text/html": [
              "<div>\n",
              "<style scoped>\n",
              "    .dataframe tbody tr th:only-of-type {\n",
              "        vertical-align: middle;\n",
              "    }\n",
              "\n",
              "    .dataframe tbody tr th {\n",
              "        vertical-align: top;\n",
              "    }\n",
              "\n",
              "    .dataframe thead th {\n",
              "        text-align: right;\n",
              "    }\n",
              "</style>\n",
              "<table border=\"1\" class=\"dataframe\">\n",
              "  <thead>\n",
              "    <tr style=\"text-align: right;\">\n",
              "      <th></th>\n",
              "      <th>Agency</th>\n",
              "      <th>Agency Type</th>\n",
              "      <th>Distribution Channel</th>\n",
              "      <th>Product Name</th>\n",
              "      <th>Claim</th>\n",
              "      <th>Duration</th>\n",
              "      <th>Destination</th>\n",
              "      <th>Net Sales</th>\n",
              "      <th>Commision (in value)</th>\n",
              "      <th>Gender</th>\n",
              "      <th>Age</th>\n",
              "    </tr>\n",
              "  </thead>\n",
              "  <tbody>\n",
              "    <tr>\n",
              "      <th>0</th>\n",
              "      <td>CBH</td>\n",
              "      <td>Travel Agency</td>\n",
              "      <td>Offline</td>\n",
              "      <td>Comprehensive Plan</td>\n",
              "      <td>No</td>\n",
              "      <td>186</td>\n",
              "      <td>MALAYSIA</td>\n",
              "      <td>-29.0</td>\n",
              "      <td>9.57</td>\n",
              "      <td>F</td>\n",
              "      <td>81</td>\n",
              "    </tr>\n",
              "    <tr>\n",
              "      <th>1</th>\n",
              "      <td>CBH</td>\n",
              "      <td>Travel Agency</td>\n",
              "      <td>Offline</td>\n",
              "      <td>Comprehensive Plan</td>\n",
              "      <td>No</td>\n",
              "      <td>186</td>\n",
              "      <td>MALAYSIA</td>\n",
              "      <td>-29.0</td>\n",
              "      <td>9.57</td>\n",
              "      <td>F</td>\n",
              "      <td>71</td>\n",
              "    </tr>\n",
              "    <tr>\n",
              "      <th>2</th>\n",
              "      <td>CWT</td>\n",
              "      <td>Travel Agency</td>\n",
              "      <td>Online</td>\n",
              "      <td>Rental Vehicle Excess Insurance</td>\n",
              "      <td>No</td>\n",
              "      <td>65</td>\n",
              "      <td>AUSTRALIA</td>\n",
              "      <td>-49.5</td>\n",
              "      <td>29.70</td>\n",
              "      <td>NaN</td>\n",
              "      <td>32</td>\n",
              "    </tr>\n",
              "    <tr>\n",
              "      <th>3</th>\n",
              "      <td>CWT</td>\n",
              "      <td>Travel Agency</td>\n",
              "      <td>Online</td>\n",
              "      <td>Rental Vehicle Excess Insurance</td>\n",
              "      <td>No</td>\n",
              "      <td>60</td>\n",
              "      <td>AUSTRALIA</td>\n",
              "      <td>-39.6</td>\n",
              "      <td>23.76</td>\n",
              "      <td>NaN</td>\n",
              "      <td>32</td>\n",
              "    </tr>\n",
              "    <tr>\n",
              "      <th>4</th>\n",
              "      <td>CWT</td>\n",
              "      <td>Travel Agency</td>\n",
              "      <td>Online</td>\n",
              "      <td>Rental Vehicle Excess Insurance</td>\n",
              "      <td>No</td>\n",
              "      <td>79</td>\n",
              "      <td>ITALY</td>\n",
              "      <td>-19.8</td>\n",
              "      <td>11.88</td>\n",
              "      <td>NaN</td>\n",
              "      <td>41</td>\n",
              "    </tr>\n",
              "  </tbody>\n",
              "</table>\n",
              "</div>"
            ],
            "text/plain": [
              "  Agency    Agency Type Distribution Channel                     Product Name  \\\n",
              "0    CBH  Travel Agency              Offline               Comprehensive Plan   \n",
              "1    CBH  Travel Agency              Offline               Comprehensive Plan   \n",
              "2    CWT  Travel Agency               Online  Rental Vehicle Excess Insurance   \n",
              "3    CWT  Travel Agency               Online  Rental Vehicle Excess Insurance   \n",
              "4    CWT  Travel Agency               Online  Rental Vehicle Excess Insurance   \n",
              "\n",
              "  Claim  Duration Destination  Net Sales  Commision (in value) Gender  Age  \n",
              "0    No       186    MALAYSIA      -29.0                  9.57      F   81  \n",
              "1    No       186    MALAYSIA      -29.0                  9.57      F   71  \n",
              "2    No        65   AUSTRALIA      -49.5                 29.70    NaN   32  \n",
              "3    No        60   AUSTRALIA      -39.6                 23.76    NaN   32  \n",
              "4    No        79       ITALY      -19.8                 11.88    NaN   41  "
            ]
          },
          "execution_count": 61,
          "metadata": {},
          "output_type": "execute_result"
        }
      ],
      "source": [
        "dat = pd.read_csv('https://github.com/FTDS-learning-materials/phase-0/raw/main/src/travel%20insurance.csv')\n",
        "\n",
        "dat.head()"
      ]
    },
    {
      "cell_type": "markdown",
      "metadata": {
        "id": "u3vD7bIfKohM"
      },
      "source": [
        "To make an automated data cleaning and preprocessing, we need to explore our data in aims to decide which steps that we will do next."
      ]
    },
    {
      "cell_type": "code",
      "execution_count": 62,
      "metadata": {
        "colab": {
          "base_uri": "https://localhost:8080/"
        },
        "id": "evmBesrmLJRT",
        "outputId": "5570ebd9-2ae7-4a2d-c039-4f14ce35d829"
      },
      "outputs": [
        {
          "name": "stdout",
          "output_type": "stream",
          "text": [
            "<class 'pandas.core.frame.DataFrame'>\n",
            "RangeIndex: 63326 entries, 0 to 63325\n",
            "Data columns (total 11 columns):\n",
            " #   Column                Non-Null Count  Dtype  \n",
            "---  ------                --------------  -----  \n",
            " 0   Agency                63326 non-null  object \n",
            " 1   Agency Type           63326 non-null  object \n",
            " 2   Distribution Channel  63326 non-null  object \n",
            " 3   Product Name          63326 non-null  object \n",
            " 4   Claim                 63326 non-null  object \n",
            " 5   Duration              63326 non-null  int64  \n",
            " 6   Destination           63326 non-null  object \n",
            " 7   Net Sales             63326 non-null  float64\n",
            " 8   Commision (in value)  63326 non-null  float64\n",
            " 9   Gender                18219 non-null  object \n",
            " 10  Age                   63326 non-null  int64  \n",
            "dtypes: float64(2), int64(2), object(7)\n",
            "memory usage: 5.3+ MB\n"
          ]
        }
      ],
      "source": [
        "dat.info()"
      ]
    },
    {
      "cell_type": "markdown",
      "metadata": {
        "id": "9NEwiwRhfKHV"
      },
      "source": [
        "Based on the summary info, there are many rows that missing in Gender column. We will take out the column from the data and then we will rename `Commision (in value)` into `Commision`. We will perform them directly in the script.\n",
        "\n",
        "However, we need to preprocess the data in aims to store in each sheet that we need using query or grouping. Then, we will try to explore the codes based on our needs."
      ]
    },
    {
      "cell_type": "code",
      "execution_count": 43,
      "metadata": {
        "colab": {
          "base_uri": "https://localhost:8080/",
          "height": 506
        },
        "id": "P5ykUoWIrRRl",
        "outputId": "08800f6a-ce28-4268-93da-c17a070b41aa"
      },
      "outputs": [
        {
          "name": "stderr",
          "output_type": "stream",
          "text": [
            "/var/folders/80/9nz19ndj3130jx_8t5hgzwv80000gn/T/ipykernel_11954/2706172112.py:1: DeprecationWarning: Importing display from IPython.core.display is deprecated since IPython 7.14, please import from IPython display\n",
            "  from IPython.core.display import display, HTML\n"
          ]
        },
        {
          "data": {
            "text/html": [
              "<h3><b>Online Channel</b></h3><br>"
            ],
            "text/plain": [
              "<IPython.core.display.HTML object>"
            ]
          },
          "metadata": {},
          "output_type": "display_data"
        },
        {
          "data": {
            "text/html": [
              "<div>\n",
              "<style scoped>\n",
              "    .dataframe tbody tr th:only-of-type {\n",
              "        vertical-align: middle;\n",
              "    }\n",
              "\n",
              "    .dataframe tbody tr th {\n",
              "        vertical-align: top;\n",
              "    }\n",
              "\n",
              "    .dataframe thead th {\n",
              "        text-align: right;\n",
              "    }\n",
              "</style>\n",
              "<table border=\"1\" class=\"dataframe\">\n",
              "  <thead>\n",
              "    <tr style=\"text-align: right;\">\n",
              "      <th></th>\n",
              "      <th>Agency</th>\n",
              "      <th>Agency Type</th>\n",
              "      <th>Distribution Channel</th>\n",
              "      <th>Product Name</th>\n",
              "      <th>Claim</th>\n",
              "      <th>Duration</th>\n",
              "      <th>Destination</th>\n",
              "      <th>Net Sales</th>\n",
              "      <th>Commision (in value)</th>\n",
              "      <th>Gender</th>\n",
              "      <th>Age</th>\n",
              "    </tr>\n",
              "  </thead>\n",
              "  <tbody>\n",
              "    <tr>\n",
              "      <th>2</th>\n",
              "      <td>CWT</td>\n",
              "      <td>Travel Agency</td>\n",
              "      <td>Online</td>\n",
              "      <td>Rental Vehicle Excess Insurance</td>\n",
              "      <td>No</td>\n",
              "      <td>65</td>\n",
              "      <td>AUSTRALIA</td>\n",
              "      <td>-49.5</td>\n",
              "      <td>29.70</td>\n",
              "      <td>NaN</td>\n",
              "      <td>32</td>\n",
              "    </tr>\n",
              "    <tr>\n",
              "      <th>3</th>\n",
              "      <td>CWT</td>\n",
              "      <td>Travel Agency</td>\n",
              "      <td>Online</td>\n",
              "      <td>Rental Vehicle Excess Insurance</td>\n",
              "      <td>No</td>\n",
              "      <td>60</td>\n",
              "      <td>AUSTRALIA</td>\n",
              "      <td>-39.6</td>\n",
              "      <td>23.76</td>\n",
              "      <td>NaN</td>\n",
              "      <td>32</td>\n",
              "    </tr>\n",
              "    <tr>\n",
              "      <th>4</th>\n",
              "      <td>CWT</td>\n",
              "      <td>Travel Agency</td>\n",
              "      <td>Online</td>\n",
              "      <td>Rental Vehicle Excess Insurance</td>\n",
              "      <td>No</td>\n",
              "      <td>79</td>\n",
              "      <td>ITALY</td>\n",
              "      <td>-19.8</td>\n",
              "      <td>11.88</td>\n",
              "      <td>NaN</td>\n",
              "      <td>41</td>\n",
              "    </tr>\n",
              "    <tr>\n",
              "      <th>5</th>\n",
              "      <td>JZI</td>\n",
              "      <td>Airlines</td>\n",
              "      <td>Online</td>\n",
              "      <td>Value Plan</td>\n",
              "      <td>No</td>\n",
              "      <td>66</td>\n",
              "      <td>UNITED STATES</td>\n",
              "      <td>-121.0</td>\n",
              "      <td>42.35</td>\n",
              "      <td>F</td>\n",
              "      <td>44</td>\n",
              "    </tr>\n",
              "    <tr>\n",
              "      <th>6</th>\n",
              "      <td>CWT</td>\n",
              "      <td>Travel Agency</td>\n",
              "      <td>Online</td>\n",
              "      <td>Rental Vehicle Excess Insurance</td>\n",
              "      <td>No</td>\n",
              "      <td>47</td>\n",
              "      <td>UNITED STATES</td>\n",
              "      <td>-39.6</td>\n",
              "      <td>23.76</td>\n",
              "      <td>NaN</td>\n",
              "      <td>32</td>\n",
              "    </tr>\n",
              "  </tbody>\n",
              "</table>\n",
              "</div>"
            ],
            "text/plain": [
              "  Agency    Agency Type Distribution Channel                     Product Name  \\\n",
              "2    CWT  Travel Agency               Online  Rental Vehicle Excess Insurance   \n",
              "3    CWT  Travel Agency               Online  Rental Vehicle Excess Insurance   \n",
              "4    CWT  Travel Agency               Online  Rental Vehicle Excess Insurance   \n",
              "5    JZI       Airlines               Online                       Value Plan   \n",
              "6    CWT  Travel Agency               Online  Rental Vehicle Excess Insurance   \n",
              "\n",
              "  Claim  Duration    Destination  Net Sales  Commision (in value) Gender  Age  \n",
              "2    No        65      AUSTRALIA      -49.5                 29.70    NaN   32  \n",
              "3    No        60      AUSTRALIA      -39.6                 23.76    NaN   32  \n",
              "4    No        79          ITALY      -19.8                 11.88    NaN   41  \n",
              "5    No        66  UNITED STATES     -121.0                 42.35      F   44  \n",
              "6    No        47  UNITED STATES      -39.6                 23.76    NaN   32  "
            ]
          },
          "metadata": {},
          "output_type": "display_data"
        },
        {
          "data": {
            "text/html": [
              "<h3><b>Offline Channel</b></h3><br>"
            ],
            "text/plain": [
              "<IPython.core.display.HTML object>"
            ]
          },
          "metadata": {},
          "output_type": "display_data"
        },
        {
          "data": {
            "text/html": [
              "<div>\n",
              "<style scoped>\n",
              "    .dataframe tbody tr th:only-of-type {\n",
              "        vertical-align: middle;\n",
              "    }\n",
              "\n",
              "    .dataframe tbody tr th {\n",
              "        vertical-align: top;\n",
              "    }\n",
              "\n",
              "    .dataframe thead th {\n",
              "        text-align: right;\n",
              "    }\n",
              "</style>\n",
              "<table border=\"1\" class=\"dataframe\">\n",
              "  <thead>\n",
              "    <tr style=\"text-align: right;\">\n",
              "      <th></th>\n",
              "      <th>Agency</th>\n",
              "      <th>Agency Type</th>\n",
              "      <th>Distribution Channel</th>\n",
              "      <th>Product Name</th>\n",
              "      <th>Claim</th>\n",
              "      <th>Duration</th>\n",
              "      <th>Destination</th>\n",
              "      <th>Net Sales</th>\n",
              "      <th>Commision (in value)</th>\n",
              "      <th>Gender</th>\n",
              "      <th>Age</th>\n",
              "    </tr>\n",
              "  </thead>\n",
              "  <tbody>\n",
              "    <tr>\n",
              "      <th>0</th>\n",
              "      <td>CBH</td>\n",
              "      <td>Travel Agency</td>\n",
              "      <td>Offline</td>\n",
              "      <td>Comprehensive Plan</td>\n",
              "      <td>No</td>\n",
              "      <td>186</td>\n",
              "      <td>MALAYSIA</td>\n",
              "      <td>-29.0</td>\n",
              "      <td>9.57</td>\n",
              "      <td>F</td>\n",
              "      <td>81</td>\n",
              "    </tr>\n",
              "    <tr>\n",
              "      <th>1</th>\n",
              "      <td>CBH</td>\n",
              "      <td>Travel Agency</td>\n",
              "      <td>Offline</td>\n",
              "      <td>Comprehensive Plan</td>\n",
              "      <td>No</td>\n",
              "      <td>186</td>\n",
              "      <td>MALAYSIA</td>\n",
              "      <td>-29.0</td>\n",
              "      <td>9.57</td>\n",
              "      <td>F</td>\n",
              "      <td>71</td>\n",
              "    </tr>\n",
              "    <tr>\n",
              "      <th>400</th>\n",
              "      <td>CSR</td>\n",
              "      <td>Travel Agency</td>\n",
              "      <td>Offline</td>\n",
              "      <td>Comprehensive Plan</td>\n",
              "      <td>No</td>\n",
              "      <td>92</td>\n",
              "      <td>MALAYSIA</td>\n",
              "      <td>29.0</td>\n",
              "      <td>9.57</td>\n",
              "      <td>F</td>\n",
              "      <td>72</td>\n",
              "    </tr>\n",
              "    <tr>\n",
              "      <th>401</th>\n",
              "      <td>CSR</td>\n",
              "      <td>Travel Agency</td>\n",
              "      <td>Offline</td>\n",
              "      <td>Comprehensive Plan</td>\n",
              "      <td>No</td>\n",
              "      <td>92</td>\n",
              "      <td>MALAYSIA</td>\n",
              "      <td>29.0</td>\n",
              "      <td>9.57</td>\n",
              "      <td>F</td>\n",
              "      <td>77</td>\n",
              "    </tr>\n",
              "    <tr>\n",
              "      <th>402</th>\n",
              "      <td>CCR</td>\n",
              "      <td>Travel Agency</td>\n",
              "      <td>Offline</td>\n",
              "      <td>Comprehensive Plan</td>\n",
              "      <td>No</td>\n",
              "      <td>5</td>\n",
              "      <td>MALAYSIA</td>\n",
              "      <td>29.0</td>\n",
              "      <td>9.57</td>\n",
              "      <td>M</td>\n",
              "      <td>118</td>\n",
              "    </tr>\n",
              "  </tbody>\n",
              "</table>\n",
              "</div>"
            ],
            "text/plain": [
              "    Agency    Agency Type Distribution Channel        Product Name Claim  \\\n",
              "0      CBH  Travel Agency              Offline  Comprehensive Plan    No   \n",
              "1      CBH  Travel Agency              Offline  Comprehensive Plan    No   \n",
              "400    CSR  Travel Agency              Offline  Comprehensive Plan    No   \n",
              "401    CSR  Travel Agency              Offline  Comprehensive Plan    No   \n",
              "402    CCR  Travel Agency              Offline  Comprehensive Plan    No   \n",
              "\n",
              "     Duration Destination  Net Sales  Commision (in value) Gender  Age  \n",
              "0         186    MALAYSIA      -29.0                  9.57      F   81  \n",
              "1         186    MALAYSIA      -29.0                  9.57      F   71  \n",
              "400        92    MALAYSIA       29.0                  9.57      F   72  \n",
              "401        92    MALAYSIA       29.0                  9.57      F   77  \n",
              "402         5    MALAYSIA       29.0                  9.57      M  118  "
            ]
          },
          "metadata": {},
          "output_type": "display_data"
        }
      ],
      "source": [
        "from IPython.core.display import display, HTML\n",
        "\n",
        "display(HTML('<h3><b>Online Channel</b></h3><br>'))\n",
        "ol_ch = dat[dat['Distribution Channel']=='Online']\n",
        "display(ol_ch.head())\n",
        "\n",
        "display(HTML('<h3><b>Offline Channel</b></h3><br>'))\n",
        "of_ch = dat[dat['Distribution Channel']=='Offline']\n",
        "display(of_ch.head())"
      ]
    },
    {
      "cell_type": "code",
      "execution_count": null,
      "metadata": {
        "colab": {
          "base_uri": "https://localhost:8080/",
          "height": 261
        },
        "id": "JF0VhayWsKc6",
        "outputId": "be2169cc-0df7-4bdd-aea6-1efbd8df3d38"
      },
      "outputs": [
        {
          "data": {
            "text/html": [
              "<h3><b>Countries Summary</b></h3><br>"
            ],
            "text/plain": [
              "<IPython.core.display.HTML object>"
            ]
          },
          "metadata": {},
          "output_type": "display_data"
        },
        {
          "data": {
            "text/html": [
              "<div>\n",
              "<style scoped>\n",
              "    .dataframe tbody tr th:only-of-type {\n",
              "        vertical-align: middle;\n",
              "    }\n",
              "\n",
              "    .dataframe tbody tr th {\n",
              "        vertical-align: top;\n",
              "    }\n",
              "\n",
              "    .dataframe thead th {\n",
              "        text-align: right;\n",
              "    }\n",
              "</style>\n",
              "<table border=\"1\" class=\"dataframe\">\n",
              "  <thead>\n",
              "    <tr style=\"text-align: right;\">\n",
              "      <th></th>\n",
              "      <th>Destination</th>\n",
              "      <th>Agency Type</th>\n",
              "      <th>Distribution Channel</th>\n",
              "      <th>Claim</th>\n",
              "      <th>Product Name</th>\n",
              "      <th>Duration</th>\n",
              "      <th>Net Sales</th>\n",
              "      <th>Commision (in value)</th>\n",
              "      <th>Age</th>\n",
              "    </tr>\n",
              "  </thead>\n",
              "  <tbody>\n",
              "    <tr>\n",
              "      <th>0</th>\n",
              "      <td>ALBANIA</td>\n",
              "      <td>Travel Agency</td>\n",
              "      <td>Online</td>\n",
              "      <td>No</td>\n",
              "      <td>1</td>\n",
              "      <td>28.000000</td>\n",
              "      <td>80.0</td>\n",
              "      <td>0.00</td>\n",
              "      <td>36.000000</td>\n",
              "    </tr>\n",
              "    <tr>\n",
              "      <th>1</th>\n",
              "      <td>ANGOLA</td>\n",
              "      <td>Travel Agency</td>\n",
              "      <td>Online</td>\n",
              "      <td>No</td>\n",
              "      <td>1</td>\n",
              "      <td>2.000000</td>\n",
              "      <td>0.0</td>\n",
              "      <td>16.00</td>\n",
              "      <td>19.000000</td>\n",
              "    </tr>\n",
              "    <tr>\n",
              "      <th>2</th>\n",
              "      <td>ARGENTINA</td>\n",
              "      <td>Travel Agency</td>\n",
              "      <td>Online</td>\n",
              "      <td>No</td>\n",
              "      <td>21</td>\n",
              "      <td>35.904762</td>\n",
              "      <td>114.0</td>\n",
              "      <td>237.35</td>\n",
              "      <td>36.238095</td>\n",
              "    </tr>\n",
              "    <tr>\n",
              "      <th>3</th>\n",
              "      <td>ARGENTINA</td>\n",
              "      <td>Travel Agency</td>\n",
              "      <td>Online</td>\n",
              "      <td>Yes</td>\n",
              "      <td>1</td>\n",
              "      <td>30.000000</td>\n",
              "      <td>79.2</td>\n",
              "      <td>47.52</td>\n",
              "      <td>30.000000</td>\n",
              "    </tr>\n",
              "    <tr>\n",
              "      <th>4</th>\n",
              "      <td>ARMENIA</td>\n",
              "      <td>Travel Agency</td>\n",
              "      <td>Online</td>\n",
              "      <td>No</td>\n",
              "      <td>1</td>\n",
              "      <td>232.000000</td>\n",
              "      <td>25.0</td>\n",
              "      <td>0.00</td>\n",
              "      <td>36.000000</td>\n",
              "    </tr>\n",
              "  </tbody>\n",
              "</table>\n",
              "</div>"
            ],
            "text/plain": [
              "  Destination    Agency Type Distribution Channel Claim  Product Name  \\\n",
              "0     ALBANIA  Travel Agency               Online    No             1   \n",
              "1      ANGOLA  Travel Agency               Online    No             1   \n",
              "2   ARGENTINA  Travel Agency               Online    No            21   \n",
              "3   ARGENTINA  Travel Agency               Online   Yes             1   \n",
              "4     ARMENIA  Travel Agency               Online    No             1   \n",
              "\n",
              "     Duration  Net Sales  Commision (in value)        Age  \n",
              "0   28.000000       80.0                  0.00  36.000000  \n",
              "1    2.000000        0.0                 16.00  19.000000  \n",
              "2   35.904762      114.0                237.35  36.238095  \n",
              "3   30.000000       79.2                 47.52  30.000000  \n",
              "4  232.000000       25.0                  0.00  36.000000  "
            ]
          },
          "execution_count": 44,
          "metadata": {},
          "output_type": "execute_result"
        }
      ],
      "source": [
        "display(HTML('<h3><b>Countries Summary</b></h3><br>'))\n",
        "\n",
        "summary = dat.groupby(['Destination','Agency Type','Distribution Channel','Claim']).agg({'Product Name':'count',\n",
        "                                                                                         'Duration':'mean',\n",
        "                                                                                         'Net Sales':'max',\n",
        "                                                                                         'Commision (in value)':'sum',\n",
        "                                                                                         'Age':'mean'}).reset_index()\n",
        "summary.head()"
      ]
    },
    {
      "cell_type": "markdown",
      "metadata": {
        "id": "irj1JxSfFgJX"
      },
      "source": [
        "Finally, here is your code:\n",
        "\n",
        "```py\n",
        "import pandas as pd\n",
        "import sys\n",
        "\n",
        "class DataProcessor:\n",
        "    def __init__(self, file_path):\n",
        "        self.file_path = file_path\n",
        "        self.df = None\n",
        "\n",
        "    def load_data(self):\n",
        "        self.df = pd.read_csv(self.file_path).reset_index()\n",
        "\n",
        "    def clean_data(self):\n",
        "\n",
        "        #Rename Commision (in value) Column\n",
        "        self.df.rename({'Commision (in value)':'Commision'},axis=1,inplace=True)\n",
        "\n",
        "        #Take out Gender Column\n",
        "        self.df.drop(columns='Gender',inplace=True)\n",
        "\n",
        "        # Drop duplicates\n",
        "        self.df.drop_duplicates(inplace=True)\n",
        "    \n",
        "    def simple_query(self, column, value):\n",
        "        return self.df[self.df[column]==value].drop(columns='index')\n",
        "\n",
        "    def summary(self,cols=[],aggs={}):\n",
        "        self.tmp = self.df.groupby(cols).agg(aggs).reset_index()\n",
        "        self.renames = dict()\n",
        "        for col,agg in aggs.items():\n",
        "            self.renames[col] = f'{agg} {col}'.title()\n",
        "\n",
        "        return self.tmp.rename(self.renames,axis=1)\n",
        "\n",
        "\n",
        "    def save_data(self, output_file_path, data, sheet_names):\n",
        "        with pd.ExcelWriter(output_file_path) as writer:\n",
        "            self.df.to_excel(writer, sheet_name='Complete', index=False)\n",
        "            for i,dat in enumerate(data):\n",
        "              try:\n",
        "                dat.to_excel(writer, sheet_name=sheet_names[i], index=False)\n",
        "              except:\n",
        "                display(dat)\n",
        "                print(i)\n",
        "\n",
        "\n",
        "if __name__ == \"__main__\":\n",
        "    input_file = sys.argv[2]\n",
        "    output_file = sys.argv[4]\n",
        "\n",
        "    print(\"Data Processing Script Started...\")\n",
        "\n",
        "    # Create an instance of DataCleaning\n",
        "    proc = DataProcessor(file_path=input_file)\n",
        "\n",
        "    # Load data\n",
        "    print(\"Loading data...\")\n",
        "\n",
        "    try:\n",
        "      proc.load_data()\n",
        "    except Exception as e:\n",
        "      print('Error has occured while loading the data')\n",
        "      print(e)\n",
        "      print('Cannot be Continued')\n",
        "      print('Stop')\n",
        "      sys.exit()\n",
        "      \n",
        "\n",
        "    # Clean data\n",
        "    print(\"Cleaning data...\")\n",
        "    proc.clean_data()\n",
        "\n",
        "    # Preprocess data\n",
        "    print(\"Preprocessing data...\")\n",
        "    ol = proc.simple_query('Distribution Channel','Online')\n",
        "    of = proc.simple_query('Distribution Channel','Offline')\n",
        "    sum = proc.summary(cols=['Destination','Agency Type','Distribution Channel','Claim'],\n",
        "              aggs={'index':'count','Duration':'mean','Net Sales':'max','Commision':'sum','Age':'mean'})\n",
        "\n",
        "    # Save cleaned data\n",
        "    print(\"Saving cleaned data...\")\n",
        "\n",
        "    proc.save_data(output_file,data=[ol,of,sum], sheet_names=['Online','Offline','Countries Summary'])\n",
        "\n",
        "    print(\"Data Processing Script Completed!\")\n",
        "```"
      ]
    },
    {
      "cell_type": "markdown",
      "metadata": {
        "id": "CQfYTX8NKb9e"
      },
      "source": [
        "You will see on the code, below ```if __name__ = '__main__'``` there are lines:\n",
        "\n",
        "```\n",
        "input_file = sys.argv[2]\n",
        "output_file = sys.argv[4]\n",
        "```\n",
        "\n",
        "and also `sys` library is imported.\n",
        "\n",
        "So, for what? as you learned from the slide, `sys.argv` is used for giving command-line arguments as flags. They resemble to `**kwargs` in Python function.\n",
        "\n",
        "We will simulate what if we run a simple python script and input the flags and also the values (remember, flag is like argument in function)."
      ]
    },
    {
      "cell_type": "code",
      "execution_count": 64,
      "metadata": {
        "colab": {
          "base_uri": "https://localhost:8080/"
        },
        "id": "xQFQQ4CfLefQ",
        "outputId": "bb08f39e-af9d-4643-8297-3192f6598450"
      },
      "outputs": [
        {
          "name": "stdout",
          "output_type": "stream",
          "text": [
            "['test.py', '-input', 'travel insurance.csv', '-output', 'clean.xlsx']\n"
          ]
        }
      ],
      "source": [
        "with open('test.py', 'w') as f:\n",
        "  f.write('''\n",
        "import sys\n",
        "print(sys.argv)\n",
        "  ''')\n",
        "\n",
        "!python test.py -input 'travel insurance.csv' -output clean.xlsx"
      ]
    },
    {
      "cell_type": "markdown",
      "metadata": {
        "id": "Sz2npR32LzVY"
      },
      "source": [
        "You see that any command after `python` keyword will be read by sys and save to a list in the `sys.argv`.\n",
        "\n",
        "So, `input_file = sys.argv[2]` means `input_file` values `travel_insurance.csv` and `output_file = sys.argv[4]` means `outut_file` values `clean.xlsx`.\n",
        "\n",
        "---"
      ]
    },
    {
      "cell_type": "markdown",
      "metadata": {
        "id": "6zvVgxXuFpnU"
      },
      "source": [
        "To ease your learning, you may don't need to move to vscode or cmd or terminal. Just using this colab to run the code.\n",
        "\n",
        "We will perform these steps:\n",
        "* Create data_process.py\n",
        "* Download data into Google Colab storage\n",
        "* Running the script\n",
        "\n"
      ]
    },
    {
      "cell_type": "code",
      "execution_count": 63,
      "metadata": {
        "cellView": "form",
        "id": "c8NcJPGG--nb"
      },
      "outputs": [],
      "source": [
        "#@title **Creating data_process.py**\n",
        "\n",
        "with open(\"data_process.py\", \"w\") as f:\n",
        "    f.write('''import pandas as pd\n",
        "import sys\n",
        "\n",
        "class DataProcessor:\n",
        "    def __init__(self, file_path):\n",
        "        self.file_path = file_path\n",
        "        self.df = None\n",
        "\n",
        "    def load_data(self):\n",
        "        self.df = pd.read_csv(self.file_path).reset_index()\n",
        "\n",
        "    def clean_data(self):\n",
        "\n",
        "        #Rename Commision (in value) Column\n",
        "        self.df.rename({'Commision (in value)':'Commision'},axis=1,inplace=True)\n",
        "\n",
        "        #Take out Gender Column\n",
        "        self.df.drop(columns='Gender',inplace=True)\n",
        "\n",
        "        # Drop duplicates\n",
        "        self.df.drop_duplicates(inplace=True)\n",
        "\n",
        "    def simple_query(self, column, value):\n",
        "        return self.df[self.df[column]==value].drop(columns='index')\n",
        "\n",
        "    def summary(self,cols=[],aggs={}):\n",
        "        self.tmp = self.df.groupby(cols).agg(aggs).reset_index()\n",
        "        self.renames = dict()\n",
        "        for col,agg in aggs.items():\n",
        "            self.renames[col] = f'{agg} {col}'.title()\n",
        "\n",
        "        return self.tmp.rename(self.renames,axis=1)\n",
        "\n",
        "\n",
        "    def save_data(self, output_file_path, data, sheet_names):\n",
        "        with pd.ExcelWriter(output_file_path) as writer:\n",
        "            self.df.to_excel(writer, sheet_name='Complete', index=False)\n",
        "            for i,dat in enumerate(data):\n",
        "              try:\n",
        "                dat.to_excel(writer, sheet_name=sheet_names[i], index=False)\n",
        "              except:\n",
        "                display(dat)\n",
        "                print(i)\n",
        "\n",
        "\n",
        "if __name__ == \"__main__\":\n",
        "    input_file = sys.argv[2]\n",
        "    output_file = sys.argv[4]\n",
        "\n",
        "    print(\"Data Processing Script Started...\")\n",
        "\n",
        "    # Create an instance of DataCleaning\n",
        "    proc = DataProcessor(file_path=input_file)\n",
        "\n",
        "    # Load data\n",
        "    print(\"Loading data...\")\n",
        "\n",
        "    try:\n",
        "      proc.load_data()\n",
        "    except Exception as e:\n",
        "      print('Error has occured while loading the data')\n",
        "      print(e)\n",
        "      print('Cannot be Continued')\n",
        "      print('Stop')\n",
        "      sys.exit()\n",
        "\n",
        "\n",
        "    # Clean data\n",
        "    print(\"Cleaning data...\")\n",
        "    proc.clean_data()\n",
        "\n",
        "    # Preprocess data\n",
        "    print(\"Preprocessing data...\")\n",
        "    ol = proc.simple_query('Distribution Channel','Online')\n",
        "    of = proc.simple_query('Distribution Channel','Offline')\n",
        "    sum = proc.summary(cols=['Destination','Agency Type','Distribution Channel','Claim'],\n",
        "              aggs={'index':'count','Duration':'mean','Net Sales':'max','Commision':'sum','Age':'mean'})\n",
        "\n",
        "    # Save cleaned data\n",
        "    print(\"Saving cleaned data...\")\n",
        "\n",
        "    proc.save_data(output_file,data=[ol,of,sum], sheet_names=['Online','Offline','Countries Summary'])\n",
        "\n",
        "    print(\"Data Processing Script Completed!\")\n",
        "''')"
      ]
    },
    {
      "cell_type": "markdown",
      "metadata": {
        "id": "5by5DVmSHOW7"
      },
      "source": [
        "#### **Download travel_insurance.csv**"
      ]
    },
    {
      "cell_type": "code",
      "execution_count": 65,
      "metadata": {
        "colab": {
          "base_uri": "https://localhost:8080/"
        },
        "id": "hZuIGoqqCvwa",
        "outputId": "8a79e98c-2662-44fa-c7d0-57606d680323"
      },
      "outputs": [
        {
          "name": "stdout",
          "output_type": "stream",
          "text": [
            "--2025-05-08 14:43:23--  https://github.com/FTDS-learning-materials/phase-0/raw/main/src/travel%20insurance.csv\n",
            "Resolving github.com (github.com)... 20.205.243.166\n",
            "Connecting to github.com (github.com)|20.205.243.166|:443... connected.\n",
            "HTTP request sent, awaiting response... 302 Found\n",
            "Location: https://raw.githubusercontent.com/FTDS-learning-materials/phase-0/main/src/travel%20insurance.csv [following]\n",
            "--2025-05-08 14:43:23--  https://raw.githubusercontent.com/FTDS-learning-materials/phase-0/main/src/travel%20insurance.csv\n",
            "Resolving raw.githubusercontent.com (raw.githubusercontent.com)... 185.199.109.133, 185.199.110.133, 185.199.111.133, ...\n",
            "Connecting to raw.githubusercontent.com (raw.githubusercontent.com)|185.199.109.133|:443... connected.\n",
            "HTTP request sent, awaiting response... 200 OK\n",
            "Length: 4570914 (4.4M) [text/plain]\n",
            "Saving to: ‘travel insurance.csv’\n",
            "\n",
            "travel insurance.cs 100%[===================>]   4.36M  1.81MB/s    in 2.4s    \n",
            "\n",
            "2025-05-08 14:43:26 (1.81 MB/s) - ‘travel insurance.csv’ saved [4570914/4570914]\n",
            "\n"
          ]
        }
      ],
      "source": [
        "!wget https://github.com/FTDS-learning-materials/phase-0/raw/main/src/travel%20insurance.csv"
      ]
    },
    {
      "cell_type": "markdown",
      "metadata": {
        "id": "cuC4oXGkHS4z"
      },
      "source": [
        "#### **Running the Script**"
      ]
    },
    {
      "cell_type": "code",
      "execution_count": 66,
      "metadata": {
        "colab": {
          "base_uri": "https://localhost:8080/"
        },
        "id": "J89FBqdXHVDm",
        "outputId": "4ebe0a2f-b69a-49ff-cfe1-2487ffe85331"
      },
      "outputs": [
        {
          "name": "stdout",
          "output_type": "stream",
          "text": [
            "/Users/hacktiv8/anaconda3/envs/data_science/lib/python3.9/site-packages/pandas/core/arrays/masked.py:60: UserWarning: Pandas requires version '1.3.6' or newer of 'bottleneck' (version '1.3.5' currently installed).\n",
            "  from pandas.core import (\n",
            "Data Processing Script Started...\n",
            "Loading data...\n",
            "Cleaning data...\n",
            "Preprocessing data...\n",
            "Saving cleaned data...\n",
            "Data Processing Script Completed!\n"
          ]
        }
      ],
      "source": [
        "!python data_process.py -input 'travel insurance.csv' -output clean.xlsx"
      ]
    },
    {
      "cell_type": "markdown",
      "metadata": {
        "id": "v-H5tM-wMuWf"
      },
      "source": [
        "---"
      ]
    },
    {
      "cell_type": "markdown",
      "metadata": {
        "id": "_IuPLMdp--Jh"
      },
      "source": [
        "# Additional Materials (Complementary - Self Learning)"
      ]
    },
    {
      "cell_type": "markdown",
      "metadata": {
        "id": "dI8ekaVE24YB"
      },
      "source": [
        "## Combining Multiple Datasets\n",
        "\n",
        "Now, you’ll use `.concat()` to combine city_data with further_city_data. Say you’ve managed to gather some data on two more cities:"
      ]
    },
    {
      "cell_type": "code",
      "execution_count": 49,
      "metadata": {
        "id": "F5isj7as_C7N"
      },
      "outputs": [],
      "source": [
        "city_revenues = pd.Series(\n",
        "    [4200, 8000, 6500],\n",
        "    index=[\"Amsterdam\", \"Toronto\", \"Tokyo\"]\n",
        ")\n",
        "city_employee_count = pd.Series({\"Amsterdam\": 5, \"Tokyo\": 8})\n",
        "\n",
        "further_city_data = pd.DataFrame(\n",
        "    {\"revenue\": [7000, 3400], \"employee_count\": [2, 2]},\n",
        "    index=[\"New York\", \"Barcelona\"]\n",
        ")\n",
        "\n",
        "city_data = pd.DataFrame({\n",
        "    \"revenue\": city_revenues,\n",
        "    \"employee_count\": city_employee_count\n",
        "})"
      ]
    },
    {
      "cell_type": "code",
      "execution_count": 50,
      "metadata": {
        "colab": {
          "base_uri": "https://localhost:8080/",
          "height": 125
        },
        "id": "K7Y_7Ibv3Moj",
        "outputId": "d561cde2-bfa8-44fe-9860-9dfba3828b96"
      },
      "outputs": [
        {
          "data": {
            "text/html": [
              "<div>\n",
              "<style scoped>\n",
              "    .dataframe tbody tr th:only-of-type {\n",
              "        vertical-align: middle;\n",
              "    }\n",
              "\n",
              "    .dataframe tbody tr th {\n",
              "        vertical-align: top;\n",
              "    }\n",
              "\n",
              "    .dataframe thead th {\n",
              "        text-align: right;\n",
              "    }\n",
              "</style>\n",
              "<table border=\"1\" class=\"dataframe\">\n",
              "  <thead>\n",
              "    <tr style=\"text-align: right;\">\n",
              "      <th></th>\n",
              "      <th>revenue</th>\n",
              "      <th>employee_count</th>\n",
              "    </tr>\n",
              "  </thead>\n",
              "  <tbody>\n",
              "    <tr>\n",
              "      <th>New York</th>\n",
              "      <td>7000</td>\n",
              "      <td>2</td>\n",
              "    </tr>\n",
              "    <tr>\n",
              "      <th>Barcelona</th>\n",
              "      <td>3400</td>\n",
              "      <td>2</td>\n",
              "    </tr>\n",
              "  </tbody>\n",
              "</table>\n",
              "</div>"
            ],
            "text/plain": [
              "           revenue  employee_count\n",
              "New York      7000               2\n",
              "Barcelona     3400               2"
            ]
          },
          "execution_count": 50,
          "metadata": {},
          "output_type": "execute_result"
        }
      ],
      "source": [
        "further_city_data"
      ]
    },
    {
      "cell_type": "code",
      "execution_count": 51,
      "metadata": {
        "colab": {
          "base_uri": "https://localhost:8080/",
          "height": 142
        },
        "id": "lYAYctce3OCq",
        "outputId": "a9029322-e405-487f-ed90-4cb204364b49"
      },
      "outputs": [
        {
          "data": {
            "text/html": [
              "<div>\n",
              "<style scoped>\n",
              "    .dataframe tbody tr th:only-of-type {\n",
              "        vertical-align: middle;\n",
              "    }\n",
              "\n",
              "    .dataframe tbody tr th {\n",
              "        vertical-align: top;\n",
              "    }\n",
              "\n",
              "    .dataframe thead th {\n",
              "        text-align: right;\n",
              "    }\n",
              "</style>\n",
              "<table border=\"1\" class=\"dataframe\">\n",
              "  <thead>\n",
              "    <tr style=\"text-align: right;\">\n",
              "      <th></th>\n",
              "      <th>revenue</th>\n",
              "      <th>employee_count</th>\n",
              "    </tr>\n",
              "  </thead>\n",
              "  <tbody>\n",
              "    <tr>\n",
              "      <th>Amsterdam</th>\n",
              "      <td>4200</td>\n",
              "      <td>5.0</td>\n",
              "    </tr>\n",
              "    <tr>\n",
              "      <th>Tokyo</th>\n",
              "      <td>6500</td>\n",
              "      <td>8.0</td>\n",
              "    </tr>\n",
              "    <tr>\n",
              "      <th>Toronto</th>\n",
              "      <td>8000</td>\n",
              "      <td>NaN</td>\n",
              "    </tr>\n",
              "  </tbody>\n",
              "</table>\n",
              "</div>"
            ],
            "text/plain": [
              "           revenue  employee_count\n",
              "Amsterdam     4200             5.0\n",
              "Tokyo         6500             8.0\n",
              "Toronto       8000             NaN"
            ]
          },
          "execution_count": 51,
          "metadata": {},
          "output_type": "execute_result"
        }
      ],
      "source": [
        "city_data"
      ]
    },
    {
      "cell_type": "markdown",
      "metadata": {
        "id": "vDE523Z829cO"
      },
      "source": [
        "This second DataFrame contains info on the cities \"New York\" and \"Barcelona\".\n",
        "\n",
        "You can add these cities to city_data using `.concat()`:"
      ]
    },
    {
      "cell_type": "code",
      "execution_count": 52,
      "metadata": {
        "colab": {
          "base_uri": "https://localhost:8080/",
          "height": 204
        },
        "id": "v94-uiGg3wa2",
        "outputId": "353c16b9-0c22-4b54-953f-8fb4b9f9ca24"
      },
      "outputs": [
        {
          "data": {
            "text/html": [
              "<div>\n",
              "<style scoped>\n",
              "    .dataframe tbody tr th:only-of-type {\n",
              "        vertical-align: middle;\n",
              "    }\n",
              "\n",
              "    .dataframe tbody tr th {\n",
              "        vertical-align: top;\n",
              "    }\n",
              "\n",
              "    .dataframe thead th {\n",
              "        text-align: right;\n",
              "    }\n",
              "</style>\n",
              "<table border=\"1\" class=\"dataframe\">\n",
              "  <thead>\n",
              "    <tr style=\"text-align: right;\">\n",
              "      <th></th>\n",
              "      <th>revenue</th>\n",
              "      <th>employee_count</th>\n",
              "    </tr>\n",
              "  </thead>\n",
              "  <tbody>\n",
              "    <tr>\n",
              "      <th>Amsterdam</th>\n",
              "      <td>4200</td>\n",
              "      <td>5.0</td>\n",
              "    </tr>\n",
              "    <tr>\n",
              "      <th>Tokyo</th>\n",
              "      <td>6500</td>\n",
              "      <td>8.0</td>\n",
              "    </tr>\n",
              "    <tr>\n",
              "      <th>Toronto</th>\n",
              "      <td>8000</td>\n",
              "      <td>NaN</td>\n",
              "    </tr>\n",
              "    <tr>\n",
              "      <th>New York</th>\n",
              "      <td>7000</td>\n",
              "      <td>2.0</td>\n",
              "    </tr>\n",
              "    <tr>\n",
              "      <th>Barcelona</th>\n",
              "      <td>3400</td>\n",
              "      <td>2.0</td>\n",
              "    </tr>\n",
              "  </tbody>\n",
              "</table>\n",
              "</div>"
            ],
            "text/plain": [
              "           revenue  employee_count\n",
              "Amsterdam     4200             5.0\n",
              "Tokyo         6500             8.0\n",
              "Toronto       8000             NaN\n",
              "New York      7000             2.0\n",
              "Barcelona     3400             2.0"
            ]
          },
          "execution_count": 52,
          "metadata": {},
          "output_type": "execute_result"
        }
      ],
      "source": [
        "all_city_data = pd.concat([city_data, further_city_data], sort=False)\n",
        "all_city_data"
      ]
    },
    {
      "cell_type": "markdown",
      "metadata": {
        "id": "q6eVrCZv31LC"
      },
      "source": [
        "Now, the new variable `all_city_data` contains the values from both DataFrame objects.\n",
        "\n",
        "By default, `concat()` combines along axis=0. In other words, it appends rows. You can also use it to append columns by supplying the parameter `axis=1`:"
      ]
    },
    {
      "cell_type": "code",
      "execution_count": 53,
      "metadata": {
        "colab": {
          "base_uri": "https://localhost:8080/",
          "height": 204
        },
        "id": "rgSy-QN034UF",
        "outputId": "3f447f2a-cd9c-447b-85fd-a6fd464c2eef"
      },
      "outputs": [
        {
          "data": {
            "text/html": [
              "<div>\n",
              "<style scoped>\n",
              "    .dataframe tbody tr th:only-of-type {\n",
              "        vertical-align: middle;\n",
              "    }\n",
              "\n",
              "    .dataframe tbody tr th {\n",
              "        vertical-align: top;\n",
              "    }\n",
              "\n",
              "    .dataframe thead th {\n",
              "        text-align: right;\n",
              "    }\n",
              "</style>\n",
              "<table border=\"1\" class=\"dataframe\">\n",
              "  <thead>\n",
              "    <tr style=\"text-align: right;\">\n",
              "      <th></th>\n",
              "      <th>country</th>\n",
              "      <th>capital</th>\n",
              "    </tr>\n",
              "  </thead>\n",
              "  <tbody>\n",
              "    <tr>\n",
              "      <th>Amsterdam</th>\n",
              "      <td>Holland</td>\n",
              "      <td>1</td>\n",
              "    </tr>\n",
              "    <tr>\n",
              "      <th>Tokyo</th>\n",
              "      <td>Japan</td>\n",
              "      <td>1</td>\n",
              "    </tr>\n",
              "    <tr>\n",
              "      <th>Rotterdam</th>\n",
              "      <td>Holland</td>\n",
              "      <td>0</td>\n",
              "    </tr>\n",
              "    <tr>\n",
              "      <th>Toronto</th>\n",
              "      <td>Canada</td>\n",
              "      <td>0</td>\n",
              "    </tr>\n",
              "    <tr>\n",
              "      <th>Barcelona</th>\n",
              "      <td>Spain</td>\n",
              "      <td>0</td>\n",
              "    </tr>\n",
              "  </tbody>\n",
              "</table>\n",
              "</div>"
            ],
            "text/plain": [
              "           country  capital\n",
              "Amsterdam  Holland        1\n",
              "Tokyo        Japan        1\n",
              "Rotterdam  Holland        0\n",
              "Toronto     Canada        0\n",
              "Barcelona    Spain        0"
            ]
          },
          "execution_count": 53,
          "metadata": {},
          "output_type": "execute_result"
        }
      ],
      "source": [
        "city_countries = pd.DataFrame({\n",
        "    \"country\": [\"Holland\", \"Japan\", \"Holland\", \"Canada\", \"Spain\"],\n",
        "    \"capital\": [1, 1, 0, 0, 0]},\n",
        "    index=[\"Amsterdam\", \"Tokyo\", \"Rotterdam\", \"Toronto\", \"Barcelona\"]\n",
        ")\n",
        "\n",
        "city_countries"
      ]
    },
    {
      "cell_type": "code",
      "execution_count": 54,
      "metadata": {
        "colab": {
          "base_uri": "https://localhost:8080/",
          "height": 235
        },
        "id": "A3CXdKwL39vL",
        "outputId": "4899283e-7daf-4988-9135-c381a11b6121"
      },
      "outputs": [
        {
          "data": {
            "text/html": [
              "<div>\n",
              "<style scoped>\n",
              "    .dataframe tbody tr th:only-of-type {\n",
              "        vertical-align: middle;\n",
              "    }\n",
              "\n",
              "    .dataframe tbody tr th {\n",
              "        vertical-align: top;\n",
              "    }\n",
              "\n",
              "    .dataframe thead th {\n",
              "        text-align: right;\n",
              "    }\n",
              "</style>\n",
              "<table border=\"1\" class=\"dataframe\">\n",
              "  <thead>\n",
              "    <tr style=\"text-align: right;\">\n",
              "      <th></th>\n",
              "      <th>revenue</th>\n",
              "      <th>employee_count</th>\n",
              "      <th>country</th>\n",
              "      <th>capital</th>\n",
              "    </tr>\n",
              "  </thead>\n",
              "  <tbody>\n",
              "    <tr>\n",
              "      <th>Amsterdam</th>\n",
              "      <td>4200.0</td>\n",
              "      <td>5.0</td>\n",
              "      <td>Holland</td>\n",
              "      <td>1.0</td>\n",
              "    </tr>\n",
              "    <tr>\n",
              "      <th>Tokyo</th>\n",
              "      <td>6500.0</td>\n",
              "      <td>8.0</td>\n",
              "      <td>Japan</td>\n",
              "      <td>1.0</td>\n",
              "    </tr>\n",
              "    <tr>\n",
              "      <th>Toronto</th>\n",
              "      <td>8000.0</td>\n",
              "      <td>NaN</td>\n",
              "      <td>Canada</td>\n",
              "      <td>0.0</td>\n",
              "    </tr>\n",
              "    <tr>\n",
              "      <th>New York</th>\n",
              "      <td>7000.0</td>\n",
              "      <td>2.0</td>\n",
              "      <td>NaN</td>\n",
              "      <td>NaN</td>\n",
              "    </tr>\n",
              "    <tr>\n",
              "      <th>Barcelona</th>\n",
              "      <td>3400.0</td>\n",
              "      <td>2.0</td>\n",
              "      <td>Spain</td>\n",
              "      <td>0.0</td>\n",
              "    </tr>\n",
              "    <tr>\n",
              "      <th>Rotterdam</th>\n",
              "      <td>NaN</td>\n",
              "      <td>NaN</td>\n",
              "      <td>Holland</td>\n",
              "      <td>0.0</td>\n",
              "    </tr>\n",
              "  </tbody>\n",
              "</table>\n",
              "</div>"
            ],
            "text/plain": [
              "           revenue  employee_count  country  capital\n",
              "Amsterdam   4200.0             5.0  Holland      1.0\n",
              "Tokyo       6500.0             8.0    Japan      1.0\n",
              "Toronto     8000.0             NaN   Canada      0.0\n",
              "New York    7000.0             2.0      NaN      NaN\n",
              "Barcelona   3400.0             2.0    Spain      0.0\n",
              "Rotterdam      NaN             NaN  Holland      0.0"
            ]
          },
          "execution_count": 54,
          "metadata": {},
          "output_type": "execute_result"
        }
      ],
      "source": [
        "cities = pd.concat([all_city_data, city_countries], axis=1, sort=False)\n",
        "cities"
      ]
    },
    {
      "cell_type": "markdown",
      "metadata": {
        "id": "uD_OfdSi4BnX"
      },
      "source": [
        "Note how Pandas added NaN for the missing values.\n",
        "\n",
        "If you want to combine only the cities that appear in both DataFrame objects, then you can set the join parameter to inner:"
      ]
    },
    {
      "cell_type": "code",
      "execution_count": 55,
      "metadata": {
        "colab": {
          "base_uri": "https://localhost:8080/",
          "height": 173
        },
        "id": "wv643F9S4DT8",
        "outputId": "54e3deec-fc10-48b8-afb5-85f16e4fd9f0"
      },
      "outputs": [
        {
          "data": {
            "text/html": [
              "<div>\n",
              "<style scoped>\n",
              "    .dataframe tbody tr th:only-of-type {\n",
              "        vertical-align: middle;\n",
              "    }\n",
              "\n",
              "    .dataframe tbody tr th {\n",
              "        vertical-align: top;\n",
              "    }\n",
              "\n",
              "    .dataframe thead th {\n",
              "        text-align: right;\n",
              "    }\n",
              "</style>\n",
              "<table border=\"1\" class=\"dataframe\">\n",
              "  <thead>\n",
              "    <tr style=\"text-align: right;\">\n",
              "      <th></th>\n",
              "      <th>revenue</th>\n",
              "      <th>employee_count</th>\n",
              "      <th>country</th>\n",
              "      <th>capital</th>\n",
              "    </tr>\n",
              "  </thead>\n",
              "  <tbody>\n",
              "    <tr>\n",
              "      <th>Amsterdam</th>\n",
              "      <td>4200</td>\n",
              "      <td>5.0</td>\n",
              "      <td>Holland</td>\n",
              "      <td>1</td>\n",
              "    </tr>\n",
              "    <tr>\n",
              "      <th>Tokyo</th>\n",
              "      <td>6500</td>\n",
              "      <td>8.0</td>\n",
              "      <td>Japan</td>\n",
              "      <td>1</td>\n",
              "    </tr>\n",
              "    <tr>\n",
              "      <th>Toronto</th>\n",
              "      <td>8000</td>\n",
              "      <td>NaN</td>\n",
              "      <td>Canada</td>\n",
              "      <td>0</td>\n",
              "    </tr>\n",
              "    <tr>\n",
              "      <th>Barcelona</th>\n",
              "      <td>3400</td>\n",
              "      <td>2.0</td>\n",
              "      <td>Spain</td>\n",
              "      <td>0</td>\n",
              "    </tr>\n",
              "  </tbody>\n",
              "</table>\n",
              "</div>"
            ],
            "text/plain": [
              "           revenue  employee_count  country  capital\n",
              "Amsterdam     4200             5.0  Holland        1\n",
              "Tokyo         6500             8.0    Japan        1\n",
              "Toronto       8000             NaN   Canada        0\n",
              "Barcelona     3400             2.0    Spain        0"
            ]
          },
          "execution_count": 55,
          "metadata": {},
          "output_type": "execute_result"
        }
      ],
      "source": [
        "pd.concat([all_city_data, city_countries], axis=1, join=\"inner\")"
      ]
    },
    {
      "cell_type": "markdown",
      "metadata": {
        "id": "VYA7jdT04FSS"
      },
      "source": [
        "While it’s most straightforward to combine data based on the index, it’s not the only possibility. You can use `.merge()` to implement a join operation similar to the one from SQL:"
      ]
    },
    {
      "cell_type": "code",
      "execution_count": 56,
      "metadata": {
        "id": "hPifxZlo4GtX"
      },
      "outputs": [],
      "source": [
        "countries = pd.DataFrame({\n",
        "    \"population_millions\": [17, 127, 37],\n",
        "    \"continent\": [\"Europe\", \"Asia\", \"North America\"]\n",
        "}, index=[\"Holland\", \"Japan\", \"Canada\"])"
      ]
    },
    {
      "cell_type": "markdown",
      "metadata": {
        "id": "LVXEsKmA4Irt"
      },
      "source": [
        "Here, you pass the parameter `left_on=\"country\"` to `.merge()` to indicate what column you want to join on. The result is a bigger DataFrame that contains not only city data, but also the population and continent of the respective countries:"
      ]
    },
    {
      "cell_type": "code",
      "execution_count": 57,
      "metadata": {
        "colab": {
          "base_uri": "https://localhost:8080/",
          "height": 142
        },
        "id": "K39Zb_JC4KZ6",
        "outputId": "99155690-dc5e-4922-e214-61e6f2d13470"
      },
      "outputs": [
        {
          "data": {
            "text/html": [
              "<div>\n",
              "<style scoped>\n",
              "    .dataframe tbody tr th:only-of-type {\n",
              "        vertical-align: middle;\n",
              "    }\n",
              "\n",
              "    .dataframe tbody tr th {\n",
              "        vertical-align: top;\n",
              "    }\n",
              "\n",
              "    .dataframe thead th {\n",
              "        text-align: right;\n",
              "    }\n",
              "</style>\n",
              "<table border=\"1\" class=\"dataframe\">\n",
              "  <thead>\n",
              "    <tr style=\"text-align: right;\">\n",
              "      <th></th>\n",
              "      <th>population_millions</th>\n",
              "      <th>continent</th>\n",
              "    </tr>\n",
              "  </thead>\n",
              "  <tbody>\n",
              "    <tr>\n",
              "      <th>Holland</th>\n",
              "      <td>17</td>\n",
              "      <td>Europe</td>\n",
              "    </tr>\n",
              "    <tr>\n",
              "      <th>Japan</th>\n",
              "      <td>127</td>\n",
              "      <td>Asia</td>\n",
              "    </tr>\n",
              "    <tr>\n",
              "      <th>Canada</th>\n",
              "      <td>37</td>\n",
              "      <td>North America</td>\n",
              "    </tr>\n",
              "  </tbody>\n",
              "</table>\n",
              "</div>"
            ],
            "text/plain": [
              "         population_millions      continent\n",
              "Holland                   17         Europe\n",
              "Japan                    127           Asia\n",
              "Canada                    37  North America"
            ]
          },
          "execution_count": 57,
          "metadata": {},
          "output_type": "execute_result"
        }
      ],
      "source": [
        "countries"
      ]
    },
    {
      "cell_type": "code",
      "execution_count": 58,
      "metadata": {
        "colab": {
          "base_uri": "https://localhost:8080/",
          "height": 235
        },
        "id": "mZBCC1QL4LLU",
        "outputId": "5288a23d-188c-475f-ccc0-f85ee95fb5bf"
      },
      "outputs": [
        {
          "data": {
            "text/html": [
              "<div>\n",
              "<style scoped>\n",
              "    .dataframe tbody tr th:only-of-type {\n",
              "        vertical-align: middle;\n",
              "    }\n",
              "\n",
              "    .dataframe tbody tr th {\n",
              "        vertical-align: top;\n",
              "    }\n",
              "\n",
              "    .dataframe thead th {\n",
              "        text-align: right;\n",
              "    }\n",
              "</style>\n",
              "<table border=\"1\" class=\"dataframe\">\n",
              "  <thead>\n",
              "    <tr style=\"text-align: right;\">\n",
              "      <th></th>\n",
              "      <th>revenue</th>\n",
              "      <th>employee_count</th>\n",
              "      <th>country</th>\n",
              "      <th>capital</th>\n",
              "    </tr>\n",
              "  </thead>\n",
              "  <tbody>\n",
              "    <tr>\n",
              "      <th>Amsterdam</th>\n",
              "      <td>4200.0</td>\n",
              "      <td>5.0</td>\n",
              "      <td>Holland</td>\n",
              "      <td>1.0</td>\n",
              "    </tr>\n",
              "    <tr>\n",
              "      <th>Tokyo</th>\n",
              "      <td>6500.0</td>\n",
              "      <td>8.0</td>\n",
              "      <td>Japan</td>\n",
              "      <td>1.0</td>\n",
              "    </tr>\n",
              "    <tr>\n",
              "      <th>Toronto</th>\n",
              "      <td>8000.0</td>\n",
              "      <td>NaN</td>\n",
              "      <td>Canada</td>\n",
              "      <td>0.0</td>\n",
              "    </tr>\n",
              "    <tr>\n",
              "      <th>New York</th>\n",
              "      <td>7000.0</td>\n",
              "      <td>2.0</td>\n",
              "      <td>NaN</td>\n",
              "      <td>NaN</td>\n",
              "    </tr>\n",
              "    <tr>\n",
              "      <th>Barcelona</th>\n",
              "      <td>3400.0</td>\n",
              "      <td>2.0</td>\n",
              "      <td>Spain</td>\n",
              "      <td>0.0</td>\n",
              "    </tr>\n",
              "    <tr>\n",
              "      <th>Rotterdam</th>\n",
              "      <td>NaN</td>\n",
              "      <td>NaN</td>\n",
              "      <td>Holland</td>\n",
              "      <td>0.0</td>\n",
              "    </tr>\n",
              "  </tbody>\n",
              "</table>\n",
              "</div>"
            ],
            "text/plain": [
              "           revenue  employee_count  country  capital\n",
              "Amsterdam   4200.0             5.0  Holland      1.0\n",
              "Tokyo       6500.0             8.0    Japan      1.0\n",
              "Toronto     8000.0             NaN   Canada      0.0\n",
              "New York    7000.0             2.0      NaN      NaN\n",
              "Barcelona   3400.0             2.0    Spain      0.0\n",
              "Rotterdam      NaN             NaN  Holland      0.0"
            ]
          },
          "execution_count": 58,
          "metadata": {},
          "output_type": "execute_result"
        }
      ],
      "source": [
        "cities"
      ]
    },
    {
      "cell_type": "code",
      "execution_count": 59,
      "metadata": {
        "colab": {
          "base_uri": "https://localhost:8080/",
          "height": 173
        },
        "id": "imDFv3st4P_t",
        "outputId": "055fe7bf-0fd3-49a9-c1e2-693205226e17"
      },
      "outputs": [
        {
          "data": {
            "text/html": [
              "<div>\n",
              "<style scoped>\n",
              "    .dataframe tbody tr th:only-of-type {\n",
              "        vertical-align: middle;\n",
              "    }\n",
              "\n",
              "    .dataframe tbody tr th {\n",
              "        vertical-align: top;\n",
              "    }\n",
              "\n",
              "    .dataframe thead th {\n",
              "        text-align: right;\n",
              "    }\n",
              "</style>\n",
              "<table border=\"1\" class=\"dataframe\">\n",
              "  <thead>\n",
              "    <tr style=\"text-align: right;\">\n",
              "      <th></th>\n",
              "      <th>revenue</th>\n",
              "      <th>employee_count</th>\n",
              "      <th>country</th>\n",
              "      <th>capital</th>\n",
              "      <th>population_millions</th>\n",
              "      <th>continent</th>\n",
              "    </tr>\n",
              "  </thead>\n",
              "  <tbody>\n",
              "    <tr>\n",
              "      <th>Amsterdam</th>\n",
              "      <td>4200.0</td>\n",
              "      <td>5.0</td>\n",
              "      <td>Holland</td>\n",
              "      <td>1.0</td>\n",
              "      <td>17</td>\n",
              "      <td>Europe</td>\n",
              "    </tr>\n",
              "    <tr>\n",
              "      <th>Tokyo</th>\n",
              "      <td>6500.0</td>\n",
              "      <td>8.0</td>\n",
              "      <td>Japan</td>\n",
              "      <td>1.0</td>\n",
              "      <td>127</td>\n",
              "      <td>Asia</td>\n",
              "    </tr>\n",
              "    <tr>\n",
              "      <th>Toronto</th>\n",
              "      <td>8000.0</td>\n",
              "      <td>NaN</td>\n",
              "      <td>Canada</td>\n",
              "      <td>0.0</td>\n",
              "      <td>37</td>\n",
              "      <td>North America</td>\n",
              "    </tr>\n",
              "    <tr>\n",
              "      <th>Rotterdam</th>\n",
              "      <td>NaN</td>\n",
              "      <td>NaN</td>\n",
              "      <td>Holland</td>\n",
              "      <td>0.0</td>\n",
              "      <td>17</td>\n",
              "      <td>Europe</td>\n",
              "    </tr>\n",
              "  </tbody>\n",
              "</table>\n",
              "</div>"
            ],
            "text/plain": [
              "           revenue  employee_count  country  capital  population_millions  \\\n",
              "Amsterdam   4200.0             5.0  Holland      1.0                   17   \n",
              "Tokyo       6500.0             8.0    Japan      1.0                  127   \n",
              "Toronto     8000.0             NaN   Canada      0.0                   37   \n",
              "Rotterdam      NaN             NaN  Holland      0.0                   17   \n",
              "\n",
              "               continent  \n",
              "Amsterdam         Europe  \n",
              "Tokyo               Asia  \n",
              "Toronto    North America  \n",
              "Rotterdam         Europe  "
            ]
          },
          "execution_count": 59,
          "metadata": {},
          "output_type": "execute_result"
        }
      ],
      "source": [
        "pd.merge(cities, countries, left_on=\"country\", right_index=True)"
      ]
    },
    {
      "cell_type": "markdown",
      "metadata": {
        "id": "n-W7zFpA4SZ3"
      },
      "source": [
        "Note that the result contains only the cities where the country is known and appears in the joined DataFrame.\n",
        "\n",
        "`.merge()` performs an inner join by default. If you want to include all cities in the result, then you need to provide the how parameter:"
      ]
    },
    {
      "cell_type": "code",
      "execution_count": 60,
      "metadata": {
        "colab": {
          "base_uri": "https://localhost:8080/",
          "height": 235
        },
        "id": "CRNFJSQA4V9K",
        "outputId": "1852640e-faff-4af2-8c1d-b904b1b42e4d"
      },
      "outputs": [
        {
          "data": {
            "text/html": [
              "<div>\n",
              "<style scoped>\n",
              "    .dataframe tbody tr th:only-of-type {\n",
              "        vertical-align: middle;\n",
              "    }\n",
              "\n",
              "    .dataframe tbody tr th {\n",
              "        vertical-align: top;\n",
              "    }\n",
              "\n",
              "    .dataframe thead th {\n",
              "        text-align: right;\n",
              "    }\n",
              "</style>\n",
              "<table border=\"1\" class=\"dataframe\">\n",
              "  <thead>\n",
              "    <tr style=\"text-align: right;\">\n",
              "      <th></th>\n",
              "      <th>revenue</th>\n",
              "      <th>employee_count</th>\n",
              "      <th>country</th>\n",
              "      <th>capital</th>\n",
              "      <th>population_millions</th>\n",
              "      <th>continent</th>\n",
              "    </tr>\n",
              "  </thead>\n",
              "  <tbody>\n",
              "    <tr>\n",
              "      <th>Amsterdam</th>\n",
              "      <td>4200.0</td>\n",
              "      <td>5.0</td>\n",
              "      <td>Holland</td>\n",
              "      <td>1.0</td>\n",
              "      <td>17.0</td>\n",
              "      <td>Europe</td>\n",
              "    </tr>\n",
              "    <tr>\n",
              "      <th>Tokyo</th>\n",
              "      <td>6500.0</td>\n",
              "      <td>8.0</td>\n",
              "      <td>Japan</td>\n",
              "      <td>1.0</td>\n",
              "      <td>127.0</td>\n",
              "      <td>Asia</td>\n",
              "    </tr>\n",
              "    <tr>\n",
              "      <th>Toronto</th>\n",
              "      <td>8000.0</td>\n",
              "      <td>NaN</td>\n",
              "      <td>Canada</td>\n",
              "      <td>0.0</td>\n",
              "      <td>37.0</td>\n",
              "      <td>North America</td>\n",
              "    </tr>\n",
              "    <tr>\n",
              "      <th>New York</th>\n",
              "      <td>7000.0</td>\n",
              "      <td>2.0</td>\n",
              "      <td>NaN</td>\n",
              "      <td>NaN</td>\n",
              "      <td>NaN</td>\n",
              "      <td>NaN</td>\n",
              "    </tr>\n",
              "    <tr>\n",
              "      <th>Barcelona</th>\n",
              "      <td>3400.0</td>\n",
              "      <td>2.0</td>\n",
              "      <td>Spain</td>\n",
              "      <td>0.0</td>\n",
              "      <td>NaN</td>\n",
              "      <td>NaN</td>\n",
              "    </tr>\n",
              "    <tr>\n",
              "      <th>Rotterdam</th>\n",
              "      <td>NaN</td>\n",
              "      <td>NaN</td>\n",
              "      <td>Holland</td>\n",
              "      <td>0.0</td>\n",
              "      <td>17.0</td>\n",
              "      <td>Europe</td>\n",
              "    </tr>\n",
              "  </tbody>\n",
              "</table>\n",
              "</div>"
            ],
            "text/plain": [
              "           revenue  employee_count  country  capital  population_millions  \\\n",
              "Amsterdam   4200.0             5.0  Holland      1.0                 17.0   \n",
              "Tokyo       6500.0             8.0    Japan      1.0                127.0   \n",
              "Toronto     8000.0             NaN   Canada      0.0                 37.0   \n",
              "New York    7000.0             2.0      NaN      NaN                  NaN   \n",
              "Barcelona   3400.0             2.0    Spain      0.0                  NaN   \n",
              "Rotterdam      NaN             NaN  Holland      0.0                 17.0   \n",
              "\n",
              "               continent  \n",
              "Amsterdam         Europe  \n",
              "Tokyo               Asia  \n",
              "Toronto    North America  \n",
              "New York             NaN  \n",
              "Barcelona            NaN  \n",
              "Rotterdam         Europe  "
            ]
          },
          "execution_count": 60,
          "metadata": {},
          "output_type": "execute_result"
        }
      ],
      "source": [
        "pd.merge(\n",
        "    cities,\n",
        "    countries,\n",
        "    left_on=\"country\",\n",
        "    right_index=True,\n",
        "    how=\"left\"\n",
        ")"
      ]
    },
    {
      "cell_type": "markdown",
      "metadata": {
        "id": "sVwP87hG4XzZ"
      },
      "source": [
        "With this left join, you’ll see all the cities, including those without country data."
      ]
    }
  ],
  "metadata": {
    "colab": {
      "provenance": []
    },
    "kernelspec": {
      "display_name": "data_science",
      "language": "python",
      "name": "python3"
    },
    "language_info": {
      "codemirror_mode": {
        "name": "ipython",
        "version": 3
      },
      "file_extension": ".py",
      "mimetype": "text/x-python",
      "name": "python",
      "nbconvert_exporter": "python",
      "pygments_lexer": "ipython3",
      "version": "3.9.18"
    }
  },
  "nbformat": 4,
  "nbformat_minor": 0
}
